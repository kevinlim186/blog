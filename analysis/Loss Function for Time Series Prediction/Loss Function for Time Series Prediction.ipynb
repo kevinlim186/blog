{
 "cells": [
  {
   "cell_type": "code",
   "execution_count": 1,
   "metadata": {},
   "outputs": [],
   "source": [
    "import numpy as np\n",
    "import plotly.graph_objects as go\n",
    "import uuid"
   ]
  },
  {
   "cell_type": "code",
   "execution_count": 2,
   "metadata": {},
   "outputs": [],
   "source": [
    "\n",
    "def plot_error_symmetry(error_func):\n",
    "    \"\"\"\n",
    "    Parameters:\n",
    "    - error_func: function to calculate error given true and predicted values (e.g., mse)\n",
    "    \"\"\"\n",
    "    # Create a range of actual values\n",
    "    actual_values = np.arange(100, 0, -10)  # Actual values from 100 to 10 in decrements of 10\n",
    "    predicted_values = actual_values[::-1]  # Reverse to create predicted values\n",
    "\n",
    "    # Calculate differences centered around 0\n",
    "    differences = predicted_values - actual_values\n",
    "    over_diff = np.where(differences > 0, differences, np.nan)  # Positive differences (over-prediction)\n",
    "    under_diff = np.where(differences < 0, differences, np.nan)  # Negative differences (under-prediction)\n",
    "\n",
    "    # Calculate errors for each case and convert to integers\n",
    "    over_error = [\n",
    "        int(np.round(error_func(np.array([t]), np.array([p])))) if not np.isnan(d) else np.nan \n",
    "        for t, p, d in zip(actual_values, predicted_values, over_diff)\n",
    "    ]\n",
    "    under_error = [\n",
    "        int(np.round(error_func(np.array([t]), np.array([p])))) if not np.isnan(d) else np.nan \n",
    "        for t, p, d in zip(actual_values, predicted_values, under_diff)\n",
    "    ]\n",
    "\n",
    "    # Create a Plotly figure\n",
    "    fig = go.Figure()\n",
    "\n",
    "    # Add trace for over-prediction errors with lines connecting the dots\n",
    "    fig.add_trace(go.Scatter(\n",
    "        x=over_diff,\n",
    "        y=over_error,\n",
    "        mode='lines+markers',  # Connect markers with lines\n",
    "        marker=dict(size=10, color='rgba(255, 165, 0, 0.8)', line=dict(width=1, color='rgba(255, 165, 0, 1)')),\n",
    "        name='Over-Prediction Error',\n",
    "        text=[f'Pred: {pred}, Actual: {actual}, Error: {error}' \n",
    "              for pred, actual, error in zip(predicted_values, actual_values, over_error)],\n",
    "        hoverinfo='text'  # Show text on hover\n",
    "    ))\n",
    "\n",
    "    # Add trace for under-prediction errors with lines connecting the dots\n",
    "    fig.add_trace(go.Scatter(\n",
    "        x=under_diff,\n",
    "        y=under_error,\n",
    "        mode='lines+markers',  # Connect markers with lines\n",
    "        marker=dict(size=10, color='rgba(0, 128, 255, 0.8)', line=dict(width=1, color='rgba(0, 128, 255, 1)')),\n",
    "        name='Under-Prediction Error',\n",
    "        text=[f'Pred: {pred}, Actual: {actual}, Error: {error}' \n",
    "              for pred, actual, error in zip(predicted_values, actual_values, under_error)],\n",
    "        hoverinfo='text'  # Show text on hover\n",
    "    ))\n",
    "\n",
    "    # Update layout for a professional appearance\n",
    "    fig.update_layout(\n",
    "        title=f\"Error Analysis: {' '.join(error_func.__name__.split('_')).title()} for Over- and Under-Prediction\",\n",
    "        title_x=0.5,  # Center title\n",
    "        title_font=dict(size=16, family='\"Segoe UI\", \"Roboto\", \"Oxygen\", \"Ubuntu\", \"Droid Sans\", \"Helvetica Neue\", sans-serif', weight='bold'),  # Bold title\n",
    "        xaxis_title=\"Difference between Predicted and Actual Values\",\n",
    "        yaxis_title=\"Error\",\n",
    "        template=\"plotly_white\",\n",
    "        font=dict(size=14, family='\"Segoe UI\", \"Roboto\", \"Oxygen\", \"Ubuntu\", \"Droid Sans\", \"Helvetica Neue\", sans-serif'),\n",
    "        showlegend=False,  # Hide the legend\n",
    "        xaxis=dict(tickmode='array', gridcolor='lightgrey'),\n",
    "        yaxis=dict(gridcolor='lightgrey', zeroline=True, zerolinecolor='black', zerolinewidth=1),\n",
    "        plot_bgcolor='rgba(240, 240, 240, 0.95)'  # Light background\n",
    "    )\n",
    "\n",
    "    # Combine errors, calculating median, min, max, and midpoint\n",
    "    combined_error = np.concatenate((over_error, under_error))\n",
    "\n",
    "    median_combined_error = np.nanmedian(combined_error)  # Get median of combined array\n",
    "    min_combined_error = np.nanmin(combined_error)  # Get minimum of combined array\n",
    "    max_combined_error = np.nanmax(combined_error)  # Get maximum of combined array\n",
    "    midpoint_combined_error = (min_combined_error + max_combined_error) / 2  # Get midpoint\n",
    "\n",
    "    # Prepare tick labels for predicted and actual values\n",
    "    tick_labels = []\n",
    "    tick_vals = []\n",
    "    for actual, predicted, diff in zip(actual_values, predicted_values, differences):\n",
    "        if not np.isnan(diff):\n",
    "            tick_vals.append(diff)\n",
    "            tick_labels.append(f'Pred: {predicted}, Actual: {actual}')\n",
    "\n",
    "    # Set tick values and labels, only show every other tick for legibility\n",
    "    fig.update_xaxes(tickvals=tick_vals[::2], ticktext=tick_labels[::2])  # Show every other tick for clarity\n",
    "\n",
    "    # Add annotations for sections, positioned in the center of the rectangles\n",
    "    fig.add_annotation(\n",
    "        y=midpoint_combined_error, \n",
    "        x=-50,\n",
    "        text=\"Under-Prediction\",\n",
    "        showarrow=False,\n",
    "        font=dict(size=14, color=\"black\"),\n",
    "        align=\"center\"\n",
    "    )\n",
    "    fig.add_annotation(\n",
    "        y=midpoint_combined_error, \n",
    "        x=50,\n",
    "        text=\"Over-Prediction\",\n",
    "        showarrow=False,\n",
    "        font=dict(size=14, color=\"black\"),\n",
    "        align=\"center\"\n",
    "    )\n",
    "\n",
    "    # Add a shaded area for under-prediction\n",
    "    fig.add_shape(\n",
    "        type=\"rect\",\n",
    "        x0=-np.max(np.abs(differences)), y0=0, x1=0, y1=midpoint_combined_error * 2,\n",
    "        fillcolor=\"rgba(0, 128, 255, 0.2)\", line=dict(color=\"rgba(0, 128, 255, 1)\", width=1),\n",
    "        layer=\"below\",  # Ensure it appears below the scatter plots\n",
    "    )\n",
    "\n",
    "    # Add a shaded area for over-prediction\n",
    "    fig.add_shape(\n",
    "        type=\"rect\",\n",
    "        x0=0, y0=-np.max(over_error), x1=np.max(np.abs(differences)), y1=midpoint_combined_error * 2,\n",
    "        fillcolor=\"rgba(255, 165, 0, 0.2)\", line=dict(color=\"rgba(255, 165, 0, 1)\", width=1),\n",
    "        layer=\"below\",  # Ensure it appears below the scatter plots\n",
    "    )\n",
    "\n",
    "    # Create HTML for embedding\n",
    "    graph_id = str(uuid.uuid4())\n",
    "    html_str = f\"\"\"\n",
    "    <div style=\"width: 100%; height: auto;\">\n",
    "        <script type=\"text/javascript\">window.PlotlyConfig = {{MathJaxConfig: 'local'}};</script>\n",
    "        <div id=\"{graph_id}\" class=\"plotly-graph-div\" style=\"width: 100%; height: auto;\"></div>\n",
    "        <script type=\"text/javascript\">\n",
    "            window.PLOTLYENV=window.PLOTLYENV || {{}};\n",
    "            if (document.getElementById(\"{graph_id}\")) {{\n",
    "                Plotly.newPlot(\n",
    "                    \"{graph_id}\",\n",
    "                    {fig.to_json()}\n",
    "                )\n",
    "            }};\n",
    "        </script>\n",
    "    </div>\n",
    "    \"\"\"\n",
    "    \n",
    "    # Display the figure in the notebook or Python environment\n",
    "    fig.show()\n",
    "\n",
    "    # Return the HTML string for embedding\n",
    "    return html_str\n"
   ]
  },
  {
   "cell_type": "code",
   "execution_count": 3,
   "metadata": {},
   "outputs": [
    {
     "data": {
      "application/vnd.plotly.v1+json": {
       "config": {
        "plotlyServerURL": "https://plot.ly"
       },
       "data": [
        {
         "hoverinfo": "text",
         "marker": {
          "color": "rgba(255, 165, 0, 0.8)",
          "line": {
           "color": "rgba(255, 165, 0, 1)",
           "width": 1
          },
          "size": 10
         },
         "mode": "lines+markers",
         "name": "Over-Prediction Error",
         "text": [
          "Pred: 10, Actual: 100, Error: nan",
          "Pred: 20, Actual: 90, Error: nan",
          "Pred: 30, Actual: 80, Error: nan",
          "Pred: 40, Actual: 70, Error: nan",
          "Pred: 50, Actual: 60, Error: nan",
          "Pred: 60, Actual: 50, Error: 10",
          "Pred: 70, Actual: 40, Error: 30",
          "Pred: 80, Actual: 30, Error: 50",
          "Pred: 90, Actual: 20, Error: 70",
          "Pred: 100, Actual: 10, Error: 90"
         ],
         "type": "scatter",
         "x": [
          null,
          null,
          null,
          null,
          null,
          10,
          30,
          50,
          70,
          90
         ],
         "y": [
          null,
          null,
          null,
          null,
          null,
          10,
          30,
          50,
          70,
          90
         ]
        },
        {
         "hoverinfo": "text",
         "marker": {
          "color": "rgba(0, 128, 255, 0.8)",
          "line": {
           "color": "rgba(0, 128, 255, 1)",
           "width": 1
          },
          "size": 10
         },
         "mode": "lines+markers",
         "name": "Under-Prediction Error",
         "text": [
          "Pred: 10, Actual: 100, Error: 90",
          "Pred: 20, Actual: 90, Error: 70",
          "Pred: 30, Actual: 80, Error: 50",
          "Pred: 40, Actual: 70, Error: 30",
          "Pred: 50, Actual: 60, Error: 10",
          "Pred: 60, Actual: 50, Error: nan",
          "Pred: 70, Actual: 40, Error: nan",
          "Pred: 80, Actual: 30, Error: nan",
          "Pred: 90, Actual: 20, Error: nan",
          "Pred: 100, Actual: 10, Error: nan"
         ],
         "type": "scatter",
         "x": [
          -90,
          -70,
          -50,
          -30,
          -10,
          null,
          null,
          null,
          null,
          null
         ],
         "y": [
          90,
          70,
          50,
          30,
          10,
          null,
          null,
          null,
          null,
          null
         ]
        }
       ],
       "layout": {
        "annotations": [
         {
          "align": "center",
          "font": {
           "color": "black",
           "size": 14
          },
          "showarrow": false,
          "text": "Under-Prediction",
          "x": -50,
          "y": 50
         },
         {
          "align": "center",
          "font": {
           "color": "black",
           "size": 14
          },
          "showarrow": false,
          "text": "Over-Prediction",
          "x": 50,
          "y": 50
         }
        ],
        "font": {
         "family": "\"Segoe UI\", \"Roboto\", \"Oxygen\", \"Ubuntu\", \"Droid Sans\", \"Helvetica Neue\", sans-serif",
         "size": 14
        },
        "plot_bgcolor": "rgba(240, 240, 240, 0.95)",
        "shapes": [
         {
          "fillcolor": "rgba(0, 128, 255, 0.2)",
          "layer": "below",
          "line": {
           "color": "rgba(0, 128, 255, 1)",
           "width": 1
          },
          "type": "rect",
          "x0": -90,
          "x1": 0,
          "y0": 0,
          "y1": 100
         },
         {
          "fillcolor": "rgba(255, 165, 0, 0.2)",
          "layer": "below",
          "line": {
           "color": "rgba(255, 165, 0, 1)",
           "width": 1
          },
          "type": "rect",
          "x0": 0,
          "x1": 90,
          "y0": null,
          "y1": 100
         }
        ],
        "showlegend": false,
        "template": {
         "data": {
          "bar": [
           {
            "error_x": {
             "color": "#2a3f5f"
            },
            "error_y": {
             "color": "#2a3f5f"
            },
            "marker": {
             "line": {
              "color": "white",
              "width": 0.5
             },
             "pattern": {
              "fillmode": "overlay",
              "size": 10,
              "solidity": 0.2
             }
            },
            "type": "bar"
           }
          ],
          "barpolar": [
           {
            "marker": {
             "line": {
              "color": "white",
              "width": 0.5
             },
             "pattern": {
              "fillmode": "overlay",
              "size": 10,
              "solidity": 0.2
             }
            },
            "type": "barpolar"
           }
          ],
          "carpet": [
           {
            "aaxis": {
             "endlinecolor": "#2a3f5f",
             "gridcolor": "#C8D4E3",
             "linecolor": "#C8D4E3",
             "minorgridcolor": "#C8D4E3",
             "startlinecolor": "#2a3f5f"
            },
            "baxis": {
             "endlinecolor": "#2a3f5f",
             "gridcolor": "#C8D4E3",
             "linecolor": "#C8D4E3",
             "minorgridcolor": "#C8D4E3",
             "startlinecolor": "#2a3f5f"
            },
            "type": "carpet"
           }
          ],
          "choropleth": [
           {
            "colorbar": {
             "outlinewidth": 0,
             "ticks": ""
            },
            "type": "choropleth"
           }
          ],
          "contour": [
           {
            "colorbar": {
             "outlinewidth": 0,
             "ticks": ""
            },
            "colorscale": [
             [
              0,
              "#0d0887"
             ],
             [
              0.1111111111111111,
              "#46039f"
             ],
             [
              0.2222222222222222,
              "#7201a8"
             ],
             [
              0.3333333333333333,
              "#9c179e"
             ],
             [
              0.4444444444444444,
              "#bd3786"
             ],
             [
              0.5555555555555556,
              "#d8576b"
             ],
             [
              0.6666666666666666,
              "#ed7953"
             ],
             [
              0.7777777777777778,
              "#fb9f3a"
             ],
             [
              0.8888888888888888,
              "#fdca26"
             ],
             [
              1,
              "#f0f921"
             ]
            ],
            "type": "contour"
           }
          ],
          "contourcarpet": [
           {
            "colorbar": {
             "outlinewidth": 0,
             "ticks": ""
            },
            "type": "contourcarpet"
           }
          ],
          "heatmap": [
           {
            "colorbar": {
             "outlinewidth": 0,
             "ticks": ""
            },
            "colorscale": [
             [
              0,
              "#0d0887"
             ],
             [
              0.1111111111111111,
              "#46039f"
             ],
             [
              0.2222222222222222,
              "#7201a8"
             ],
             [
              0.3333333333333333,
              "#9c179e"
             ],
             [
              0.4444444444444444,
              "#bd3786"
             ],
             [
              0.5555555555555556,
              "#d8576b"
             ],
             [
              0.6666666666666666,
              "#ed7953"
             ],
             [
              0.7777777777777778,
              "#fb9f3a"
             ],
             [
              0.8888888888888888,
              "#fdca26"
             ],
             [
              1,
              "#f0f921"
             ]
            ],
            "type": "heatmap"
           }
          ],
          "heatmapgl": [
           {
            "colorbar": {
             "outlinewidth": 0,
             "ticks": ""
            },
            "colorscale": [
             [
              0,
              "#0d0887"
             ],
             [
              0.1111111111111111,
              "#46039f"
             ],
             [
              0.2222222222222222,
              "#7201a8"
             ],
             [
              0.3333333333333333,
              "#9c179e"
             ],
             [
              0.4444444444444444,
              "#bd3786"
             ],
             [
              0.5555555555555556,
              "#d8576b"
             ],
             [
              0.6666666666666666,
              "#ed7953"
             ],
             [
              0.7777777777777778,
              "#fb9f3a"
             ],
             [
              0.8888888888888888,
              "#fdca26"
             ],
             [
              1,
              "#f0f921"
             ]
            ],
            "type": "heatmapgl"
           }
          ],
          "histogram": [
           {
            "marker": {
             "pattern": {
              "fillmode": "overlay",
              "size": 10,
              "solidity": 0.2
             }
            },
            "type": "histogram"
           }
          ],
          "histogram2d": [
           {
            "colorbar": {
             "outlinewidth": 0,
             "ticks": ""
            },
            "colorscale": [
             [
              0,
              "#0d0887"
             ],
             [
              0.1111111111111111,
              "#46039f"
             ],
             [
              0.2222222222222222,
              "#7201a8"
             ],
             [
              0.3333333333333333,
              "#9c179e"
             ],
             [
              0.4444444444444444,
              "#bd3786"
             ],
             [
              0.5555555555555556,
              "#d8576b"
             ],
             [
              0.6666666666666666,
              "#ed7953"
             ],
             [
              0.7777777777777778,
              "#fb9f3a"
             ],
             [
              0.8888888888888888,
              "#fdca26"
             ],
             [
              1,
              "#f0f921"
             ]
            ],
            "type": "histogram2d"
           }
          ],
          "histogram2dcontour": [
           {
            "colorbar": {
             "outlinewidth": 0,
             "ticks": ""
            },
            "colorscale": [
             [
              0,
              "#0d0887"
             ],
             [
              0.1111111111111111,
              "#46039f"
             ],
             [
              0.2222222222222222,
              "#7201a8"
             ],
             [
              0.3333333333333333,
              "#9c179e"
             ],
             [
              0.4444444444444444,
              "#bd3786"
             ],
             [
              0.5555555555555556,
              "#d8576b"
             ],
             [
              0.6666666666666666,
              "#ed7953"
             ],
             [
              0.7777777777777778,
              "#fb9f3a"
             ],
             [
              0.8888888888888888,
              "#fdca26"
             ],
             [
              1,
              "#f0f921"
             ]
            ],
            "type": "histogram2dcontour"
           }
          ],
          "mesh3d": [
           {
            "colorbar": {
             "outlinewidth": 0,
             "ticks": ""
            },
            "type": "mesh3d"
           }
          ],
          "parcoords": [
           {
            "line": {
             "colorbar": {
              "outlinewidth": 0,
              "ticks": ""
             }
            },
            "type": "parcoords"
           }
          ],
          "pie": [
           {
            "automargin": true,
            "type": "pie"
           }
          ],
          "scatter": [
           {
            "fillpattern": {
             "fillmode": "overlay",
             "size": 10,
             "solidity": 0.2
            },
            "type": "scatter"
           }
          ],
          "scatter3d": [
           {
            "line": {
             "colorbar": {
              "outlinewidth": 0,
              "ticks": ""
             }
            },
            "marker": {
             "colorbar": {
              "outlinewidth": 0,
              "ticks": ""
             }
            },
            "type": "scatter3d"
           }
          ],
          "scattercarpet": [
           {
            "marker": {
             "colorbar": {
              "outlinewidth": 0,
              "ticks": ""
             }
            },
            "type": "scattercarpet"
           }
          ],
          "scattergeo": [
           {
            "marker": {
             "colorbar": {
              "outlinewidth": 0,
              "ticks": ""
             }
            },
            "type": "scattergeo"
           }
          ],
          "scattergl": [
           {
            "marker": {
             "colorbar": {
              "outlinewidth": 0,
              "ticks": ""
             }
            },
            "type": "scattergl"
           }
          ],
          "scattermapbox": [
           {
            "marker": {
             "colorbar": {
              "outlinewidth": 0,
              "ticks": ""
             }
            },
            "type": "scattermapbox"
           }
          ],
          "scatterpolar": [
           {
            "marker": {
             "colorbar": {
              "outlinewidth": 0,
              "ticks": ""
             }
            },
            "type": "scatterpolar"
           }
          ],
          "scatterpolargl": [
           {
            "marker": {
             "colorbar": {
              "outlinewidth": 0,
              "ticks": ""
             }
            },
            "type": "scatterpolargl"
           }
          ],
          "scatterternary": [
           {
            "marker": {
             "colorbar": {
              "outlinewidth": 0,
              "ticks": ""
             }
            },
            "type": "scatterternary"
           }
          ],
          "surface": [
           {
            "colorbar": {
             "outlinewidth": 0,
             "ticks": ""
            },
            "colorscale": [
             [
              0,
              "#0d0887"
             ],
             [
              0.1111111111111111,
              "#46039f"
             ],
             [
              0.2222222222222222,
              "#7201a8"
             ],
             [
              0.3333333333333333,
              "#9c179e"
             ],
             [
              0.4444444444444444,
              "#bd3786"
             ],
             [
              0.5555555555555556,
              "#d8576b"
             ],
             [
              0.6666666666666666,
              "#ed7953"
             ],
             [
              0.7777777777777778,
              "#fb9f3a"
             ],
             [
              0.8888888888888888,
              "#fdca26"
             ],
             [
              1,
              "#f0f921"
             ]
            ],
            "type": "surface"
           }
          ],
          "table": [
           {
            "cells": {
             "fill": {
              "color": "#EBF0F8"
             },
             "line": {
              "color": "white"
             }
            },
            "header": {
             "fill": {
              "color": "#C8D4E3"
             },
             "line": {
              "color": "white"
             }
            },
            "type": "table"
           }
          ]
         },
         "layout": {
          "annotationdefaults": {
           "arrowcolor": "#2a3f5f",
           "arrowhead": 0,
           "arrowwidth": 1
          },
          "autotypenumbers": "strict",
          "coloraxis": {
           "colorbar": {
            "outlinewidth": 0,
            "ticks": ""
           }
          },
          "colorscale": {
           "diverging": [
            [
             0,
             "#8e0152"
            ],
            [
             0.1,
             "#c51b7d"
            ],
            [
             0.2,
             "#de77ae"
            ],
            [
             0.3,
             "#f1b6da"
            ],
            [
             0.4,
             "#fde0ef"
            ],
            [
             0.5,
             "#f7f7f7"
            ],
            [
             0.6,
             "#e6f5d0"
            ],
            [
             0.7,
             "#b8e186"
            ],
            [
             0.8,
             "#7fbc41"
            ],
            [
             0.9,
             "#4d9221"
            ],
            [
             1,
             "#276419"
            ]
           ],
           "sequential": [
            [
             0,
             "#0d0887"
            ],
            [
             0.1111111111111111,
             "#46039f"
            ],
            [
             0.2222222222222222,
             "#7201a8"
            ],
            [
             0.3333333333333333,
             "#9c179e"
            ],
            [
             0.4444444444444444,
             "#bd3786"
            ],
            [
             0.5555555555555556,
             "#d8576b"
            ],
            [
             0.6666666666666666,
             "#ed7953"
            ],
            [
             0.7777777777777778,
             "#fb9f3a"
            ],
            [
             0.8888888888888888,
             "#fdca26"
            ],
            [
             1,
             "#f0f921"
            ]
           ],
           "sequentialminus": [
            [
             0,
             "#0d0887"
            ],
            [
             0.1111111111111111,
             "#46039f"
            ],
            [
             0.2222222222222222,
             "#7201a8"
            ],
            [
             0.3333333333333333,
             "#9c179e"
            ],
            [
             0.4444444444444444,
             "#bd3786"
            ],
            [
             0.5555555555555556,
             "#d8576b"
            ],
            [
             0.6666666666666666,
             "#ed7953"
            ],
            [
             0.7777777777777778,
             "#fb9f3a"
            ],
            [
             0.8888888888888888,
             "#fdca26"
            ],
            [
             1,
             "#f0f921"
            ]
           ]
          },
          "colorway": [
           "#636efa",
           "#EF553B",
           "#00cc96",
           "#ab63fa",
           "#FFA15A",
           "#19d3f3",
           "#FF6692",
           "#B6E880",
           "#FF97FF",
           "#FECB52"
          ],
          "font": {
           "color": "#2a3f5f"
          },
          "geo": {
           "bgcolor": "white",
           "lakecolor": "white",
           "landcolor": "white",
           "showlakes": true,
           "showland": true,
           "subunitcolor": "#C8D4E3"
          },
          "hoverlabel": {
           "align": "left"
          },
          "hovermode": "closest",
          "mapbox": {
           "style": "light"
          },
          "paper_bgcolor": "white",
          "plot_bgcolor": "white",
          "polar": {
           "angularaxis": {
            "gridcolor": "#EBF0F8",
            "linecolor": "#EBF0F8",
            "ticks": ""
           },
           "bgcolor": "white",
           "radialaxis": {
            "gridcolor": "#EBF0F8",
            "linecolor": "#EBF0F8",
            "ticks": ""
           }
          },
          "scene": {
           "xaxis": {
            "backgroundcolor": "white",
            "gridcolor": "#DFE8F3",
            "gridwidth": 2,
            "linecolor": "#EBF0F8",
            "showbackground": true,
            "ticks": "",
            "zerolinecolor": "#EBF0F8"
           },
           "yaxis": {
            "backgroundcolor": "white",
            "gridcolor": "#DFE8F3",
            "gridwidth": 2,
            "linecolor": "#EBF0F8",
            "showbackground": true,
            "ticks": "",
            "zerolinecolor": "#EBF0F8"
           },
           "zaxis": {
            "backgroundcolor": "white",
            "gridcolor": "#DFE8F3",
            "gridwidth": 2,
            "linecolor": "#EBF0F8",
            "showbackground": true,
            "ticks": "",
            "zerolinecolor": "#EBF0F8"
           }
          },
          "shapedefaults": {
           "line": {
            "color": "#2a3f5f"
           }
          },
          "ternary": {
           "aaxis": {
            "gridcolor": "#DFE8F3",
            "linecolor": "#A2B1C6",
            "ticks": ""
           },
           "baxis": {
            "gridcolor": "#DFE8F3",
            "linecolor": "#A2B1C6",
            "ticks": ""
           },
           "bgcolor": "white",
           "caxis": {
            "gridcolor": "#DFE8F3",
            "linecolor": "#A2B1C6",
            "ticks": ""
           }
          },
          "title": {
           "x": 0.05
          },
          "xaxis": {
           "automargin": true,
           "gridcolor": "#EBF0F8",
           "linecolor": "#EBF0F8",
           "ticks": "",
           "title": {
            "standoff": 15
           },
           "zerolinecolor": "#EBF0F8",
           "zerolinewidth": 2
          },
          "yaxis": {
           "automargin": true,
           "gridcolor": "#EBF0F8",
           "linecolor": "#EBF0F8",
           "ticks": "",
           "title": {
            "standoff": 15
           },
           "zerolinecolor": "#EBF0F8",
           "zerolinewidth": 2
          }
         }
        },
        "title": {
         "font": {
          "family": "\"Segoe UI\", \"Roboto\", \"Oxygen\", \"Ubuntu\", \"Droid Sans\", \"Helvetica Neue\", sans-serif",
          "size": 16,
          "weight": "bold"
         },
         "text": "Error Analysis: Mean Absolute Error for Over- and Under-Prediction",
         "x": 0.5
        },
        "xaxis": {
         "gridcolor": "lightgrey",
         "tickmode": "array",
         "ticktext": [
          "Pred: 10, Actual: 100",
          "Pred: 30, Actual: 80",
          "Pred: 50, Actual: 60",
          "Pred: 70, Actual: 40",
          "Pred: 90, Actual: 20"
         ],
         "tickvals": [
          -90,
          -50,
          -10,
          30,
          70
         ],
         "title": {
          "text": "Difference between Predicted and Actual Values"
         }
        },
        "yaxis": {
         "gridcolor": "lightgrey",
         "title": {
          "text": "Error"
         },
         "zeroline": true,
         "zerolinecolor": "black",
         "zerolinewidth": 1
        }
       }
      }
     },
     "metadata": {},
     "output_type": "display_data"
    },
    {
     "name": "stdout",
     "output_type": "stream",
     "text": [
      "\n",
      "    <div style=\"width: 100%; height: auto;\">\n",
      "        <script type=\"text/javascript\">window.PlotlyConfig = {MathJaxConfig: 'local'};</script>\n",
      "        <div id=\"3e8e2c7c-dbf5-48ab-9fc8-3e5ad2a823c4\" class=\"plotly-graph-div\" style=\"width: 100%; height: auto;\"></div>\n",
      "        <script type=\"text/javascript\">\n",
      "            window.PLOTLYENV=window.PLOTLYENV || {};\n",
      "            if (document.getElementById(\"3e8e2c7c-dbf5-48ab-9fc8-3e5ad2a823c4\")) {\n",
      "                Plotly.newPlot(\n",
      "                    \"3e8e2c7c-dbf5-48ab-9fc8-3e5ad2a823c4\",\n",
      "                    {\"data\":[{\"hoverinfo\":\"text\",\"marker\":{\"color\":\"rgba(255, 165, 0, 0.8)\",\"line\":{\"color\":\"rgba(255, 165, 0, 1)\",\"width\":1},\"size\":10},\"mode\":\"lines+markers\",\"name\":\"Over-Prediction Error\",\"text\":[\"Pred: 10, Actual: 100, Error: nan\",\"Pred: 20, Actual: 90, Error: nan\",\"Pred: 30, Actual: 80, Error: nan\",\"Pred: 40, Actual: 70, Error: nan\",\"Pred: 50, Actual: 60, Error: nan\",\"Pred: 60, Actual: 50, Error: 10\",\"Pred: 70, Actual: 40, Error: 30\",\"Pred: 80, Actual: 30, Error: 50\",\"Pred: 90, Actual: 20, Error: 70\",\"Pred: 100, Actual: 10, Error: 90\"],\"x\":[null,null,null,null,null,10.0,30.0,50.0,70.0,90.0],\"y\":[null,null,null,null,null,10,30,50,70,90],\"type\":\"scatter\"},{\"hoverinfo\":\"text\",\"marker\":{\"color\":\"rgba(0, 128, 255, 0.8)\",\"line\":{\"color\":\"rgba(0, 128, 255, 1)\",\"width\":1},\"size\":10},\"mode\":\"lines+markers\",\"name\":\"Under-Prediction Error\",\"text\":[\"Pred: 10, Actual: 100, Error: 90\",\"Pred: 20, Actual: 90, Error: 70\",\"Pred: 30, Actual: 80, Error: 50\",\"Pred: 40, Actual: 70, Error: 30\",\"Pred: 50, Actual: 60, Error: 10\",\"Pred: 60, Actual: 50, Error: nan\",\"Pred: 70, Actual: 40, Error: nan\",\"Pred: 80, Actual: 30, Error: nan\",\"Pred: 90, Actual: 20, Error: nan\",\"Pred: 100, Actual: 10, Error: nan\"],\"x\":[-90.0,-70.0,-50.0,-30.0,-10.0,null,null,null,null,null],\"y\":[90,70,50,30,10,null,null,null,null,null],\"type\":\"scatter\"}],\"layout\":{\"template\":{\"data\":{\"barpolar\":[{\"marker\":{\"line\":{\"color\":\"white\",\"width\":0.5},\"pattern\":{\"fillmode\":\"overlay\",\"size\":10,\"solidity\":0.2}},\"type\":\"barpolar\"}],\"bar\":[{\"error_x\":{\"color\":\"#2a3f5f\"},\"error_y\":{\"color\":\"#2a3f5f\"},\"marker\":{\"line\":{\"color\":\"white\",\"width\":0.5},\"pattern\":{\"fillmode\":\"overlay\",\"size\":10,\"solidity\":0.2}},\"type\":\"bar\"}],\"carpet\":[{\"aaxis\":{\"endlinecolor\":\"#2a3f5f\",\"gridcolor\":\"#C8D4E3\",\"linecolor\":\"#C8D4E3\",\"minorgridcolor\":\"#C8D4E3\",\"startlinecolor\":\"#2a3f5f\"},\"baxis\":{\"endlinecolor\":\"#2a3f5f\",\"gridcolor\":\"#C8D4E3\",\"linecolor\":\"#C8D4E3\",\"minorgridcolor\":\"#C8D4E3\",\"startlinecolor\":\"#2a3f5f\"},\"type\":\"carpet\"}],\"choropleth\":[{\"colorbar\":{\"outlinewidth\":0,\"ticks\":\"\"},\"type\":\"choropleth\"}],\"contourcarpet\":[{\"colorbar\":{\"outlinewidth\":0,\"ticks\":\"\"},\"type\":\"contourcarpet\"}],\"contour\":[{\"colorbar\":{\"outlinewidth\":0,\"ticks\":\"\"},\"colorscale\":[[0.0,\"#0d0887\"],[0.1111111111111111,\"#46039f\"],[0.2222222222222222,\"#7201a8\"],[0.3333333333333333,\"#9c179e\"],[0.4444444444444444,\"#bd3786\"],[0.5555555555555556,\"#d8576b\"],[0.6666666666666666,\"#ed7953\"],[0.7777777777777778,\"#fb9f3a\"],[0.8888888888888888,\"#fdca26\"],[1.0,\"#f0f921\"]],\"type\":\"contour\"}],\"heatmapgl\":[{\"colorbar\":{\"outlinewidth\":0,\"ticks\":\"\"},\"colorscale\":[[0.0,\"#0d0887\"],[0.1111111111111111,\"#46039f\"],[0.2222222222222222,\"#7201a8\"],[0.3333333333333333,\"#9c179e\"],[0.4444444444444444,\"#bd3786\"],[0.5555555555555556,\"#d8576b\"],[0.6666666666666666,\"#ed7953\"],[0.7777777777777778,\"#fb9f3a\"],[0.8888888888888888,\"#fdca26\"],[1.0,\"#f0f921\"]],\"type\":\"heatmapgl\"}],\"heatmap\":[{\"colorbar\":{\"outlinewidth\":0,\"ticks\":\"\"},\"colorscale\":[[0.0,\"#0d0887\"],[0.1111111111111111,\"#46039f\"],[0.2222222222222222,\"#7201a8\"],[0.3333333333333333,\"#9c179e\"],[0.4444444444444444,\"#bd3786\"],[0.5555555555555556,\"#d8576b\"],[0.6666666666666666,\"#ed7953\"],[0.7777777777777778,\"#fb9f3a\"],[0.8888888888888888,\"#fdca26\"],[1.0,\"#f0f921\"]],\"type\":\"heatmap\"}],\"histogram2dcontour\":[{\"colorbar\":{\"outlinewidth\":0,\"ticks\":\"\"},\"colorscale\":[[0.0,\"#0d0887\"],[0.1111111111111111,\"#46039f\"],[0.2222222222222222,\"#7201a8\"],[0.3333333333333333,\"#9c179e\"],[0.4444444444444444,\"#bd3786\"],[0.5555555555555556,\"#d8576b\"],[0.6666666666666666,\"#ed7953\"],[0.7777777777777778,\"#fb9f3a\"],[0.8888888888888888,\"#fdca26\"],[1.0,\"#f0f921\"]],\"type\":\"histogram2dcontour\"}],\"histogram2d\":[{\"colorbar\":{\"outlinewidth\":0,\"ticks\":\"\"},\"colorscale\":[[0.0,\"#0d0887\"],[0.1111111111111111,\"#46039f\"],[0.2222222222222222,\"#7201a8\"],[0.3333333333333333,\"#9c179e\"],[0.4444444444444444,\"#bd3786\"],[0.5555555555555556,\"#d8576b\"],[0.6666666666666666,\"#ed7953\"],[0.7777777777777778,\"#fb9f3a\"],[0.8888888888888888,\"#fdca26\"],[1.0,\"#f0f921\"]],\"type\":\"histogram2d\"}],\"histogram\":[{\"marker\":{\"pattern\":{\"fillmode\":\"overlay\",\"size\":10,\"solidity\":0.2}},\"type\":\"histogram\"}],\"mesh3d\":[{\"colorbar\":{\"outlinewidth\":0,\"ticks\":\"\"},\"type\":\"mesh3d\"}],\"parcoords\":[{\"line\":{\"colorbar\":{\"outlinewidth\":0,\"ticks\":\"\"}},\"type\":\"parcoords\"}],\"pie\":[{\"automargin\":true,\"type\":\"pie\"}],\"scatter3d\":[{\"line\":{\"colorbar\":{\"outlinewidth\":0,\"ticks\":\"\"}},\"marker\":{\"colorbar\":{\"outlinewidth\":0,\"ticks\":\"\"}},\"type\":\"scatter3d\"}],\"scattercarpet\":[{\"marker\":{\"colorbar\":{\"outlinewidth\":0,\"ticks\":\"\"}},\"type\":\"scattercarpet\"}],\"scattergeo\":[{\"marker\":{\"colorbar\":{\"outlinewidth\":0,\"ticks\":\"\"}},\"type\":\"scattergeo\"}],\"scattergl\":[{\"marker\":{\"colorbar\":{\"outlinewidth\":0,\"ticks\":\"\"}},\"type\":\"scattergl\"}],\"scattermapbox\":[{\"marker\":{\"colorbar\":{\"outlinewidth\":0,\"ticks\":\"\"}},\"type\":\"scattermapbox\"}],\"scatterpolargl\":[{\"marker\":{\"colorbar\":{\"outlinewidth\":0,\"ticks\":\"\"}},\"type\":\"scatterpolargl\"}],\"scatterpolar\":[{\"marker\":{\"colorbar\":{\"outlinewidth\":0,\"ticks\":\"\"}},\"type\":\"scatterpolar\"}],\"scatter\":[{\"fillpattern\":{\"fillmode\":\"overlay\",\"size\":10,\"solidity\":0.2},\"type\":\"scatter\"}],\"scatterternary\":[{\"marker\":{\"colorbar\":{\"outlinewidth\":0,\"ticks\":\"\"}},\"type\":\"scatterternary\"}],\"surface\":[{\"colorbar\":{\"outlinewidth\":0,\"ticks\":\"\"},\"colorscale\":[[0.0,\"#0d0887\"],[0.1111111111111111,\"#46039f\"],[0.2222222222222222,\"#7201a8\"],[0.3333333333333333,\"#9c179e\"],[0.4444444444444444,\"#bd3786\"],[0.5555555555555556,\"#d8576b\"],[0.6666666666666666,\"#ed7953\"],[0.7777777777777778,\"#fb9f3a\"],[0.8888888888888888,\"#fdca26\"],[1.0,\"#f0f921\"]],\"type\":\"surface\"}],\"table\":[{\"cells\":{\"fill\":{\"color\":\"#EBF0F8\"},\"line\":{\"color\":\"white\"}},\"header\":{\"fill\":{\"color\":\"#C8D4E3\"},\"line\":{\"color\":\"white\"}},\"type\":\"table\"}]},\"layout\":{\"annotationdefaults\":{\"arrowcolor\":\"#2a3f5f\",\"arrowhead\":0,\"arrowwidth\":1},\"autotypenumbers\":\"strict\",\"coloraxis\":{\"colorbar\":{\"outlinewidth\":0,\"ticks\":\"\"}},\"colorscale\":{\"diverging\":[[0,\"#8e0152\"],[0.1,\"#c51b7d\"],[0.2,\"#de77ae\"],[0.3,\"#f1b6da\"],[0.4,\"#fde0ef\"],[0.5,\"#f7f7f7\"],[0.6,\"#e6f5d0\"],[0.7,\"#b8e186\"],[0.8,\"#7fbc41\"],[0.9,\"#4d9221\"],[1,\"#276419\"]],\"sequential\":[[0.0,\"#0d0887\"],[0.1111111111111111,\"#46039f\"],[0.2222222222222222,\"#7201a8\"],[0.3333333333333333,\"#9c179e\"],[0.4444444444444444,\"#bd3786\"],[0.5555555555555556,\"#d8576b\"],[0.6666666666666666,\"#ed7953\"],[0.7777777777777778,\"#fb9f3a\"],[0.8888888888888888,\"#fdca26\"],[1.0,\"#f0f921\"]],\"sequentialminus\":[[0.0,\"#0d0887\"],[0.1111111111111111,\"#46039f\"],[0.2222222222222222,\"#7201a8\"],[0.3333333333333333,\"#9c179e\"],[0.4444444444444444,\"#bd3786\"],[0.5555555555555556,\"#d8576b\"],[0.6666666666666666,\"#ed7953\"],[0.7777777777777778,\"#fb9f3a\"],[0.8888888888888888,\"#fdca26\"],[1.0,\"#f0f921\"]]},\"colorway\":[\"#636efa\",\"#EF553B\",\"#00cc96\",\"#ab63fa\",\"#FFA15A\",\"#19d3f3\",\"#FF6692\",\"#B6E880\",\"#FF97FF\",\"#FECB52\"],\"font\":{\"color\":\"#2a3f5f\"},\"geo\":{\"bgcolor\":\"white\",\"lakecolor\":\"white\",\"landcolor\":\"white\",\"showlakes\":true,\"showland\":true,\"subunitcolor\":\"#C8D4E3\"},\"hoverlabel\":{\"align\":\"left\"},\"hovermode\":\"closest\",\"mapbox\":{\"style\":\"light\"},\"paper_bgcolor\":\"white\",\"plot_bgcolor\":\"white\",\"polar\":{\"angularaxis\":{\"gridcolor\":\"#EBF0F8\",\"linecolor\":\"#EBF0F8\",\"ticks\":\"\"},\"bgcolor\":\"white\",\"radialaxis\":{\"gridcolor\":\"#EBF0F8\",\"linecolor\":\"#EBF0F8\",\"ticks\":\"\"}},\"scene\":{\"xaxis\":{\"backgroundcolor\":\"white\",\"gridcolor\":\"#DFE8F3\",\"gridwidth\":2,\"linecolor\":\"#EBF0F8\",\"showbackground\":true,\"ticks\":\"\",\"zerolinecolor\":\"#EBF0F8\"},\"yaxis\":{\"backgroundcolor\":\"white\",\"gridcolor\":\"#DFE8F3\",\"gridwidth\":2,\"linecolor\":\"#EBF0F8\",\"showbackground\":true,\"ticks\":\"\",\"zerolinecolor\":\"#EBF0F8\"},\"zaxis\":{\"backgroundcolor\":\"white\",\"gridcolor\":\"#DFE8F3\",\"gridwidth\":2,\"linecolor\":\"#EBF0F8\",\"showbackground\":true,\"ticks\":\"\",\"zerolinecolor\":\"#EBF0F8\"}},\"shapedefaults\":{\"line\":{\"color\":\"#2a3f5f\"}},\"ternary\":{\"aaxis\":{\"gridcolor\":\"#DFE8F3\",\"linecolor\":\"#A2B1C6\",\"ticks\":\"\"},\"baxis\":{\"gridcolor\":\"#DFE8F3\",\"linecolor\":\"#A2B1C6\",\"ticks\":\"\"},\"bgcolor\":\"white\",\"caxis\":{\"gridcolor\":\"#DFE8F3\",\"linecolor\":\"#A2B1C6\",\"ticks\":\"\"}},\"title\":{\"x\":0.05},\"xaxis\":{\"automargin\":true,\"gridcolor\":\"#EBF0F8\",\"linecolor\":\"#EBF0F8\",\"ticks\":\"\",\"title\":{\"standoff\":15},\"zerolinecolor\":\"#EBF0F8\",\"zerolinewidth\":2},\"yaxis\":{\"automargin\":true,\"gridcolor\":\"#EBF0F8\",\"linecolor\":\"#EBF0F8\",\"ticks\":\"\",\"title\":{\"standoff\":15},\"zerolinecolor\":\"#EBF0F8\",\"zerolinewidth\":2}}},\"title\":{\"text\":\"Error Analysis: Mean Absolute Error for Over- and Under-Prediction\",\"x\":0.5,\"font\":{\"size\":16,\"family\":\"\\\"Segoe UI\\\", \\\"Roboto\\\", \\\"Oxygen\\\", \\\"Ubuntu\\\", \\\"Droid Sans\\\", \\\"Helvetica Neue\\\", sans-serif\",\"weight\":\"bold\"}},\"font\":{\"size\":14,\"family\":\"\\\"Segoe UI\\\", \\\"Roboto\\\", \\\"Oxygen\\\", \\\"Ubuntu\\\", \\\"Droid Sans\\\", \\\"Helvetica Neue\\\", sans-serif\"},\"xaxis\":{\"title\":{\"text\":\"Difference between Predicted and Actual Values\"},\"tickmode\":\"array\",\"gridcolor\":\"lightgrey\",\"tickvals\":[-90,-50,-10,30,70],\"ticktext\":[\"Pred: 10, Actual: 100\",\"Pred: 30, Actual: 80\",\"Pred: 50, Actual: 60\",\"Pred: 70, Actual: 40\",\"Pred: 90, Actual: 20\"]},\"yaxis\":{\"title\":{\"text\":\"Error\"},\"gridcolor\":\"lightgrey\",\"zeroline\":true,\"zerolinecolor\":\"black\",\"zerolinewidth\":1},\"showlegend\":false,\"plot_bgcolor\":\"rgba(240, 240, 240, 0.95)\",\"annotations\":[{\"align\":\"center\",\"font\":{\"color\":\"black\",\"size\":14},\"showarrow\":false,\"text\":\"Under-Prediction\",\"x\":-50,\"y\":50.0},{\"align\":\"center\",\"font\":{\"color\":\"black\",\"size\":14},\"showarrow\":false,\"text\":\"Over-Prediction\",\"x\":50,\"y\":50.0}],\"shapes\":[{\"fillcolor\":\"rgba(0, 128, 255, 0.2)\",\"layer\":\"below\",\"line\":{\"color\":\"rgba(0, 128, 255, 1)\",\"width\":1},\"type\":\"rect\",\"x0\":-90,\"x1\":0,\"y0\":0,\"y1\":100.0},{\"fillcolor\":\"rgba(255, 165, 0, 0.2)\",\"layer\":\"below\",\"line\":{\"color\":\"rgba(255, 165, 0, 1)\",\"width\":1},\"type\":\"rect\",\"x0\":0,\"x1\":90,\"y0\":null,\"y1\":100.0}]}}\n",
      "                )\n",
      "            };\n",
      "        </script>\n",
      "    </div>\n",
      "    \n"
     ]
    }
   ],
   "source": [
    "def mean_absolute_error(actual, pred):\n",
    "    actual, pred = np.array(actual), np.array(pred)\n",
    "    mae = np.mean(np.abs(actual - pred))\n",
    "    return mae  # Return the mean absolute error\n",
    "\n",
    "html_str = plot_error_symmetry(mean_absolute_error)\n",
    "print(html_str)"
   ]
  },
  {
   "cell_type": "code",
   "execution_count": 4,
   "metadata": {},
   "outputs": [
    {
     "data": {
      "application/vnd.plotly.v1+json": {
       "config": {
        "plotlyServerURL": "https://plot.ly"
       },
       "data": [
        {
         "hoverinfo": "text",
         "marker": {
          "color": "rgba(255, 165, 0, 0.8)",
          "line": {
           "color": "rgba(255, 165, 0, 1)",
           "width": 1
          },
          "size": 10
         },
         "mode": "lines+markers",
         "name": "Over-Prediction Error",
         "text": [
          "Pred: 10, Actual: 100, Error: nan",
          "Pred: 20, Actual: 90, Error: nan",
          "Pred: 30, Actual: 80, Error: nan",
          "Pred: 40, Actual: 70, Error: nan",
          "Pred: 50, Actual: 60, Error: nan",
          "Pred: 60, Actual: 50, Error: 10",
          "Pred: 70, Actual: 40, Error: 30",
          "Pred: 80, Actual: 30, Error: 50",
          "Pred: 90, Actual: 20, Error: 70",
          "Pred: 100, Actual: 10, Error: 90"
         ],
         "type": "scatter",
         "x": [
          null,
          null,
          null,
          null,
          null,
          10,
          30,
          50,
          70,
          90
         ],
         "y": [
          null,
          null,
          null,
          null,
          null,
          10,
          30,
          50,
          70,
          90
         ]
        },
        {
         "hoverinfo": "text",
         "marker": {
          "color": "rgba(0, 128, 255, 0.8)",
          "line": {
           "color": "rgba(0, 128, 255, 1)",
           "width": 1
          },
          "size": 10
         },
         "mode": "lines+markers",
         "name": "Under-Prediction Error",
         "text": [
          "Pred: 10, Actual: 100, Error: 90",
          "Pred: 20, Actual: 90, Error: 70",
          "Pred: 30, Actual: 80, Error: 50",
          "Pred: 40, Actual: 70, Error: 30",
          "Pred: 50, Actual: 60, Error: 10",
          "Pred: 60, Actual: 50, Error: nan",
          "Pred: 70, Actual: 40, Error: nan",
          "Pred: 80, Actual: 30, Error: nan",
          "Pred: 90, Actual: 20, Error: nan",
          "Pred: 100, Actual: 10, Error: nan"
         ],
         "type": "scatter",
         "x": [
          -90,
          -70,
          -50,
          -30,
          -10,
          null,
          null,
          null,
          null,
          null
         ],
         "y": [
          90,
          70,
          50,
          30,
          10,
          null,
          null,
          null,
          null,
          null
         ]
        }
       ],
       "layout": {
        "annotations": [
         {
          "align": "center",
          "font": {
           "color": "black",
           "size": 14
          },
          "showarrow": false,
          "text": "Under-Prediction",
          "x": -50,
          "y": 50
         },
         {
          "align": "center",
          "font": {
           "color": "black",
           "size": 14
          },
          "showarrow": false,
          "text": "Over-Prediction",
          "x": 50,
          "y": 50
         }
        ],
        "font": {
         "family": "\"Segoe UI\", \"Roboto\", \"Oxygen\", \"Ubuntu\", \"Droid Sans\", \"Helvetica Neue\", sans-serif",
         "size": 14
        },
        "plot_bgcolor": "rgba(240, 240, 240, 0.95)",
        "shapes": [
         {
          "fillcolor": "rgba(0, 128, 255, 0.2)",
          "layer": "below",
          "line": {
           "color": "rgba(0, 128, 255, 1)",
           "width": 1
          },
          "type": "rect",
          "x0": -90,
          "x1": 0,
          "y0": 0,
          "y1": 100
         },
         {
          "fillcolor": "rgba(255, 165, 0, 0.2)",
          "layer": "below",
          "line": {
           "color": "rgba(255, 165, 0, 1)",
           "width": 1
          },
          "type": "rect",
          "x0": 0,
          "x1": 90,
          "y0": null,
          "y1": 100
         }
        ],
        "showlegend": false,
        "template": {
         "data": {
          "bar": [
           {
            "error_x": {
             "color": "#2a3f5f"
            },
            "error_y": {
             "color": "#2a3f5f"
            },
            "marker": {
             "line": {
              "color": "white",
              "width": 0.5
             },
             "pattern": {
              "fillmode": "overlay",
              "size": 10,
              "solidity": 0.2
             }
            },
            "type": "bar"
           }
          ],
          "barpolar": [
           {
            "marker": {
             "line": {
              "color": "white",
              "width": 0.5
             },
             "pattern": {
              "fillmode": "overlay",
              "size": 10,
              "solidity": 0.2
             }
            },
            "type": "barpolar"
           }
          ],
          "carpet": [
           {
            "aaxis": {
             "endlinecolor": "#2a3f5f",
             "gridcolor": "#C8D4E3",
             "linecolor": "#C8D4E3",
             "minorgridcolor": "#C8D4E3",
             "startlinecolor": "#2a3f5f"
            },
            "baxis": {
             "endlinecolor": "#2a3f5f",
             "gridcolor": "#C8D4E3",
             "linecolor": "#C8D4E3",
             "minorgridcolor": "#C8D4E3",
             "startlinecolor": "#2a3f5f"
            },
            "type": "carpet"
           }
          ],
          "choropleth": [
           {
            "colorbar": {
             "outlinewidth": 0,
             "ticks": ""
            },
            "type": "choropleth"
           }
          ],
          "contour": [
           {
            "colorbar": {
             "outlinewidth": 0,
             "ticks": ""
            },
            "colorscale": [
             [
              0,
              "#0d0887"
             ],
             [
              0.1111111111111111,
              "#46039f"
             ],
             [
              0.2222222222222222,
              "#7201a8"
             ],
             [
              0.3333333333333333,
              "#9c179e"
             ],
             [
              0.4444444444444444,
              "#bd3786"
             ],
             [
              0.5555555555555556,
              "#d8576b"
             ],
             [
              0.6666666666666666,
              "#ed7953"
             ],
             [
              0.7777777777777778,
              "#fb9f3a"
             ],
             [
              0.8888888888888888,
              "#fdca26"
             ],
             [
              1,
              "#f0f921"
             ]
            ],
            "type": "contour"
           }
          ],
          "contourcarpet": [
           {
            "colorbar": {
             "outlinewidth": 0,
             "ticks": ""
            },
            "type": "contourcarpet"
           }
          ],
          "heatmap": [
           {
            "colorbar": {
             "outlinewidth": 0,
             "ticks": ""
            },
            "colorscale": [
             [
              0,
              "#0d0887"
             ],
             [
              0.1111111111111111,
              "#46039f"
             ],
             [
              0.2222222222222222,
              "#7201a8"
             ],
             [
              0.3333333333333333,
              "#9c179e"
             ],
             [
              0.4444444444444444,
              "#bd3786"
             ],
             [
              0.5555555555555556,
              "#d8576b"
             ],
             [
              0.6666666666666666,
              "#ed7953"
             ],
             [
              0.7777777777777778,
              "#fb9f3a"
             ],
             [
              0.8888888888888888,
              "#fdca26"
             ],
             [
              1,
              "#f0f921"
             ]
            ],
            "type": "heatmap"
           }
          ],
          "heatmapgl": [
           {
            "colorbar": {
             "outlinewidth": 0,
             "ticks": ""
            },
            "colorscale": [
             [
              0,
              "#0d0887"
             ],
             [
              0.1111111111111111,
              "#46039f"
             ],
             [
              0.2222222222222222,
              "#7201a8"
             ],
             [
              0.3333333333333333,
              "#9c179e"
             ],
             [
              0.4444444444444444,
              "#bd3786"
             ],
             [
              0.5555555555555556,
              "#d8576b"
             ],
             [
              0.6666666666666666,
              "#ed7953"
             ],
             [
              0.7777777777777778,
              "#fb9f3a"
             ],
             [
              0.8888888888888888,
              "#fdca26"
             ],
             [
              1,
              "#f0f921"
             ]
            ],
            "type": "heatmapgl"
           }
          ],
          "histogram": [
           {
            "marker": {
             "pattern": {
              "fillmode": "overlay",
              "size": 10,
              "solidity": 0.2
             }
            },
            "type": "histogram"
           }
          ],
          "histogram2d": [
           {
            "colorbar": {
             "outlinewidth": 0,
             "ticks": ""
            },
            "colorscale": [
             [
              0,
              "#0d0887"
             ],
             [
              0.1111111111111111,
              "#46039f"
             ],
             [
              0.2222222222222222,
              "#7201a8"
             ],
             [
              0.3333333333333333,
              "#9c179e"
             ],
             [
              0.4444444444444444,
              "#bd3786"
             ],
             [
              0.5555555555555556,
              "#d8576b"
             ],
             [
              0.6666666666666666,
              "#ed7953"
             ],
             [
              0.7777777777777778,
              "#fb9f3a"
             ],
             [
              0.8888888888888888,
              "#fdca26"
             ],
             [
              1,
              "#f0f921"
             ]
            ],
            "type": "histogram2d"
           }
          ],
          "histogram2dcontour": [
           {
            "colorbar": {
             "outlinewidth": 0,
             "ticks": ""
            },
            "colorscale": [
             [
              0,
              "#0d0887"
             ],
             [
              0.1111111111111111,
              "#46039f"
             ],
             [
              0.2222222222222222,
              "#7201a8"
             ],
             [
              0.3333333333333333,
              "#9c179e"
             ],
             [
              0.4444444444444444,
              "#bd3786"
             ],
             [
              0.5555555555555556,
              "#d8576b"
             ],
             [
              0.6666666666666666,
              "#ed7953"
             ],
             [
              0.7777777777777778,
              "#fb9f3a"
             ],
             [
              0.8888888888888888,
              "#fdca26"
             ],
             [
              1,
              "#f0f921"
             ]
            ],
            "type": "histogram2dcontour"
           }
          ],
          "mesh3d": [
           {
            "colorbar": {
             "outlinewidth": 0,
             "ticks": ""
            },
            "type": "mesh3d"
           }
          ],
          "parcoords": [
           {
            "line": {
             "colorbar": {
              "outlinewidth": 0,
              "ticks": ""
             }
            },
            "type": "parcoords"
           }
          ],
          "pie": [
           {
            "automargin": true,
            "type": "pie"
           }
          ],
          "scatter": [
           {
            "fillpattern": {
             "fillmode": "overlay",
             "size": 10,
             "solidity": 0.2
            },
            "type": "scatter"
           }
          ],
          "scatter3d": [
           {
            "line": {
             "colorbar": {
              "outlinewidth": 0,
              "ticks": ""
             }
            },
            "marker": {
             "colorbar": {
              "outlinewidth": 0,
              "ticks": ""
             }
            },
            "type": "scatter3d"
           }
          ],
          "scattercarpet": [
           {
            "marker": {
             "colorbar": {
              "outlinewidth": 0,
              "ticks": ""
             }
            },
            "type": "scattercarpet"
           }
          ],
          "scattergeo": [
           {
            "marker": {
             "colorbar": {
              "outlinewidth": 0,
              "ticks": ""
             }
            },
            "type": "scattergeo"
           }
          ],
          "scattergl": [
           {
            "marker": {
             "colorbar": {
              "outlinewidth": 0,
              "ticks": ""
             }
            },
            "type": "scattergl"
           }
          ],
          "scattermapbox": [
           {
            "marker": {
             "colorbar": {
              "outlinewidth": 0,
              "ticks": ""
             }
            },
            "type": "scattermapbox"
           }
          ],
          "scatterpolar": [
           {
            "marker": {
             "colorbar": {
              "outlinewidth": 0,
              "ticks": ""
             }
            },
            "type": "scatterpolar"
           }
          ],
          "scatterpolargl": [
           {
            "marker": {
             "colorbar": {
              "outlinewidth": 0,
              "ticks": ""
             }
            },
            "type": "scatterpolargl"
           }
          ],
          "scatterternary": [
           {
            "marker": {
             "colorbar": {
              "outlinewidth": 0,
              "ticks": ""
             }
            },
            "type": "scatterternary"
           }
          ],
          "surface": [
           {
            "colorbar": {
             "outlinewidth": 0,
             "ticks": ""
            },
            "colorscale": [
             [
              0,
              "#0d0887"
             ],
             [
              0.1111111111111111,
              "#46039f"
             ],
             [
              0.2222222222222222,
              "#7201a8"
             ],
             [
              0.3333333333333333,
              "#9c179e"
             ],
             [
              0.4444444444444444,
              "#bd3786"
             ],
             [
              0.5555555555555556,
              "#d8576b"
             ],
             [
              0.6666666666666666,
              "#ed7953"
             ],
             [
              0.7777777777777778,
              "#fb9f3a"
             ],
             [
              0.8888888888888888,
              "#fdca26"
             ],
             [
              1,
              "#f0f921"
             ]
            ],
            "type": "surface"
           }
          ],
          "table": [
           {
            "cells": {
             "fill": {
              "color": "#EBF0F8"
             },
             "line": {
              "color": "white"
             }
            },
            "header": {
             "fill": {
              "color": "#C8D4E3"
             },
             "line": {
              "color": "white"
             }
            },
            "type": "table"
           }
          ]
         },
         "layout": {
          "annotationdefaults": {
           "arrowcolor": "#2a3f5f",
           "arrowhead": 0,
           "arrowwidth": 1
          },
          "autotypenumbers": "strict",
          "coloraxis": {
           "colorbar": {
            "outlinewidth": 0,
            "ticks": ""
           }
          },
          "colorscale": {
           "diverging": [
            [
             0,
             "#8e0152"
            ],
            [
             0.1,
             "#c51b7d"
            ],
            [
             0.2,
             "#de77ae"
            ],
            [
             0.3,
             "#f1b6da"
            ],
            [
             0.4,
             "#fde0ef"
            ],
            [
             0.5,
             "#f7f7f7"
            ],
            [
             0.6,
             "#e6f5d0"
            ],
            [
             0.7,
             "#b8e186"
            ],
            [
             0.8,
             "#7fbc41"
            ],
            [
             0.9,
             "#4d9221"
            ],
            [
             1,
             "#276419"
            ]
           ],
           "sequential": [
            [
             0,
             "#0d0887"
            ],
            [
             0.1111111111111111,
             "#46039f"
            ],
            [
             0.2222222222222222,
             "#7201a8"
            ],
            [
             0.3333333333333333,
             "#9c179e"
            ],
            [
             0.4444444444444444,
             "#bd3786"
            ],
            [
             0.5555555555555556,
             "#d8576b"
            ],
            [
             0.6666666666666666,
             "#ed7953"
            ],
            [
             0.7777777777777778,
             "#fb9f3a"
            ],
            [
             0.8888888888888888,
             "#fdca26"
            ],
            [
             1,
             "#f0f921"
            ]
           ],
           "sequentialminus": [
            [
             0,
             "#0d0887"
            ],
            [
             0.1111111111111111,
             "#46039f"
            ],
            [
             0.2222222222222222,
             "#7201a8"
            ],
            [
             0.3333333333333333,
             "#9c179e"
            ],
            [
             0.4444444444444444,
             "#bd3786"
            ],
            [
             0.5555555555555556,
             "#d8576b"
            ],
            [
             0.6666666666666666,
             "#ed7953"
            ],
            [
             0.7777777777777778,
             "#fb9f3a"
            ],
            [
             0.8888888888888888,
             "#fdca26"
            ],
            [
             1,
             "#f0f921"
            ]
           ]
          },
          "colorway": [
           "#636efa",
           "#EF553B",
           "#00cc96",
           "#ab63fa",
           "#FFA15A",
           "#19d3f3",
           "#FF6692",
           "#B6E880",
           "#FF97FF",
           "#FECB52"
          ],
          "font": {
           "color": "#2a3f5f"
          },
          "geo": {
           "bgcolor": "white",
           "lakecolor": "white",
           "landcolor": "white",
           "showlakes": true,
           "showland": true,
           "subunitcolor": "#C8D4E3"
          },
          "hoverlabel": {
           "align": "left"
          },
          "hovermode": "closest",
          "mapbox": {
           "style": "light"
          },
          "paper_bgcolor": "white",
          "plot_bgcolor": "white",
          "polar": {
           "angularaxis": {
            "gridcolor": "#EBF0F8",
            "linecolor": "#EBF0F8",
            "ticks": ""
           },
           "bgcolor": "white",
           "radialaxis": {
            "gridcolor": "#EBF0F8",
            "linecolor": "#EBF0F8",
            "ticks": ""
           }
          },
          "scene": {
           "xaxis": {
            "backgroundcolor": "white",
            "gridcolor": "#DFE8F3",
            "gridwidth": 2,
            "linecolor": "#EBF0F8",
            "showbackground": true,
            "ticks": "",
            "zerolinecolor": "#EBF0F8"
           },
           "yaxis": {
            "backgroundcolor": "white",
            "gridcolor": "#DFE8F3",
            "gridwidth": 2,
            "linecolor": "#EBF0F8",
            "showbackground": true,
            "ticks": "",
            "zerolinecolor": "#EBF0F8"
           },
           "zaxis": {
            "backgroundcolor": "white",
            "gridcolor": "#DFE8F3",
            "gridwidth": 2,
            "linecolor": "#EBF0F8",
            "showbackground": true,
            "ticks": "",
            "zerolinecolor": "#EBF0F8"
           }
          },
          "shapedefaults": {
           "line": {
            "color": "#2a3f5f"
           }
          },
          "ternary": {
           "aaxis": {
            "gridcolor": "#DFE8F3",
            "linecolor": "#A2B1C6",
            "ticks": ""
           },
           "baxis": {
            "gridcolor": "#DFE8F3",
            "linecolor": "#A2B1C6",
            "ticks": ""
           },
           "bgcolor": "white",
           "caxis": {
            "gridcolor": "#DFE8F3",
            "linecolor": "#A2B1C6",
            "ticks": ""
           }
          },
          "title": {
           "x": 0.05
          },
          "xaxis": {
           "automargin": true,
           "gridcolor": "#EBF0F8",
           "linecolor": "#EBF0F8",
           "ticks": "",
           "title": {
            "standoff": 15
           },
           "zerolinecolor": "#EBF0F8",
           "zerolinewidth": 2
          },
          "yaxis": {
           "automargin": true,
           "gridcolor": "#EBF0F8",
           "linecolor": "#EBF0F8",
           "ticks": "",
           "title": {
            "standoff": 15
           },
           "zerolinecolor": "#EBF0F8",
           "zerolinewidth": 2
          }
         }
        },
        "title": {
         "font": {
          "family": "\"Segoe UI\", \"Roboto\", \"Oxygen\", \"Ubuntu\", \"Droid Sans\", \"Helvetica Neue\", sans-serif",
          "size": 16,
          "weight": "bold"
         },
         "text": "Error Analysis: Median Absolute Error for Over- and Under-Prediction",
         "x": 0.5
        },
        "xaxis": {
         "gridcolor": "lightgrey",
         "tickmode": "array",
         "ticktext": [
          "Pred: 10, Actual: 100",
          "Pred: 30, Actual: 80",
          "Pred: 50, Actual: 60",
          "Pred: 70, Actual: 40",
          "Pred: 90, Actual: 20"
         ],
         "tickvals": [
          -90,
          -50,
          -10,
          30,
          70
         ],
         "title": {
          "text": "Difference between Predicted and Actual Values"
         }
        },
        "yaxis": {
         "gridcolor": "lightgrey",
         "title": {
          "text": "Error"
         },
         "zeroline": true,
         "zerolinecolor": "black",
         "zerolinewidth": 1
        }
       }
      }
     },
     "metadata": {},
     "output_type": "display_data"
    },
    {
     "name": "stdout",
     "output_type": "stream",
     "text": [
      "\n",
      "    <div style=\"width: 100%; height: auto;\">\n",
      "        <script type=\"text/javascript\">window.PlotlyConfig = {MathJaxConfig: 'local'};</script>\n",
      "        <div id=\"0d7d4a48-b28d-435c-82e3-261065dbb3e8\" class=\"plotly-graph-div\" style=\"width: 100%; height: auto;\"></div>\n",
      "        <script type=\"text/javascript\">\n",
      "            window.PLOTLYENV=window.PLOTLYENV || {};\n",
      "            if (document.getElementById(\"0d7d4a48-b28d-435c-82e3-261065dbb3e8\")) {\n",
      "                Plotly.newPlot(\n",
      "                    \"0d7d4a48-b28d-435c-82e3-261065dbb3e8\",\n",
      "                    {\"data\":[{\"hoverinfo\":\"text\",\"marker\":{\"color\":\"rgba(255, 165, 0, 0.8)\",\"line\":{\"color\":\"rgba(255, 165, 0, 1)\",\"width\":1},\"size\":10},\"mode\":\"lines+markers\",\"name\":\"Over-Prediction Error\",\"text\":[\"Pred: 10, Actual: 100, Error: nan\",\"Pred: 20, Actual: 90, Error: nan\",\"Pred: 30, Actual: 80, Error: nan\",\"Pred: 40, Actual: 70, Error: nan\",\"Pred: 50, Actual: 60, Error: nan\",\"Pred: 60, Actual: 50, Error: 10\",\"Pred: 70, Actual: 40, Error: 30\",\"Pred: 80, Actual: 30, Error: 50\",\"Pred: 90, Actual: 20, Error: 70\",\"Pred: 100, Actual: 10, Error: 90\"],\"x\":[null,null,null,null,null,10.0,30.0,50.0,70.0,90.0],\"y\":[null,null,null,null,null,10,30,50,70,90],\"type\":\"scatter\"},{\"hoverinfo\":\"text\",\"marker\":{\"color\":\"rgba(0, 128, 255, 0.8)\",\"line\":{\"color\":\"rgba(0, 128, 255, 1)\",\"width\":1},\"size\":10},\"mode\":\"lines+markers\",\"name\":\"Under-Prediction Error\",\"text\":[\"Pred: 10, Actual: 100, Error: 90\",\"Pred: 20, Actual: 90, Error: 70\",\"Pred: 30, Actual: 80, Error: 50\",\"Pred: 40, Actual: 70, Error: 30\",\"Pred: 50, Actual: 60, Error: 10\",\"Pred: 60, Actual: 50, Error: nan\",\"Pred: 70, Actual: 40, Error: nan\",\"Pred: 80, Actual: 30, Error: nan\",\"Pred: 90, Actual: 20, Error: nan\",\"Pred: 100, Actual: 10, Error: nan\"],\"x\":[-90.0,-70.0,-50.0,-30.0,-10.0,null,null,null,null,null],\"y\":[90,70,50,30,10,null,null,null,null,null],\"type\":\"scatter\"}],\"layout\":{\"template\":{\"data\":{\"barpolar\":[{\"marker\":{\"line\":{\"color\":\"white\",\"width\":0.5},\"pattern\":{\"fillmode\":\"overlay\",\"size\":10,\"solidity\":0.2}},\"type\":\"barpolar\"}],\"bar\":[{\"error_x\":{\"color\":\"#2a3f5f\"},\"error_y\":{\"color\":\"#2a3f5f\"},\"marker\":{\"line\":{\"color\":\"white\",\"width\":0.5},\"pattern\":{\"fillmode\":\"overlay\",\"size\":10,\"solidity\":0.2}},\"type\":\"bar\"}],\"carpet\":[{\"aaxis\":{\"endlinecolor\":\"#2a3f5f\",\"gridcolor\":\"#C8D4E3\",\"linecolor\":\"#C8D4E3\",\"minorgridcolor\":\"#C8D4E3\",\"startlinecolor\":\"#2a3f5f\"},\"baxis\":{\"endlinecolor\":\"#2a3f5f\",\"gridcolor\":\"#C8D4E3\",\"linecolor\":\"#C8D4E3\",\"minorgridcolor\":\"#C8D4E3\",\"startlinecolor\":\"#2a3f5f\"},\"type\":\"carpet\"}],\"choropleth\":[{\"colorbar\":{\"outlinewidth\":0,\"ticks\":\"\"},\"type\":\"choropleth\"}],\"contourcarpet\":[{\"colorbar\":{\"outlinewidth\":0,\"ticks\":\"\"},\"type\":\"contourcarpet\"}],\"contour\":[{\"colorbar\":{\"outlinewidth\":0,\"ticks\":\"\"},\"colorscale\":[[0.0,\"#0d0887\"],[0.1111111111111111,\"#46039f\"],[0.2222222222222222,\"#7201a8\"],[0.3333333333333333,\"#9c179e\"],[0.4444444444444444,\"#bd3786\"],[0.5555555555555556,\"#d8576b\"],[0.6666666666666666,\"#ed7953\"],[0.7777777777777778,\"#fb9f3a\"],[0.8888888888888888,\"#fdca26\"],[1.0,\"#f0f921\"]],\"type\":\"contour\"}],\"heatmapgl\":[{\"colorbar\":{\"outlinewidth\":0,\"ticks\":\"\"},\"colorscale\":[[0.0,\"#0d0887\"],[0.1111111111111111,\"#46039f\"],[0.2222222222222222,\"#7201a8\"],[0.3333333333333333,\"#9c179e\"],[0.4444444444444444,\"#bd3786\"],[0.5555555555555556,\"#d8576b\"],[0.6666666666666666,\"#ed7953\"],[0.7777777777777778,\"#fb9f3a\"],[0.8888888888888888,\"#fdca26\"],[1.0,\"#f0f921\"]],\"type\":\"heatmapgl\"}],\"heatmap\":[{\"colorbar\":{\"outlinewidth\":0,\"ticks\":\"\"},\"colorscale\":[[0.0,\"#0d0887\"],[0.1111111111111111,\"#46039f\"],[0.2222222222222222,\"#7201a8\"],[0.3333333333333333,\"#9c179e\"],[0.4444444444444444,\"#bd3786\"],[0.5555555555555556,\"#d8576b\"],[0.6666666666666666,\"#ed7953\"],[0.7777777777777778,\"#fb9f3a\"],[0.8888888888888888,\"#fdca26\"],[1.0,\"#f0f921\"]],\"type\":\"heatmap\"}],\"histogram2dcontour\":[{\"colorbar\":{\"outlinewidth\":0,\"ticks\":\"\"},\"colorscale\":[[0.0,\"#0d0887\"],[0.1111111111111111,\"#46039f\"],[0.2222222222222222,\"#7201a8\"],[0.3333333333333333,\"#9c179e\"],[0.4444444444444444,\"#bd3786\"],[0.5555555555555556,\"#d8576b\"],[0.6666666666666666,\"#ed7953\"],[0.7777777777777778,\"#fb9f3a\"],[0.8888888888888888,\"#fdca26\"],[1.0,\"#f0f921\"]],\"type\":\"histogram2dcontour\"}],\"histogram2d\":[{\"colorbar\":{\"outlinewidth\":0,\"ticks\":\"\"},\"colorscale\":[[0.0,\"#0d0887\"],[0.1111111111111111,\"#46039f\"],[0.2222222222222222,\"#7201a8\"],[0.3333333333333333,\"#9c179e\"],[0.4444444444444444,\"#bd3786\"],[0.5555555555555556,\"#d8576b\"],[0.6666666666666666,\"#ed7953\"],[0.7777777777777778,\"#fb9f3a\"],[0.8888888888888888,\"#fdca26\"],[1.0,\"#f0f921\"]],\"type\":\"histogram2d\"}],\"histogram\":[{\"marker\":{\"pattern\":{\"fillmode\":\"overlay\",\"size\":10,\"solidity\":0.2}},\"type\":\"histogram\"}],\"mesh3d\":[{\"colorbar\":{\"outlinewidth\":0,\"ticks\":\"\"},\"type\":\"mesh3d\"}],\"parcoords\":[{\"line\":{\"colorbar\":{\"outlinewidth\":0,\"ticks\":\"\"}},\"type\":\"parcoords\"}],\"pie\":[{\"automargin\":true,\"type\":\"pie\"}],\"scatter3d\":[{\"line\":{\"colorbar\":{\"outlinewidth\":0,\"ticks\":\"\"}},\"marker\":{\"colorbar\":{\"outlinewidth\":0,\"ticks\":\"\"}},\"type\":\"scatter3d\"}],\"scattercarpet\":[{\"marker\":{\"colorbar\":{\"outlinewidth\":0,\"ticks\":\"\"}},\"type\":\"scattercarpet\"}],\"scattergeo\":[{\"marker\":{\"colorbar\":{\"outlinewidth\":0,\"ticks\":\"\"}},\"type\":\"scattergeo\"}],\"scattergl\":[{\"marker\":{\"colorbar\":{\"outlinewidth\":0,\"ticks\":\"\"}},\"type\":\"scattergl\"}],\"scattermapbox\":[{\"marker\":{\"colorbar\":{\"outlinewidth\":0,\"ticks\":\"\"}},\"type\":\"scattermapbox\"}],\"scatterpolargl\":[{\"marker\":{\"colorbar\":{\"outlinewidth\":0,\"ticks\":\"\"}},\"type\":\"scatterpolargl\"}],\"scatterpolar\":[{\"marker\":{\"colorbar\":{\"outlinewidth\":0,\"ticks\":\"\"}},\"type\":\"scatterpolar\"}],\"scatter\":[{\"fillpattern\":{\"fillmode\":\"overlay\",\"size\":10,\"solidity\":0.2},\"type\":\"scatter\"}],\"scatterternary\":[{\"marker\":{\"colorbar\":{\"outlinewidth\":0,\"ticks\":\"\"}},\"type\":\"scatterternary\"}],\"surface\":[{\"colorbar\":{\"outlinewidth\":0,\"ticks\":\"\"},\"colorscale\":[[0.0,\"#0d0887\"],[0.1111111111111111,\"#46039f\"],[0.2222222222222222,\"#7201a8\"],[0.3333333333333333,\"#9c179e\"],[0.4444444444444444,\"#bd3786\"],[0.5555555555555556,\"#d8576b\"],[0.6666666666666666,\"#ed7953\"],[0.7777777777777778,\"#fb9f3a\"],[0.8888888888888888,\"#fdca26\"],[1.0,\"#f0f921\"]],\"type\":\"surface\"}],\"table\":[{\"cells\":{\"fill\":{\"color\":\"#EBF0F8\"},\"line\":{\"color\":\"white\"}},\"header\":{\"fill\":{\"color\":\"#C8D4E3\"},\"line\":{\"color\":\"white\"}},\"type\":\"table\"}]},\"layout\":{\"annotationdefaults\":{\"arrowcolor\":\"#2a3f5f\",\"arrowhead\":0,\"arrowwidth\":1},\"autotypenumbers\":\"strict\",\"coloraxis\":{\"colorbar\":{\"outlinewidth\":0,\"ticks\":\"\"}},\"colorscale\":{\"diverging\":[[0,\"#8e0152\"],[0.1,\"#c51b7d\"],[0.2,\"#de77ae\"],[0.3,\"#f1b6da\"],[0.4,\"#fde0ef\"],[0.5,\"#f7f7f7\"],[0.6,\"#e6f5d0\"],[0.7,\"#b8e186\"],[0.8,\"#7fbc41\"],[0.9,\"#4d9221\"],[1,\"#276419\"]],\"sequential\":[[0.0,\"#0d0887\"],[0.1111111111111111,\"#46039f\"],[0.2222222222222222,\"#7201a8\"],[0.3333333333333333,\"#9c179e\"],[0.4444444444444444,\"#bd3786\"],[0.5555555555555556,\"#d8576b\"],[0.6666666666666666,\"#ed7953\"],[0.7777777777777778,\"#fb9f3a\"],[0.8888888888888888,\"#fdca26\"],[1.0,\"#f0f921\"]],\"sequentialminus\":[[0.0,\"#0d0887\"],[0.1111111111111111,\"#46039f\"],[0.2222222222222222,\"#7201a8\"],[0.3333333333333333,\"#9c179e\"],[0.4444444444444444,\"#bd3786\"],[0.5555555555555556,\"#d8576b\"],[0.6666666666666666,\"#ed7953\"],[0.7777777777777778,\"#fb9f3a\"],[0.8888888888888888,\"#fdca26\"],[1.0,\"#f0f921\"]]},\"colorway\":[\"#636efa\",\"#EF553B\",\"#00cc96\",\"#ab63fa\",\"#FFA15A\",\"#19d3f3\",\"#FF6692\",\"#B6E880\",\"#FF97FF\",\"#FECB52\"],\"font\":{\"color\":\"#2a3f5f\"},\"geo\":{\"bgcolor\":\"white\",\"lakecolor\":\"white\",\"landcolor\":\"white\",\"showlakes\":true,\"showland\":true,\"subunitcolor\":\"#C8D4E3\"},\"hoverlabel\":{\"align\":\"left\"},\"hovermode\":\"closest\",\"mapbox\":{\"style\":\"light\"},\"paper_bgcolor\":\"white\",\"plot_bgcolor\":\"white\",\"polar\":{\"angularaxis\":{\"gridcolor\":\"#EBF0F8\",\"linecolor\":\"#EBF0F8\",\"ticks\":\"\"},\"bgcolor\":\"white\",\"radialaxis\":{\"gridcolor\":\"#EBF0F8\",\"linecolor\":\"#EBF0F8\",\"ticks\":\"\"}},\"scene\":{\"xaxis\":{\"backgroundcolor\":\"white\",\"gridcolor\":\"#DFE8F3\",\"gridwidth\":2,\"linecolor\":\"#EBF0F8\",\"showbackground\":true,\"ticks\":\"\",\"zerolinecolor\":\"#EBF0F8\"},\"yaxis\":{\"backgroundcolor\":\"white\",\"gridcolor\":\"#DFE8F3\",\"gridwidth\":2,\"linecolor\":\"#EBF0F8\",\"showbackground\":true,\"ticks\":\"\",\"zerolinecolor\":\"#EBF0F8\"},\"zaxis\":{\"backgroundcolor\":\"white\",\"gridcolor\":\"#DFE8F3\",\"gridwidth\":2,\"linecolor\":\"#EBF0F8\",\"showbackground\":true,\"ticks\":\"\",\"zerolinecolor\":\"#EBF0F8\"}},\"shapedefaults\":{\"line\":{\"color\":\"#2a3f5f\"}},\"ternary\":{\"aaxis\":{\"gridcolor\":\"#DFE8F3\",\"linecolor\":\"#A2B1C6\",\"ticks\":\"\"},\"baxis\":{\"gridcolor\":\"#DFE8F3\",\"linecolor\":\"#A2B1C6\",\"ticks\":\"\"},\"bgcolor\":\"white\",\"caxis\":{\"gridcolor\":\"#DFE8F3\",\"linecolor\":\"#A2B1C6\",\"ticks\":\"\"}},\"title\":{\"x\":0.05},\"xaxis\":{\"automargin\":true,\"gridcolor\":\"#EBF0F8\",\"linecolor\":\"#EBF0F8\",\"ticks\":\"\",\"title\":{\"standoff\":15},\"zerolinecolor\":\"#EBF0F8\",\"zerolinewidth\":2},\"yaxis\":{\"automargin\":true,\"gridcolor\":\"#EBF0F8\",\"linecolor\":\"#EBF0F8\",\"ticks\":\"\",\"title\":{\"standoff\":15},\"zerolinecolor\":\"#EBF0F8\",\"zerolinewidth\":2}}},\"title\":{\"text\":\"Error Analysis: Median Absolute Error for Over- and Under-Prediction\",\"x\":0.5,\"font\":{\"size\":16,\"family\":\"\\\"Segoe UI\\\", \\\"Roboto\\\", \\\"Oxygen\\\", \\\"Ubuntu\\\", \\\"Droid Sans\\\", \\\"Helvetica Neue\\\", sans-serif\",\"weight\":\"bold\"}},\"font\":{\"size\":14,\"family\":\"\\\"Segoe UI\\\", \\\"Roboto\\\", \\\"Oxygen\\\", \\\"Ubuntu\\\", \\\"Droid Sans\\\", \\\"Helvetica Neue\\\", sans-serif\"},\"xaxis\":{\"title\":{\"text\":\"Difference between Predicted and Actual Values\"},\"tickmode\":\"array\",\"gridcolor\":\"lightgrey\",\"tickvals\":[-90,-50,-10,30,70],\"ticktext\":[\"Pred: 10, Actual: 100\",\"Pred: 30, Actual: 80\",\"Pred: 50, Actual: 60\",\"Pred: 70, Actual: 40\",\"Pred: 90, Actual: 20\"]},\"yaxis\":{\"title\":{\"text\":\"Error\"},\"gridcolor\":\"lightgrey\",\"zeroline\":true,\"zerolinecolor\":\"black\",\"zerolinewidth\":1},\"showlegend\":false,\"plot_bgcolor\":\"rgba(240, 240, 240, 0.95)\",\"annotations\":[{\"align\":\"center\",\"font\":{\"color\":\"black\",\"size\":14},\"showarrow\":false,\"text\":\"Under-Prediction\",\"x\":-50,\"y\":50.0},{\"align\":\"center\",\"font\":{\"color\":\"black\",\"size\":14},\"showarrow\":false,\"text\":\"Over-Prediction\",\"x\":50,\"y\":50.0}],\"shapes\":[{\"fillcolor\":\"rgba(0, 128, 255, 0.2)\",\"layer\":\"below\",\"line\":{\"color\":\"rgba(0, 128, 255, 1)\",\"width\":1},\"type\":\"rect\",\"x0\":-90,\"x1\":0,\"y0\":0,\"y1\":100.0},{\"fillcolor\":\"rgba(255, 165, 0, 0.2)\",\"layer\":\"below\",\"line\":{\"color\":\"rgba(255, 165, 0, 1)\",\"width\":1},\"type\":\"rect\",\"x0\":0,\"x1\":90,\"y0\":null,\"y1\":100.0}]}}\n",
      "                )\n",
      "            };\n",
      "        </script>\n",
      "    </div>\n",
      "    \n"
     ]
    }
   ],
   "source": [
    "def median_absolute_error(actual, pred):\n",
    "    actual, pred = np.array(actual), np.array(pred)\n",
    "    mae = np.median(np.abs(actual - pred))\n",
    "    return mae  # Return the median absolute error\n",
    "\n",
    "html_str = plot_error_symmetry(median_absolute_error)\n",
    "print(html_str)"
   ]
  },
  {
   "cell_type": "code",
   "execution_count": 5,
   "metadata": {},
   "outputs": [
    {
     "data": {
      "application/vnd.plotly.v1+json": {
       "config": {
        "plotlyServerURL": "https://plot.ly"
       },
       "data": [
        {
         "hoverinfo": "text",
         "marker": {
          "color": "rgba(255, 165, 0, 0.8)",
          "line": {
           "color": "rgba(255, 165, 0, 1)",
           "width": 1
          },
          "size": 10
         },
         "mode": "lines+markers",
         "name": "Over-Prediction Error",
         "text": [
          "Pred: 10, Actual: 100, Error: nan",
          "Pred: 20, Actual: 90, Error: nan",
          "Pred: 30, Actual: 80, Error: nan",
          "Pred: 40, Actual: 70, Error: nan",
          "Pred: 50, Actual: 60, Error: nan",
          "Pred: 60, Actual: 50, Error: 10",
          "Pred: 70, Actual: 40, Error: 30",
          "Pred: 80, Actual: 30, Error: 50",
          "Pred: 90, Actual: 20, Error: 70",
          "Pred: 100, Actual: 10, Error: 90"
         ],
         "type": "scatter",
         "x": [
          null,
          null,
          null,
          null,
          null,
          10,
          30,
          50,
          70,
          90
         ],
         "y": [
          null,
          null,
          null,
          null,
          null,
          10,
          30,
          50,
          70,
          90
         ]
        },
        {
         "hoverinfo": "text",
         "marker": {
          "color": "rgba(0, 128, 255, 0.8)",
          "line": {
           "color": "rgba(0, 128, 255, 1)",
           "width": 1
          },
          "size": 10
         },
         "mode": "lines+markers",
         "name": "Under-Prediction Error",
         "text": [
          "Pred: 10, Actual: 100, Error: 90",
          "Pred: 20, Actual: 90, Error: 70",
          "Pred: 30, Actual: 80, Error: 50",
          "Pred: 40, Actual: 70, Error: 30",
          "Pred: 50, Actual: 60, Error: 10",
          "Pred: 60, Actual: 50, Error: nan",
          "Pred: 70, Actual: 40, Error: nan",
          "Pred: 80, Actual: 30, Error: nan",
          "Pred: 90, Actual: 20, Error: nan",
          "Pred: 100, Actual: 10, Error: nan"
         ],
         "type": "scatter",
         "x": [
          -90,
          -70,
          -50,
          -30,
          -10,
          null,
          null,
          null,
          null,
          null
         ],
         "y": [
          90,
          70,
          50,
          30,
          10,
          null,
          null,
          null,
          null,
          null
         ]
        }
       ],
       "layout": {
        "annotations": [
         {
          "align": "center",
          "font": {
           "color": "black",
           "size": 14
          },
          "showarrow": false,
          "text": "Under-Prediction",
          "x": -50,
          "y": 50
         },
         {
          "align": "center",
          "font": {
           "color": "black",
           "size": 14
          },
          "showarrow": false,
          "text": "Over-Prediction",
          "x": 50,
          "y": 50
         }
        ],
        "font": {
         "family": "\"Segoe UI\", \"Roboto\", \"Oxygen\", \"Ubuntu\", \"Droid Sans\", \"Helvetica Neue\", sans-serif",
         "size": 14
        },
        "plot_bgcolor": "rgba(240, 240, 240, 0.95)",
        "shapes": [
         {
          "fillcolor": "rgba(0, 128, 255, 0.2)",
          "layer": "below",
          "line": {
           "color": "rgba(0, 128, 255, 1)",
           "width": 1
          },
          "type": "rect",
          "x0": -90,
          "x1": 0,
          "y0": 0,
          "y1": 100
         },
         {
          "fillcolor": "rgba(255, 165, 0, 0.2)",
          "layer": "below",
          "line": {
           "color": "rgba(255, 165, 0, 1)",
           "width": 1
          },
          "type": "rect",
          "x0": 0,
          "x1": 90,
          "y0": null,
          "y1": 100
         }
        ],
        "showlegend": false,
        "template": {
         "data": {
          "bar": [
           {
            "error_x": {
             "color": "#2a3f5f"
            },
            "error_y": {
             "color": "#2a3f5f"
            },
            "marker": {
             "line": {
              "color": "white",
              "width": 0.5
             },
             "pattern": {
              "fillmode": "overlay",
              "size": 10,
              "solidity": 0.2
             }
            },
            "type": "bar"
           }
          ],
          "barpolar": [
           {
            "marker": {
             "line": {
              "color": "white",
              "width": 0.5
             },
             "pattern": {
              "fillmode": "overlay",
              "size": 10,
              "solidity": 0.2
             }
            },
            "type": "barpolar"
           }
          ],
          "carpet": [
           {
            "aaxis": {
             "endlinecolor": "#2a3f5f",
             "gridcolor": "#C8D4E3",
             "linecolor": "#C8D4E3",
             "minorgridcolor": "#C8D4E3",
             "startlinecolor": "#2a3f5f"
            },
            "baxis": {
             "endlinecolor": "#2a3f5f",
             "gridcolor": "#C8D4E3",
             "linecolor": "#C8D4E3",
             "minorgridcolor": "#C8D4E3",
             "startlinecolor": "#2a3f5f"
            },
            "type": "carpet"
           }
          ],
          "choropleth": [
           {
            "colorbar": {
             "outlinewidth": 0,
             "ticks": ""
            },
            "type": "choropleth"
           }
          ],
          "contour": [
           {
            "colorbar": {
             "outlinewidth": 0,
             "ticks": ""
            },
            "colorscale": [
             [
              0,
              "#0d0887"
             ],
             [
              0.1111111111111111,
              "#46039f"
             ],
             [
              0.2222222222222222,
              "#7201a8"
             ],
             [
              0.3333333333333333,
              "#9c179e"
             ],
             [
              0.4444444444444444,
              "#bd3786"
             ],
             [
              0.5555555555555556,
              "#d8576b"
             ],
             [
              0.6666666666666666,
              "#ed7953"
             ],
             [
              0.7777777777777778,
              "#fb9f3a"
             ],
             [
              0.8888888888888888,
              "#fdca26"
             ],
             [
              1,
              "#f0f921"
             ]
            ],
            "type": "contour"
           }
          ],
          "contourcarpet": [
           {
            "colorbar": {
             "outlinewidth": 0,
             "ticks": ""
            },
            "type": "contourcarpet"
           }
          ],
          "heatmap": [
           {
            "colorbar": {
             "outlinewidth": 0,
             "ticks": ""
            },
            "colorscale": [
             [
              0,
              "#0d0887"
             ],
             [
              0.1111111111111111,
              "#46039f"
             ],
             [
              0.2222222222222222,
              "#7201a8"
             ],
             [
              0.3333333333333333,
              "#9c179e"
             ],
             [
              0.4444444444444444,
              "#bd3786"
             ],
             [
              0.5555555555555556,
              "#d8576b"
             ],
             [
              0.6666666666666666,
              "#ed7953"
             ],
             [
              0.7777777777777778,
              "#fb9f3a"
             ],
             [
              0.8888888888888888,
              "#fdca26"
             ],
             [
              1,
              "#f0f921"
             ]
            ],
            "type": "heatmap"
           }
          ],
          "heatmapgl": [
           {
            "colorbar": {
             "outlinewidth": 0,
             "ticks": ""
            },
            "colorscale": [
             [
              0,
              "#0d0887"
             ],
             [
              0.1111111111111111,
              "#46039f"
             ],
             [
              0.2222222222222222,
              "#7201a8"
             ],
             [
              0.3333333333333333,
              "#9c179e"
             ],
             [
              0.4444444444444444,
              "#bd3786"
             ],
             [
              0.5555555555555556,
              "#d8576b"
             ],
             [
              0.6666666666666666,
              "#ed7953"
             ],
             [
              0.7777777777777778,
              "#fb9f3a"
             ],
             [
              0.8888888888888888,
              "#fdca26"
             ],
             [
              1,
              "#f0f921"
             ]
            ],
            "type": "heatmapgl"
           }
          ],
          "histogram": [
           {
            "marker": {
             "pattern": {
              "fillmode": "overlay",
              "size": 10,
              "solidity": 0.2
             }
            },
            "type": "histogram"
           }
          ],
          "histogram2d": [
           {
            "colorbar": {
             "outlinewidth": 0,
             "ticks": ""
            },
            "colorscale": [
             [
              0,
              "#0d0887"
             ],
             [
              0.1111111111111111,
              "#46039f"
             ],
             [
              0.2222222222222222,
              "#7201a8"
             ],
             [
              0.3333333333333333,
              "#9c179e"
             ],
             [
              0.4444444444444444,
              "#bd3786"
             ],
             [
              0.5555555555555556,
              "#d8576b"
             ],
             [
              0.6666666666666666,
              "#ed7953"
             ],
             [
              0.7777777777777778,
              "#fb9f3a"
             ],
             [
              0.8888888888888888,
              "#fdca26"
             ],
             [
              1,
              "#f0f921"
             ]
            ],
            "type": "histogram2d"
           }
          ],
          "histogram2dcontour": [
           {
            "colorbar": {
             "outlinewidth": 0,
             "ticks": ""
            },
            "colorscale": [
             [
              0,
              "#0d0887"
             ],
             [
              0.1111111111111111,
              "#46039f"
             ],
             [
              0.2222222222222222,
              "#7201a8"
             ],
             [
              0.3333333333333333,
              "#9c179e"
             ],
             [
              0.4444444444444444,
              "#bd3786"
             ],
             [
              0.5555555555555556,
              "#d8576b"
             ],
             [
              0.6666666666666666,
              "#ed7953"
             ],
             [
              0.7777777777777778,
              "#fb9f3a"
             ],
             [
              0.8888888888888888,
              "#fdca26"
             ],
             [
              1,
              "#f0f921"
             ]
            ],
            "type": "histogram2dcontour"
           }
          ],
          "mesh3d": [
           {
            "colorbar": {
             "outlinewidth": 0,
             "ticks": ""
            },
            "type": "mesh3d"
           }
          ],
          "parcoords": [
           {
            "line": {
             "colorbar": {
              "outlinewidth": 0,
              "ticks": ""
             }
            },
            "type": "parcoords"
           }
          ],
          "pie": [
           {
            "automargin": true,
            "type": "pie"
           }
          ],
          "scatter": [
           {
            "fillpattern": {
             "fillmode": "overlay",
             "size": 10,
             "solidity": 0.2
            },
            "type": "scatter"
           }
          ],
          "scatter3d": [
           {
            "line": {
             "colorbar": {
              "outlinewidth": 0,
              "ticks": ""
             }
            },
            "marker": {
             "colorbar": {
              "outlinewidth": 0,
              "ticks": ""
             }
            },
            "type": "scatter3d"
           }
          ],
          "scattercarpet": [
           {
            "marker": {
             "colorbar": {
              "outlinewidth": 0,
              "ticks": ""
             }
            },
            "type": "scattercarpet"
           }
          ],
          "scattergeo": [
           {
            "marker": {
             "colorbar": {
              "outlinewidth": 0,
              "ticks": ""
             }
            },
            "type": "scattergeo"
           }
          ],
          "scattergl": [
           {
            "marker": {
             "colorbar": {
              "outlinewidth": 0,
              "ticks": ""
             }
            },
            "type": "scattergl"
           }
          ],
          "scattermapbox": [
           {
            "marker": {
             "colorbar": {
              "outlinewidth": 0,
              "ticks": ""
             }
            },
            "type": "scattermapbox"
           }
          ],
          "scatterpolar": [
           {
            "marker": {
             "colorbar": {
              "outlinewidth": 0,
              "ticks": ""
             }
            },
            "type": "scatterpolar"
           }
          ],
          "scatterpolargl": [
           {
            "marker": {
             "colorbar": {
              "outlinewidth": 0,
              "ticks": ""
             }
            },
            "type": "scatterpolargl"
           }
          ],
          "scatterternary": [
           {
            "marker": {
             "colorbar": {
              "outlinewidth": 0,
              "ticks": ""
             }
            },
            "type": "scatterternary"
           }
          ],
          "surface": [
           {
            "colorbar": {
             "outlinewidth": 0,
             "ticks": ""
            },
            "colorscale": [
             [
              0,
              "#0d0887"
             ],
             [
              0.1111111111111111,
              "#46039f"
             ],
             [
              0.2222222222222222,
              "#7201a8"
             ],
             [
              0.3333333333333333,
              "#9c179e"
             ],
             [
              0.4444444444444444,
              "#bd3786"
             ],
             [
              0.5555555555555556,
              "#d8576b"
             ],
             [
              0.6666666666666666,
              "#ed7953"
             ],
             [
              0.7777777777777778,
              "#fb9f3a"
             ],
             [
              0.8888888888888888,
              "#fdca26"
             ],
             [
              1,
              "#f0f921"
             ]
            ],
            "type": "surface"
           }
          ],
          "table": [
           {
            "cells": {
             "fill": {
              "color": "#EBF0F8"
             },
             "line": {
              "color": "white"
             }
            },
            "header": {
             "fill": {
              "color": "#C8D4E3"
             },
             "line": {
              "color": "white"
             }
            },
            "type": "table"
           }
          ]
         },
         "layout": {
          "annotationdefaults": {
           "arrowcolor": "#2a3f5f",
           "arrowhead": 0,
           "arrowwidth": 1
          },
          "autotypenumbers": "strict",
          "coloraxis": {
           "colorbar": {
            "outlinewidth": 0,
            "ticks": ""
           }
          },
          "colorscale": {
           "diverging": [
            [
             0,
             "#8e0152"
            ],
            [
             0.1,
             "#c51b7d"
            ],
            [
             0.2,
             "#de77ae"
            ],
            [
             0.3,
             "#f1b6da"
            ],
            [
             0.4,
             "#fde0ef"
            ],
            [
             0.5,
             "#f7f7f7"
            ],
            [
             0.6,
             "#e6f5d0"
            ],
            [
             0.7,
             "#b8e186"
            ],
            [
             0.8,
             "#7fbc41"
            ],
            [
             0.9,
             "#4d9221"
            ],
            [
             1,
             "#276419"
            ]
           ],
           "sequential": [
            [
             0,
             "#0d0887"
            ],
            [
             0.1111111111111111,
             "#46039f"
            ],
            [
             0.2222222222222222,
             "#7201a8"
            ],
            [
             0.3333333333333333,
             "#9c179e"
            ],
            [
             0.4444444444444444,
             "#bd3786"
            ],
            [
             0.5555555555555556,
             "#d8576b"
            ],
            [
             0.6666666666666666,
             "#ed7953"
            ],
            [
             0.7777777777777778,
             "#fb9f3a"
            ],
            [
             0.8888888888888888,
             "#fdca26"
            ],
            [
             1,
             "#f0f921"
            ]
           ],
           "sequentialminus": [
            [
             0,
             "#0d0887"
            ],
            [
             0.1111111111111111,
             "#46039f"
            ],
            [
             0.2222222222222222,
             "#7201a8"
            ],
            [
             0.3333333333333333,
             "#9c179e"
            ],
            [
             0.4444444444444444,
             "#bd3786"
            ],
            [
             0.5555555555555556,
             "#d8576b"
            ],
            [
             0.6666666666666666,
             "#ed7953"
            ],
            [
             0.7777777777777778,
             "#fb9f3a"
            ],
            [
             0.8888888888888888,
             "#fdca26"
            ],
            [
             1,
             "#f0f921"
            ]
           ]
          },
          "colorway": [
           "#636efa",
           "#EF553B",
           "#00cc96",
           "#ab63fa",
           "#FFA15A",
           "#19d3f3",
           "#FF6692",
           "#B6E880",
           "#FF97FF",
           "#FECB52"
          ],
          "font": {
           "color": "#2a3f5f"
          },
          "geo": {
           "bgcolor": "white",
           "lakecolor": "white",
           "landcolor": "white",
           "showlakes": true,
           "showland": true,
           "subunitcolor": "#C8D4E3"
          },
          "hoverlabel": {
           "align": "left"
          },
          "hovermode": "closest",
          "mapbox": {
           "style": "light"
          },
          "paper_bgcolor": "white",
          "plot_bgcolor": "white",
          "polar": {
           "angularaxis": {
            "gridcolor": "#EBF0F8",
            "linecolor": "#EBF0F8",
            "ticks": ""
           },
           "bgcolor": "white",
           "radialaxis": {
            "gridcolor": "#EBF0F8",
            "linecolor": "#EBF0F8",
            "ticks": ""
           }
          },
          "scene": {
           "xaxis": {
            "backgroundcolor": "white",
            "gridcolor": "#DFE8F3",
            "gridwidth": 2,
            "linecolor": "#EBF0F8",
            "showbackground": true,
            "ticks": "",
            "zerolinecolor": "#EBF0F8"
           },
           "yaxis": {
            "backgroundcolor": "white",
            "gridcolor": "#DFE8F3",
            "gridwidth": 2,
            "linecolor": "#EBF0F8",
            "showbackground": true,
            "ticks": "",
            "zerolinecolor": "#EBF0F8"
           },
           "zaxis": {
            "backgroundcolor": "white",
            "gridcolor": "#DFE8F3",
            "gridwidth": 2,
            "linecolor": "#EBF0F8",
            "showbackground": true,
            "ticks": "",
            "zerolinecolor": "#EBF0F8"
           }
          },
          "shapedefaults": {
           "line": {
            "color": "#2a3f5f"
           }
          },
          "ternary": {
           "aaxis": {
            "gridcolor": "#DFE8F3",
            "linecolor": "#A2B1C6",
            "ticks": ""
           },
           "baxis": {
            "gridcolor": "#DFE8F3",
            "linecolor": "#A2B1C6",
            "ticks": ""
           },
           "bgcolor": "white",
           "caxis": {
            "gridcolor": "#DFE8F3",
            "linecolor": "#A2B1C6",
            "ticks": ""
           }
          },
          "title": {
           "x": 0.05
          },
          "xaxis": {
           "automargin": true,
           "gridcolor": "#EBF0F8",
           "linecolor": "#EBF0F8",
           "ticks": "",
           "title": {
            "standoff": 15
           },
           "zerolinecolor": "#EBF0F8",
           "zerolinewidth": 2
          },
          "yaxis": {
           "automargin": true,
           "gridcolor": "#EBF0F8",
           "linecolor": "#EBF0F8",
           "ticks": "",
           "title": {
            "standoff": 15
           },
           "zerolinecolor": "#EBF0F8",
           "zerolinewidth": 2
          }
         }
        },
        "title": {
         "font": {
          "family": "\"Segoe UI\", \"Roboto\", \"Oxygen\", \"Ubuntu\", \"Droid Sans\", \"Helvetica Neue\", sans-serif",
          "size": 16,
          "weight": "bold"
         },
         "text": "Error Analysis: Geometric Mean Absolute Error for Over- and Under-Prediction",
         "x": 0.5
        },
        "xaxis": {
         "gridcolor": "lightgrey",
         "tickmode": "array",
         "ticktext": [
          "Pred: 10, Actual: 100",
          "Pred: 30, Actual: 80",
          "Pred: 50, Actual: 60",
          "Pred: 70, Actual: 40",
          "Pred: 90, Actual: 20"
         ],
         "tickvals": [
          -90,
          -50,
          -10,
          30,
          70
         ],
         "title": {
          "text": "Difference between Predicted and Actual Values"
         }
        },
        "yaxis": {
         "gridcolor": "lightgrey",
         "title": {
          "text": "Error"
         },
         "zeroline": true,
         "zerolinecolor": "black",
         "zerolinewidth": 1
        }
       }
      }
     },
     "metadata": {},
     "output_type": "display_data"
    },
    {
     "name": "stdout",
     "output_type": "stream",
     "text": [
      "\n",
      "    <div style=\"width: 100%; height: auto;\">\n",
      "        <script type=\"text/javascript\">window.PlotlyConfig = {MathJaxConfig: 'local'};</script>\n",
      "        <div id=\"4d04aafa-1d2c-4289-97aa-e28fc2c7f5b5\" class=\"plotly-graph-div\" style=\"width: 100%; height: auto;\"></div>\n",
      "        <script type=\"text/javascript\">\n",
      "            window.PLOTLYENV=window.PLOTLYENV || {};\n",
      "            if (document.getElementById(\"4d04aafa-1d2c-4289-97aa-e28fc2c7f5b5\")) {\n",
      "                Plotly.newPlot(\n",
      "                    \"4d04aafa-1d2c-4289-97aa-e28fc2c7f5b5\",\n",
      "                    {\"data\":[{\"hoverinfo\":\"text\",\"marker\":{\"color\":\"rgba(255, 165, 0, 0.8)\",\"line\":{\"color\":\"rgba(255, 165, 0, 1)\",\"width\":1},\"size\":10},\"mode\":\"lines+markers\",\"name\":\"Over-Prediction Error\",\"text\":[\"Pred: 10, Actual: 100, Error: nan\",\"Pred: 20, Actual: 90, Error: nan\",\"Pred: 30, Actual: 80, Error: nan\",\"Pred: 40, Actual: 70, Error: nan\",\"Pred: 50, Actual: 60, Error: nan\",\"Pred: 60, Actual: 50, Error: 10\",\"Pred: 70, Actual: 40, Error: 30\",\"Pred: 80, Actual: 30, Error: 50\",\"Pred: 90, Actual: 20, Error: 70\",\"Pred: 100, Actual: 10, Error: 90\"],\"x\":[null,null,null,null,null,10.0,30.0,50.0,70.0,90.0],\"y\":[null,null,null,null,null,10,30,50,70,90],\"type\":\"scatter\"},{\"hoverinfo\":\"text\",\"marker\":{\"color\":\"rgba(0, 128, 255, 0.8)\",\"line\":{\"color\":\"rgba(0, 128, 255, 1)\",\"width\":1},\"size\":10},\"mode\":\"lines+markers\",\"name\":\"Under-Prediction Error\",\"text\":[\"Pred: 10, Actual: 100, Error: 90\",\"Pred: 20, Actual: 90, Error: 70\",\"Pred: 30, Actual: 80, Error: 50\",\"Pred: 40, Actual: 70, Error: 30\",\"Pred: 50, Actual: 60, Error: 10\",\"Pred: 60, Actual: 50, Error: nan\",\"Pred: 70, Actual: 40, Error: nan\",\"Pred: 80, Actual: 30, Error: nan\",\"Pred: 90, Actual: 20, Error: nan\",\"Pred: 100, Actual: 10, Error: nan\"],\"x\":[-90.0,-70.0,-50.0,-30.0,-10.0,null,null,null,null,null],\"y\":[90,70,50,30,10,null,null,null,null,null],\"type\":\"scatter\"}],\"layout\":{\"template\":{\"data\":{\"barpolar\":[{\"marker\":{\"line\":{\"color\":\"white\",\"width\":0.5},\"pattern\":{\"fillmode\":\"overlay\",\"size\":10,\"solidity\":0.2}},\"type\":\"barpolar\"}],\"bar\":[{\"error_x\":{\"color\":\"#2a3f5f\"},\"error_y\":{\"color\":\"#2a3f5f\"},\"marker\":{\"line\":{\"color\":\"white\",\"width\":0.5},\"pattern\":{\"fillmode\":\"overlay\",\"size\":10,\"solidity\":0.2}},\"type\":\"bar\"}],\"carpet\":[{\"aaxis\":{\"endlinecolor\":\"#2a3f5f\",\"gridcolor\":\"#C8D4E3\",\"linecolor\":\"#C8D4E3\",\"minorgridcolor\":\"#C8D4E3\",\"startlinecolor\":\"#2a3f5f\"},\"baxis\":{\"endlinecolor\":\"#2a3f5f\",\"gridcolor\":\"#C8D4E3\",\"linecolor\":\"#C8D4E3\",\"minorgridcolor\":\"#C8D4E3\",\"startlinecolor\":\"#2a3f5f\"},\"type\":\"carpet\"}],\"choropleth\":[{\"colorbar\":{\"outlinewidth\":0,\"ticks\":\"\"},\"type\":\"choropleth\"}],\"contourcarpet\":[{\"colorbar\":{\"outlinewidth\":0,\"ticks\":\"\"},\"type\":\"contourcarpet\"}],\"contour\":[{\"colorbar\":{\"outlinewidth\":0,\"ticks\":\"\"},\"colorscale\":[[0.0,\"#0d0887\"],[0.1111111111111111,\"#46039f\"],[0.2222222222222222,\"#7201a8\"],[0.3333333333333333,\"#9c179e\"],[0.4444444444444444,\"#bd3786\"],[0.5555555555555556,\"#d8576b\"],[0.6666666666666666,\"#ed7953\"],[0.7777777777777778,\"#fb9f3a\"],[0.8888888888888888,\"#fdca26\"],[1.0,\"#f0f921\"]],\"type\":\"contour\"}],\"heatmapgl\":[{\"colorbar\":{\"outlinewidth\":0,\"ticks\":\"\"},\"colorscale\":[[0.0,\"#0d0887\"],[0.1111111111111111,\"#46039f\"],[0.2222222222222222,\"#7201a8\"],[0.3333333333333333,\"#9c179e\"],[0.4444444444444444,\"#bd3786\"],[0.5555555555555556,\"#d8576b\"],[0.6666666666666666,\"#ed7953\"],[0.7777777777777778,\"#fb9f3a\"],[0.8888888888888888,\"#fdca26\"],[1.0,\"#f0f921\"]],\"type\":\"heatmapgl\"}],\"heatmap\":[{\"colorbar\":{\"outlinewidth\":0,\"ticks\":\"\"},\"colorscale\":[[0.0,\"#0d0887\"],[0.1111111111111111,\"#46039f\"],[0.2222222222222222,\"#7201a8\"],[0.3333333333333333,\"#9c179e\"],[0.4444444444444444,\"#bd3786\"],[0.5555555555555556,\"#d8576b\"],[0.6666666666666666,\"#ed7953\"],[0.7777777777777778,\"#fb9f3a\"],[0.8888888888888888,\"#fdca26\"],[1.0,\"#f0f921\"]],\"type\":\"heatmap\"}],\"histogram2dcontour\":[{\"colorbar\":{\"outlinewidth\":0,\"ticks\":\"\"},\"colorscale\":[[0.0,\"#0d0887\"],[0.1111111111111111,\"#46039f\"],[0.2222222222222222,\"#7201a8\"],[0.3333333333333333,\"#9c179e\"],[0.4444444444444444,\"#bd3786\"],[0.5555555555555556,\"#d8576b\"],[0.6666666666666666,\"#ed7953\"],[0.7777777777777778,\"#fb9f3a\"],[0.8888888888888888,\"#fdca26\"],[1.0,\"#f0f921\"]],\"type\":\"histogram2dcontour\"}],\"histogram2d\":[{\"colorbar\":{\"outlinewidth\":0,\"ticks\":\"\"},\"colorscale\":[[0.0,\"#0d0887\"],[0.1111111111111111,\"#46039f\"],[0.2222222222222222,\"#7201a8\"],[0.3333333333333333,\"#9c179e\"],[0.4444444444444444,\"#bd3786\"],[0.5555555555555556,\"#d8576b\"],[0.6666666666666666,\"#ed7953\"],[0.7777777777777778,\"#fb9f3a\"],[0.8888888888888888,\"#fdca26\"],[1.0,\"#f0f921\"]],\"type\":\"histogram2d\"}],\"histogram\":[{\"marker\":{\"pattern\":{\"fillmode\":\"overlay\",\"size\":10,\"solidity\":0.2}},\"type\":\"histogram\"}],\"mesh3d\":[{\"colorbar\":{\"outlinewidth\":0,\"ticks\":\"\"},\"type\":\"mesh3d\"}],\"parcoords\":[{\"line\":{\"colorbar\":{\"outlinewidth\":0,\"ticks\":\"\"}},\"type\":\"parcoords\"}],\"pie\":[{\"automargin\":true,\"type\":\"pie\"}],\"scatter3d\":[{\"line\":{\"colorbar\":{\"outlinewidth\":0,\"ticks\":\"\"}},\"marker\":{\"colorbar\":{\"outlinewidth\":0,\"ticks\":\"\"}},\"type\":\"scatter3d\"}],\"scattercarpet\":[{\"marker\":{\"colorbar\":{\"outlinewidth\":0,\"ticks\":\"\"}},\"type\":\"scattercarpet\"}],\"scattergeo\":[{\"marker\":{\"colorbar\":{\"outlinewidth\":0,\"ticks\":\"\"}},\"type\":\"scattergeo\"}],\"scattergl\":[{\"marker\":{\"colorbar\":{\"outlinewidth\":0,\"ticks\":\"\"}},\"type\":\"scattergl\"}],\"scattermapbox\":[{\"marker\":{\"colorbar\":{\"outlinewidth\":0,\"ticks\":\"\"}},\"type\":\"scattermapbox\"}],\"scatterpolargl\":[{\"marker\":{\"colorbar\":{\"outlinewidth\":0,\"ticks\":\"\"}},\"type\":\"scatterpolargl\"}],\"scatterpolar\":[{\"marker\":{\"colorbar\":{\"outlinewidth\":0,\"ticks\":\"\"}},\"type\":\"scatterpolar\"}],\"scatter\":[{\"fillpattern\":{\"fillmode\":\"overlay\",\"size\":10,\"solidity\":0.2},\"type\":\"scatter\"}],\"scatterternary\":[{\"marker\":{\"colorbar\":{\"outlinewidth\":0,\"ticks\":\"\"}},\"type\":\"scatterternary\"}],\"surface\":[{\"colorbar\":{\"outlinewidth\":0,\"ticks\":\"\"},\"colorscale\":[[0.0,\"#0d0887\"],[0.1111111111111111,\"#46039f\"],[0.2222222222222222,\"#7201a8\"],[0.3333333333333333,\"#9c179e\"],[0.4444444444444444,\"#bd3786\"],[0.5555555555555556,\"#d8576b\"],[0.6666666666666666,\"#ed7953\"],[0.7777777777777778,\"#fb9f3a\"],[0.8888888888888888,\"#fdca26\"],[1.0,\"#f0f921\"]],\"type\":\"surface\"}],\"table\":[{\"cells\":{\"fill\":{\"color\":\"#EBF0F8\"},\"line\":{\"color\":\"white\"}},\"header\":{\"fill\":{\"color\":\"#C8D4E3\"},\"line\":{\"color\":\"white\"}},\"type\":\"table\"}]},\"layout\":{\"annotationdefaults\":{\"arrowcolor\":\"#2a3f5f\",\"arrowhead\":0,\"arrowwidth\":1},\"autotypenumbers\":\"strict\",\"coloraxis\":{\"colorbar\":{\"outlinewidth\":0,\"ticks\":\"\"}},\"colorscale\":{\"diverging\":[[0,\"#8e0152\"],[0.1,\"#c51b7d\"],[0.2,\"#de77ae\"],[0.3,\"#f1b6da\"],[0.4,\"#fde0ef\"],[0.5,\"#f7f7f7\"],[0.6,\"#e6f5d0\"],[0.7,\"#b8e186\"],[0.8,\"#7fbc41\"],[0.9,\"#4d9221\"],[1,\"#276419\"]],\"sequential\":[[0.0,\"#0d0887\"],[0.1111111111111111,\"#46039f\"],[0.2222222222222222,\"#7201a8\"],[0.3333333333333333,\"#9c179e\"],[0.4444444444444444,\"#bd3786\"],[0.5555555555555556,\"#d8576b\"],[0.6666666666666666,\"#ed7953\"],[0.7777777777777778,\"#fb9f3a\"],[0.8888888888888888,\"#fdca26\"],[1.0,\"#f0f921\"]],\"sequentialminus\":[[0.0,\"#0d0887\"],[0.1111111111111111,\"#46039f\"],[0.2222222222222222,\"#7201a8\"],[0.3333333333333333,\"#9c179e\"],[0.4444444444444444,\"#bd3786\"],[0.5555555555555556,\"#d8576b\"],[0.6666666666666666,\"#ed7953\"],[0.7777777777777778,\"#fb9f3a\"],[0.8888888888888888,\"#fdca26\"],[1.0,\"#f0f921\"]]},\"colorway\":[\"#636efa\",\"#EF553B\",\"#00cc96\",\"#ab63fa\",\"#FFA15A\",\"#19d3f3\",\"#FF6692\",\"#B6E880\",\"#FF97FF\",\"#FECB52\"],\"font\":{\"color\":\"#2a3f5f\"},\"geo\":{\"bgcolor\":\"white\",\"lakecolor\":\"white\",\"landcolor\":\"white\",\"showlakes\":true,\"showland\":true,\"subunitcolor\":\"#C8D4E3\"},\"hoverlabel\":{\"align\":\"left\"},\"hovermode\":\"closest\",\"mapbox\":{\"style\":\"light\"},\"paper_bgcolor\":\"white\",\"plot_bgcolor\":\"white\",\"polar\":{\"angularaxis\":{\"gridcolor\":\"#EBF0F8\",\"linecolor\":\"#EBF0F8\",\"ticks\":\"\"},\"bgcolor\":\"white\",\"radialaxis\":{\"gridcolor\":\"#EBF0F8\",\"linecolor\":\"#EBF0F8\",\"ticks\":\"\"}},\"scene\":{\"xaxis\":{\"backgroundcolor\":\"white\",\"gridcolor\":\"#DFE8F3\",\"gridwidth\":2,\"linecolor\":\"#EBF0F8\",\"showbackground\":true,\"ticks\":\"\",\"zerolinecolor\":\"#EBF0F8\"},\"yaxis\":{\"backgroundcolor\":\"white\",\"gridcolor\":\"#DFE8F3\",\"gridwidth\":2,\"linecolor\":\"#EBF0F8\",\"showbackground\":true,\"ticks\":\"\",\"zerolinecolor\":\"#EBF0F8\"},\"zaxis\":{\"backgroundcolor\":\"white\",\"gridcolor\":\"#DFE8F3\",\"gridwidth\":2,\"linecolor\":\"#EBF0F8\",\"showbackground\":true,\"ticks\":\"\",\"zerolinecolor\":\"#EBF0F8\"}},\"shapedefaults\":{\"line\":{\"color\":\"#2a3f5f\"}},\"ternary\":{\"aaxis\":{\"gridcolor\":\"#DFE8F3\",\"linecolor\":\"#A2B1C6\",\"ticks\":\"\"},\"baxis\":{\"gridcolor\":\"#DFE8F3\",\"linecolor\":\"#A2B1C6\",\"ticks\":\"\"},\"bgcolor\":\"white\",\"caxis\":{\"gridcolor\":\"#DFE8F3\",\"linecolor\":\"#A2B1C6\",\"ticks\":\"\"}},\"title\":{\"x\":0.05},\"xaxis\":{\"automargin\":true,\"gridcolor\":\"#EBF0F8\",\"linecolor\":\"#EBF0F8\",\"ticks\":\"\",\"title\":{\"standoff\":15},\"zerolinecolor\":\"#EBF0F8\",\"zerolinewidth\":2},\"yaxis\":{\"automargin\":true,\"gridcolor\":\"#EBF0F8\",\"linecolor\":\"#EBF0F8\",\"ticks\":\"\",\"title\":{\"standoff\":15},\"zerolinecolor\":\"#EBF0F8\",\"zerolinewidth\":2}}},\"title\":{\"text\":\"Error Analysis: Geometric Mean Absolute Error for Over- and Under-Prediction\",\"x\":0.5,\"font\":{\"size\":16,\"family\":\"\\\"Segoe UI\\\", \\\"Roboto\\\", \\\"Oxygen\\\", \\\"Ubuntu\\\", \\\"Droid Sans\\\", \\\"Helvetica Neue\\\", sans-serif\",\"weight\":\"bold\"}},\"font\":{\"size\":14,\"family\":\"\\\"Segoe UI\\\", \\\"Roboto\\\", \\\"Oxygen\\\", \\\"Ubuntu\\\", \\\"Droid Sans\\\", \\\"Helvetica Neue\\\", sans-serif\"},\"xaxis\":{\"title\":{\"text\":\"Difference between Predicted and Actual Values\"},\"tickmode\":\"array\",\"gridcolor\":\"lightgrey\",\"tickvals\":[-90,-50,-10,30,70],\"ticktext\":[\"Pred: 10, Actual: 100\",\"Pred: 30, Actual: 80\",\"Pred: 50, Actual: 60\",\"Pred: 70, Actual: 40\",\"Pred: 90, Actual: 20\"]},\"yaxis\":{\"title\":{\"text\":\"Error\"},\"gridcolor\":\"lightgrey\",\"zeroline\":true,\"zerolinecolor\":\"black\",\"zerolinewidth\":1},\"showlegend\":false,\"plot_bgcolor\":\"rgba(240, 240, 240, 0.95)\",\"annotations\":[{\"align\":\"center\",\"font\":{\"color\":\"black\",\"size\":14},\"showarrow\":false,\"text\":\"Under-Prediction\",\"x\":-50,\"y\":50.0},{\"align\":\"center\",\"font\":{\"color\":\"black\",\"size\":14},\"showarrow\":false,\"text\":\"Over-Prediction\",\"x\":50,\"y\":50.0}],\"shapes\":[{\"fillcolor\":\"rgba(0, 128, 255, 0.2)\",\"layer\":\"below\",\"line\":{\"color\":\"rgba(0, 128, 255, 1)\",\"width\":1},\"type\":\"rect\",\"x0\":-90,\"x1\":0,\"y0\":0,\"y1\":100.0},{\"fillcolor\":\"rgba(255, 165, 0, 0.2)\",\"layer\":\"below\",\"line\":{\"color\":\"rgba(255, 165, 0, 1)\",\"width\":1},\"type\":\"rect\",\"x0\":0,\"x1\":90,\"y0\":null,\"y1\":100.0}]}}\n",
      "                )\n",
      "            };\n",
      "        </script>\n",
      "    </div>\n",
      "    \n"
     ]
    }
   ],
   "source": [
    "def geometric_mean_absolute_error(actual, pred):\n",
    "    actual, pred = np.array(actual), np.array(pred)\n",
    "    absolute_errors = np.abs(actual - pred)\n",
    "    gmae = np.prod(absolute_errors) ** (1 / len(absolute_errors))\n",
    "    return gmae  # Return the geometric mean absolute error\n",
    "\n",
    "html_str = plot_error_symmetry(geometric_mean_absolute_error)\n",
    "print(html_str)"
   ]
  },
  {
   "cell_type": "code",
   "execution_count": 6,
   "metadata": {},
   "outputs": [
    {
     "data": {
      "application/vnd.plotly.v1+json": {
       "config": {
        "plotlyServerURL": "https://plot.ly"
       },
       "data": [
        {
         "hoverinfo": "text",
         "marker": {
          "color": "rgba(255, 165, 0, 0.8)",
          "line": {
           "color": "rgba(255, 165, 0, 1)",
           "width": 1
          },
          "size": 10
         },
         "mode": "lines+markers",
         "name": "Over-Prediction Error",
         "text": [
          "Pred: 10, Actual: 100, Error: nan",
          "Pred: 20, Actual: 90, Error: nan",
          "Pred: 30, Actual: 80, Error: nan",
          "Pred: 40, Actual: 70, Error: nan",
          "Pred: 50, Actual: 60, Error: nan",
          "Pred: 60, Actual: 50, Error: 100",
          "Pred: 70, Actual: 40, Error: 900",
          "Pred: 80, Actual: 30, Error: 2500",
          "Pred: 90, Actual: 20, Error: 4900",
          "Pred: 100, Actual: 10, Error: 8100"
         ],
         "type": "scatter",
         "x": [
          null,
          null,
          null,
          null,
          null,
          10,
          30,
          50,
          70,
          90
         ],
         "y": [
          null,
          null,
          null,
          null,
          null,
          100,
          900,
          2500,
          4900,
          8100
         ]
        },
        {
         "hoverinfo": "text",
         "marker": {
          "color": "rgba(0, 128, 255, 0.8)",
          "line": {
           "color": "rgba(0, 128, 255, 1)",
           "width": 1
          },
          "size": 10
         },
         "mode": "lines+markers",
         "name": "Under-Prediction Error",
         "text": [
          "Pred: 10, Actual: 100, Error: 8100",
          "Pred: 20, Actual: 90, Error: 4900",
          "Pred: 30, Actual: 80, Error: 2500",
          "Pred: 40, Actual: 70, Error: 900",
          "Pred: 50, Actual: 60, Error: 100",
          "Pred: 60, Actual: 50, Error: nan",
          "Pred: 70, Actual: 40, Error: nan",
          "Pred: 80, Actual: 30, Error: nan",
          "Pred: 90, Actual: 20, Error: nan",
          "Pred: 100, Actual: 10, Error: nan"
         ],
         "type": "scatter",
         "x": [
          -90,
          -70,
          -50,
          -30,
          -10,
          null,
          null,
          null,
          null,
          null
         ],
         "y": [
          8100,
          4900,
          2500,
          900,
          100,
          null,
          null,
          null,
          null,
          null
         ]
        }
       ],
       "layout": {
        "annotations": [
         {
          "align": "center",
          "font": {
           "color": "black",
           "size": 14
          },
          "showarrow": false,
          "text": "Under-Prediction",
          "x": -50,
          "y": 4100
         },
         {
          "align": "center",
          "font": {
           "color": "black",
           "size": 14
          },
          "showarrow": false,
          "text": "Over-Prediction",
          "x": 50,
          "y": 4100
         }
        ],
        "font": {
         "family": "\"Segoe UI\", \"Roboto\", \"Oxygen\", \"Ubuntu\", \"Droid Sans\", \"Helvetica Neue\", sans-serif",
         "size": 14
        },
        "plot_bgcolor": "rgba(240, 240, 240, 0.95)",
        "shapes": [
         {
          "fillcolor": "rgba(0, 128, 255, 0.2)",
          "layer": "below",
          "line": {
           "color": "rgba(0, 128, 255, 1)",
           "width": 1
          },
          "type": "rect",
          "x0": -90,
          "x1": 0,
          "y0": 0,
          "y1": 8200
         },
         {
          "fillcolor": "rgba(255, 165, 0, 0.2)",
          "layer": "below",
          "line": {
           "color": "rgba(255, 165, 0, 1)",
           "width": 1
          },
          "type": "rect",
          "x0": 0,
          "x1": 90,
          "y0": null,
          "y1": 8200
         }
        ],
        "showlegend": false,
        "template": {
         "data": {
          "bar": [
           {
            "error_x": {
             "color": "#2a3f5f"
            },
            "error_y": {
             "color": "#2a3f5f"
            },
            "marker": {
             "line": {
              "color": "white",
              "width": 0.5
             },
             "pattern": {
              "fillmode": "overlay",
              "size": 10,
              "solidity": 0.2
             }
            },
            "type": "bar"
           }
          ],
          "barpolar": [
           {
            "marker": {
             "line": {
              "color": "white",
              "width": 0.5
             },
             "pattern": {
              "fillmode": "overlay",
              "size": 10,
              "solidity": 0.2
             }
            },
            "type": "barpolar"
           }
          ],
          "carpet": [
           {
            "aaxis": {
             "endlinecolor": "#2a3f5f",
             "gridcolor": "#C8D4E3",
             "linecolor": "#C8D4E3",
             "minorgridcolor": "#C8D4E3",
             "startlinecolor": "#2a3f5f"
            },
            "baxis": {
             "endlinecolor": "#2a3f5f",
             "gridcolor": "#C8D4E3",
             "linecolor": "#C8D4E3",
             "minorgridcolor": "#C8D4E3",
             "startlinecolor": "#2a3f5f"
            },
            "type": "carpet"
           }
          ],
          "choropleth": [
           {
            "colorbar": {
             "outlinewidth": 0,
             "ticks": ""
            },
            "type": "choropleth"
           }
          ],
          "contour": [
           {
            "colorbar": {
             "outlinewidth": 0,
             "ticks": ""
            },
            "colorscale": [
             [
              0,
              "#0d0887"
             ],
             [
              0.1111111111111111,
              "#46039f"
             ],
             [
              0.2222222222222222,
              "#7201a8"
             ],
             [
              0.3333333333333333,
              "#9c179e"
             ],
             [
              0.4444444444444444,
              "#bd3786"
             ],
             [
              0.5555555555555556,
              "#d8576b"
             ],
             [
              0.6666666666666666,
              "#ed7953"
             ],
             [
              0.7777777777777778,
              "#fb9f3a"
             ],
             [
              0.8888888888888888,
              "#fdca26"
             ],
             [
              1,
              "#f0f921"
             ]
            ],
            "type": "contour"
           }
          ],
          "contourcarpet": [
           {
            "colorbar": {
             "outlinewidth": 0,
             "ticks": ""
            },
            "type": "contourcarpet"
           }
          ],
          "heatmap": [
           {
            "colorbar": {
             "outlinewidth": 0,
             "ticks": ""
            },
            "colorscale": [
             [
              0,
              "#0d0887"
             ],
             [
              0.1111111111111111,
              "#46039f"
             ],
             [
              0.2222222222222222,
              "#7201a8"
             ],
             [
              0.3333333333333333,
              "#9c179e"
             ],
             [
              0.4444444444444444,
              "#bd3786"
             ],
             [
              0.5555555555555556,
              "#d8576b"
             ],
             [
              0.6666666666666666,
              "#ed7953"
             ],
             [
              0.7777777777777778,
              "#fb9f3a"
             ],
             [
              0.8888888888888888,
              "#fdca26"
             ],
             [
              1,
              "#f0f921"
             ]
            ],
            "type": "heatmap"
           }
          ],
          "heatmapgl": [
           {
            "colorbar": {
             "outlinewidth": 0,
             "ticks": ""
            },
            "colorscale": [
             [
              0,
              "#0d0887"
             ],
             [
              0.1111111111111111,
              "#46039f"
             ],
             [
              0.2222222222222222,
              "#7201a8"
             ],
             [
              0.3333333333333333,
              "#9c179e"
             ],
             [
              0.4444444444444444,
              "#bd3786"
             ],
             [
              0.5555555555555556,
              "#d8576b"
             ],
             [
              0.6666666666666666,
              "#ed7953"
             ],
             [
              0.7777777777777778,
              "#fb9f3a"
             ],
             [
              0.8888888888888888,
              "#fdca26"
             ],
             [
              1,
              "#f0f921"
             ]
            ],
            "type": "heatmapgl"
           }
          ],
          "histogram": [
           {
            "marker": {
             "pattern": {
              "fillmode": "overlay",
              "size": 10,
              "solidity": 0.2
             }
            },
            "type": "histogram"
           }
          ],
          "histogram2d": [
           {
            "colorbar": {
             "outlinewidth": 0,
             "ticks": ""
            },
            "colorscale": [
             [
              0,
              "#0d0887"
             ],
             [
              0.1111111111111111,
              "#46039f"
             ],
             [
              0.2222222222222222,
              "#7201a8"
             ],
             [
              0.3333333333333333,
              "#9c179e"
             ],
             [
              0.4444444444444444,
              "#bd3786"
             ],
             [
              0.5555555555555556,
              "#d8576b"
             ],
             [
              0.6666666666666666,
              "#ed7953"
             ],
             [
              0.7777777777777778,
              "#fb9f3a"
             ],
             [
              0.8888888888888888,
              "#fdca26"
             ],
             [
              1,
              "#f0f921"
             ]
            ],
            "type": "histogram2d"
           }
          ],
          "histogram2dcontour": [
           {
            "colorbar": {
             "outlinewidth": 0,
             "ticks": ""
            },
            "colorscale": [
             [
              0,
              "#0d0887"
             ],
             [
              0.1111111111111111,
              "#46039f"
             ],
             [
              0.2222222222222222,
              "#7201a8"
             ],
             [
              0.3333333333333333,
              "#9c179e"
             ],
             [
              0.4444444444444444,
              "#bd3786"
             ],
             [
              0.5555555555555556,
              "#d8576b"
             ],
             [
              0.6666666666666666,
              "#ed7953"
             ],
             [
              0.7777777777777778,
              "#fb9f3a"
             ],
             [
              0.8888888888888888,
              "#fdca26"
             ],
             [
              1,
              "#f0f921"
             ]
            ],
            "type": "histogram2dcontour"
           }
          ],
          "mesh3d": [
           {
            "colorbar": {
             "outlinewidth": 0,
             "ticks": ""
            },
            "type": "mesh3d"
           }
          ],
          "parcoords": [
           {
            "line": {
             "colorbar": {
              "outlinewidth": 0,
              "ticks": ""
             }
            },
            "type": "parcoords"
           }
          ],
          "pie": [
           {
            "automargin": true,
            "type": "pie"
           }
          ],
          "scatter": [
           {
            "fillpattern": {
             "fillmode": "overlay",
             "size": 10,
             "solidity": 0.2
            },
            "type": "scatter"
           }
          ],
          "scatter3d": [
           {
            "line": {
             "colorbar": {
              "outlinewidth": 0,
              "ticks": ""
             }
            },
            "marker": {
             "colorbar": {
              "outlinewidth": 0,
              "ticks": ""
             }
            },
            "type": "scatter3d"
           }
          ],
          "scattercarpet": [
           {
            "marker": {
             "colorbar": {
              "outlinewidth": 0,
              "ticks": ""
             }
            },
            "type": "scattercarpet"
           }
          ],
          "scattergeo": [
           {
            "marker": {
             "colorbar": {
              "outlinewidth": 0,
              "ticks": ""
             }
            },
            "type": "scattergeo"
           }
          ],
          "scattergl": [
           {
            "marker": {
             "colorbar": {
              "outlinewidth": 0,
              "ticks": ""
             }
            },
            "type": "scattergl"
           }
          ],
          "scattermapbox": [
           {
            "marker": {
             "colorbar": {
              "outlinewidth": 0,
              "ticks": ""
             }
            },
            "type": "scattermapbox"
           }
          ],
          "scatterpolar": [
           {
            "marker": {
             "colorbar": {
              "outlinewidth": 0,
              "ticks": ""
             }
            },
            "type": "scatterpolar"
           }
          ],
          "scatterpolargl": [
           {
            "marker": {
             "colorbar": {
              "outlinewidth": 0,
              "ticks": ""
             }
            },
            "type": "scatterpolargl"
           }
          ],
          "scatterternary": [
           {
            "marker": {
             "colorbar": {
              "outlinewidth": 0,
              "ticks": ""
             }
            },
            "type": "scatterternary"
           }
          ],
          "surface": [
           {
            "colorbar": {
             "outlinewidth": 0,
             "ticks": ""
            },
            "colorscale": [
             [
              0,
              "#0d0887"
             ],
             [
              0.1111111111111111,
              "#46039f"
             ],
             [
              0.2222222222222222,
              "#7201a8"
             ],
             [
              0.3333333333333333,
              "#9c179e"
             ],
             [
              0.4444444444444444,
              "#bd3786"
             ],
             [
              0.5555555555555556,
              "#d8576b"
             ],
             [
              0.6666666666666666,
              "#ed7953"
             ],
             [
              0.7777777777777778,
              "#fb9f3a"
             ],
             [
              0.8888888888888888,
              "#fdca26"
             ],
             [
              1,
              "#f0f921"
             ]
            ],
            "type": "surface"
           }
          ],
          "table": [
           {
            "cells": {
             "fill": {
              "color": "#EBF0F8"
             },
             "line": {
              "color": "white"
             }
            },
            "header": {
             "fill": {
              "color": "#C8D4E3"
             },
             "line": {
              "color": "white"
             }
            },
            "type": "table"
           }
          ]
         },
         "layout": {
          "annotationdefaults": {
           "arrowcolor": "#2a3f5f",
           "arrowhead": 0,
           "arrowwidth": 1
          },
          "autotypenumbers": "strict",
          "coloraxis": {
           "colorbar": {
            "outlinewidth": 0,
            "ticks": ""
           }
          },
          "colorscale": {
           "diverging": [
            [
             0,
             "#8e0152"
            ],
            [
             0.1,
             "#c51b7d"
            ],
            [
             0.2,
             "#de77ae"
            ],
            [
             0.3,
             "#f1b6da"
            ],
            [
             0.4,
             "#fde0ef"
            ],
            [
             0.5,
             "#f7f7f7"
            ],
            [
             0.6,
             "#e6f5d0"
            ],
            [
             0.7,
             "#b8e186"
            ],
            [
             0.8,
             "#7fbc41"
            ],
            [
             0.9,
             "#4d9221"
            ],
            [
             1,
             "#276419"
            ]
           ],
           "sequential": [
            [
             0,
             "#0d0887"
            ],
            [
             0.1111111111111111,
             "#46039f"
            ],
            [
             0.2222222222222222,
             "#7201a8"
            ],
            [
             0.3333333333333333,
             "#9c179e"
            ],
            [
             0.4444444444444444,
             "#bd3786"
            ],
            [
             0.5555555555555556,
             "#d8576b"
            ],
            [
             0.6666666666666666,
             "#ed7953"
            ],
            [
             0.7777777777777778,
             "#fb9f3a"
            ],
            [
             0.8888888888888888,
             "#fdca26"
            ],
            [
             1,
             "#f0f921"
            ]
           ],
           "sequentialminus": [
            [
             0,
             "#0d0887"
            ],
            [
             0.1111111111111111,
             "#46039f"
            ],
            [
             0.2222222222222222,
             "#7201a8"
            ],
            [
             0.3333333333333333,
             "#9c179e"
            ],
            [
             0.4444444444444444,
             "#bd3786"
            ],
            [
             0.5555555555555556,
             "#d8576b"
            ],
            [
             0.6666666666666666,
             "#ed7953"
            ],
            [
             0.7777777777777778,
             "#fb9f3a"
            ],
            [
             0.8888888888888888,
             "#fdca26"
            ],
            [
             1,
             "#f0f921"
            ]
           ]
          },
          "colorway": [
           "#636efa",
           "#EF553B",
           "#00cc96",
           "#ab63fa",
           "#FFA15A",
           "#19d3f3",
           "#FF6692",
           "#B6E880",
           "#FF97FF",
           "#FECB52"
          ],
          "font": {
           "color": "#2a3f5f"
          },
          "geo": {
           "bgcolor": "white",
           "lakecolor": "white",
           "landcolor": "white",
           "showlakes": true,
           "showland": true,
           "subunitcolor": "#C8D4E3"
          },
          "hoverlabel": {
           "align": "left"
          },
          "hovermode": "closest",
          "mapbox": {
           "style": "light"
          },
          "paper_bgcolor": "white",
          "plot_bgcolor": "white",
          "polar": {
           "angularaxis": {
            "gridcolor": "#EBF0F8",
            "linecolor": "#EBF0F8",
            "ticks": ""
           },
           "bgcolor": "white",
           "radialaxis": {
            "gridcolor": "#EBF0F8",
            "linecolor": "#EBF0F8",
            "ticks": ""
           }
          },
          "scene": {
           "xaxis": {
            "backgroundcolor": "white",
            "gridcolor": "#DFE8F3",
            "gridwidth": 2,
            "linecolor": "#EBF0F8",
            "showbackground": true,
            "ticks": "",
            "zerolinecolor": "#EBF0F8"
           },
           "yaxis": {
            "backgroundcolor": "white",
            "gridcolor": "#DFE8F3",
            "gridwidth": 2,
            "linecolor": "#EBF0F8",
            "showbackground": true,
            "ticks": "",
            "zerolinecolor": "#EBF0F8"
           },
           "zaxis": {
            "backgroundcolor": "white",
            "gridcolor": "#DFE8F3",
            "gridwidth": 2,
            "linecolor": "#EBF0F8",
            "showbackground": true,
            "ticks": "",
            "zerolinecolor": "#EBF0F8"
           }
          },
          "shapedefaults": {
           "line": {
            "color": "#2a3f5f"
           }
          },
          "ternary": {
           "aaxis": {
            "gridcolor": "#DFE8F3",
            "linecolor": "#A2B1C6",
            "ticks": ""
           },
           "baxis": {
            "gridcolor": "#DFE8F3",
            "linecolor": "#A2B1C6",
            "ticks": ""
           },
           "bgcolor": "white",
           "caxis": {
            "gridcolor": "#DFE8F3",
            "linecolor": "#A2B1C6",
            "ticks": ""
           }
          },
          "title": {
           "x": 0.05
          },
          "xaxis": {
           "automargin": true,
           "gridcolor": "#EBF0F8",
           "linecolor": "#EBF0F8",
           "ticks": "",
           "title": {
            "standoff": 15
           },
           "zerolinecolor": "#EBF0F8",
           "zerolinewidth": 2
          },
          "yaxis": {
           "automargin": true,
           "gridcolor": "#EBF0F8",
           "linecolor": "#EBF0F8",
           "ticks": "",
           "title": {
            "standoff": 15
           },
           "zerolinecolor": "#EBF0F8",
           "zerolinewidth": 2
          }
         }
        },
        "title": {
         "font": {
          "family": "\"Segoe UI\", \"Roboto\", \"Oxygen\", \"Ubuntu\", \"Droid Sans\", \"Helvetica Neue\", sans-serif",
          "size": 16,
          "weight": "bold"
         },
         "text": "Error Analysis: Squared Error for Over- and Under-Prediction",
         "x": 0.5
        },
        "xaxis": {
         "gridcolor": "lightgrey",
         "tickmode": "array",
         "ticktext": [
          "Pred: 10, Actual: 100",
          "Pred: 30, Actual: 80",
          "Pred: 50, Actual: 60",
          "Pred: 70, Actual: 40",
          "Pred: 90, Actual: 20"
         ],
         "tickvals": [
          -90,
          -50,
          -10,
          30,
          70
         ],
         "title": {
          "text": "Difference between Predicted and Actual Values"
         }
        },
        "yaxis": {
         "gridcolor": "lightgrey",
         "title": {
          "text": "Error"
         },
         "zeroline": true,
         "zerolinecolor": "black",
         "zerolinewidth": 1
        }
       }
      }
     },
     "metadata": {},
     "output_type": "display_data"
    },
    {
     "name": "stdout",
     "output_type": "stream",
     "text": [
      "\n",
      "    <div style=\"width: 100%; height: auto;\">\n",
      "        <script type=\"text/javascript\">window.PlotlyConfig = {MathJaxConfig: 'local'};</script>\n",
      "        <div id=\"dcb8a5df-bfab-4252-9a28-97bc237afe42\" class=\"plotly-graph-div\" style=\"width: 100%; height: auto;\"></div>\n",
      "        <script type=\"text/javascript\">\n",
      "            window.PLOTLYENV=window.PLOTLYENV || {};\n",
      "            if (document.getElementById(\"dcb8a5df-bfab-4252-9a28-97bc237afe42\")) {\n",
      "                Plotly.newPlot(\n",
      "                    \"dcb8a5df-bfab-4252-9a28-97bc237afe42\",\n",
      "                    {\"data\":[{\"hoverinfo\":\"text\",\"marker\":{\"color\":\"rgba(255, 165, 0, 0.8)\",\"line\":{\"color\":\"rgba(255, 165, 0, 1)\",\"width\":1},\"size\":10},\"mode\":\"lines+markers\",\"name\":\"Over-Prediction Error\",\"text\":[\"Pred: 10, Actual: 100, Error: nan\",\"Pred: 20, Actual: 90, Error: nan\",\"Pred: 30, Actual: 80, Error: nan\",\"Pred: 40, Actual: 70, Error: nan\",\"Pred: 50, Actual: 60, Error: nan\",\"Pred: 60, Actual: 50, Error: 100\",\"Pred: 70, Actual: 40, Error: 900\",\"Pred: 80, Actual: 30, Error: 2500\",\"Pred: 90, Actual: 20, Error: 4900\",\"Pred: 100, Actual: 10, Error: 8100\"],\"x\":[null,null,null,null,null,10.0,30.0,50.0,70.0,90.0],\"y\":[null,null,null,null,null,100,900,2500,4900,8100],\"type\":\"scatter\"},{\"hoverinfo\":\"text\",\"marker\":{\"color\":\"rgba(0, 128, 255, 0.8)\",\"line\":{\"color\":\"rgba(0, 128, 255, 1)\",\"width\":1},\"size\":10},\"mode\":\"lines+markers\",\"name\":\"Under-Prediction Error\",\"text\":[\"Pred: 10, Actual: 100, Error: 8100\",\"Pred: 20, Actual: 90, Error: 4900\",\"Pred: 30, Actual: 80, Error: 2500\",\"Pred: 40, Actual: 70, Error: 900\",\"Pred: 50, Actual: 60, Error: 100\",\"Pred: 60, Actual: 50, Error: nan\",\"Pred: 70, Actual: 40, Error: nan\",\"Pred: 80, Actual: 30, Error: nan\",\"Pred: 90, Actual: 20, Error: nan\",\"Pred: 100, Actual: 10, Error: nan\"],\"x\":[-90.0,-70.0,-50.0,-30.0,-10.0,null,null,null,null,null],\"y\":[8100,4900,2500,900,100,null,null,null,null,null],\"type\":\"scatter\"}],\"layout\":{\"template\":{\"data\":{\"barpolar\":[{\"marker\":{\"line\":{\"color\":\"white\",\"width\":0.5},\"pattern\":{\"fillmode\":\"overlay\",\"size\":10,\"solidity\":0.2}},\"type\":\"barpolar\"}],\"bar\":[{\"error_x\":{\"color\":\"#2a3f5f\"},\"error_y\":{\"color\":\"#2a3f5f\"},\"marker\":{\"line\":{\"color\":\"white\",\"width\":0.5},\"pattern\":{\"fillmode\":\"overlay\",\"size\":10,\"solidity\":0.2}},\"type\":\"bar\"}],\"carpet\":[{\"aaxis\":{\"endlinecolor\":\"#2a3f5f\",\"gridcolor\":\"#C8D4E3\",\"linecolor\":\"#C8D4E3\",\"minorgridcolor\":\"#C8D4E3\",\"startlinecolor\":\"#2a3f5f\"},\"baxis\":{\"endlinecolor\":\"#2a3f5f\",\"gridcolor\":\"#C8D4E3\",\"linecolor\":\"#C8D4E3\",\"minorgridcolor\":\"#C8D4E3\",\"startlinecolor\":\"#2a3f5f\"},\"type\":\"carpet\"}],\"choropleth\":[{\"colorbar\":{\"outlinewidth\":0,\"ticks\":\"\"},\"type\":\"choropleth\"}],\"contourcarpet\":[{\"colorbar\":{\"outlinewidth\":0,\"ticks\":\"\"},\"type\":\"contourcarpet\"}],\"contour\":[{\"colorbar\":{\"outlinewidth\":0,\"ticks\":\"\"},\"colorscale\":[[0.0,\"#0d0887\"],[0.1111111111111111,\"#46039f\"],[0.2222222222222222,\"#7201a8\"],[0.3333333333333333,\"#9c179e\"],[0.4444444444444444,\"#bd3786\"],[0.5555555555555556,\"#d8576b\"],[0.6666666666666666,\"#ed7953\"],[0.7777777777777778,\"#fb9f3a\"],[0.8888888888888888,\"#fdca26\"],[1.0,\"#f0f921\"]],\"type\":\"contour\"}],\"heatmapgl\":[{\"colorbar\":{\"outlinewidth\":0,\"ticks\":\"\"},\"colorscale\":[[0.0,\"#0d0887\"],[0.1111111111111111,\"#46039f\"],[0.2222222222222222,\"#7201a8\"],[0.3333333333333333,\"#9c179e\"],[0.4444444444444444,\"#bd3786\"],[0.5555555555555556,\"#d8576b\"],[0.6666666666666666,\"#ed7953\"],[0.7777777777777778,\"#fb9f3a\"],[0.8888888888888888,\"#fdca26\"],[1.0,\"#f0f921\"]],\"type\":\"heatmapgl\"}],\"heatmap\":[{\"colorbar\":{\"outlinewidth\":0,\"ticks\":\"\"},\"colorscale\":[[0.0,\"#0d0887\"],[0.1111111111111111,\"#46039f\"],[0.2222222222222222,\"#7201a8\"],[0.3333333333333333,\"#9c179e\"],[0.4444444444444444,\"#bd3786\"],[0.5555555555555556,\"#d8576b\"],[0.6666666666666666,\"#ed7953\"],[0.7777777777777778,\"#fb9f3a\"],[0.8888888888888888,\"#fdca26\"],[1.0,\"#f0f921\"]],\"type\":\"heatmap\"}],\"histogram2dcontour\":[{\"colorbar\":{\"outlinewidth\":0,\"ticks\":\"\"},\"colorscale\":[[0.0,\"#0d0887\"],[0.1111111111111111,\"#46039f\"],[0.2222222222222222,\"#7201a8\"],[0.3333333333333333,\"#9c179e\"],[0.4444444444444444,\"#bd3786\"],[0.5555555555555556,\"#d8576b\"],[0.6666666666666666,\"#ed7953\"],[0.7777777777777778,\"#fb9f3a\"],[0.8888888888888888,\"#fdca26\"],[1.0,\"#f0f921\"]],\"type\":\"histogram2dcontour\"}],\"histogram2d\":[{\"colorbar\":{\"outlinewidth\":0,\"ticks\":\"\"},\"colorscale\":[[0.0,\"#0d0887\"],[0.1111111111111111,\"#46039f\"],[0.2222222222222222,\"#7201a8\"],[0.3333333333333333,\"#9c179e\"],[0.4444444444444444,\"#bd3786\"],[0.5555555555555556,\"#d8576b\"],[0.6666666666666666,\"#ed7953\"],[0.7777777777777778,\"#fb9f3a\"],[0.8888888888888888,\"#fdca26\"],[1.0,\"#f0f921\"]],\"type\":\"histogram2d\"}],\"histogram\":[{\"marker\":{\"pattern\":{\"fillmode\":\"overlay\",\"size\":10,\"solidity\":0.2}},\"type\":\"histogram\"}],\"mesh3d\":[{\"colorbar\":{\"outlinewidth\":0,\"ticks\":\"\"},\"type\":\"mesh3d\"}],\"parcoords\":[{\"line\":{\"colorbar\":{\"outlinewidth\":0,\"ticks\":\"\"}},\"type\":\"parcoords\"}],\"pie\":[{\"automargin\":true,\"type\":\"pie\"}],\"scatter3d\":[{\"line\":{\"colorbar\":{\"outlinewidth\":0,\"ticks\":\"\"}},\"marker\":{\"colorbar\":{\"outlinewidth\":0,\"ticks\":\"\"}},\"type\":\"scatter3d\"}],\"scattercarpet\":[{\"marker\":{\"colorbar\":{\"outlinewidth\":0,\"ticks\":\"\"}},\"type\":\"scattercarpet\"}],\"scattergeo\":[{\"marker\":{\"colorbar\":{\"outlinewidth\":0,\"ticks\":\"\"}},\"type\":\"scattergeo\"}],\"scattergl\":[{\"marker\":{\"colorbar\":{\"outlinewidth\":0,\"ticks\":\"\"}},\"type\":\"scattergl\"}],\"scattermapbox\":[{\"marker\":{\"colorbar\":{\"outlinewidth\":0,\"ticks\":\"\"}},\"type\":\"scattermapbox\"}],\"scatterpolargl\":[{\"marker\":{\"colorbar\":{\"outlinewidth\":0,\"ticks\":\"\"}},\"type\":\"scatterpolargl\"}],\"scatterpolar\":[{\"marker\":{\"colorbar\":{\"outlinewidth\":0,\"ticks\":\"\"}},\"type\":\"scatterpolar\"}],\"scatter\":[{\"fillpattern\":{\"fillmode\":\"overlay\",\"size\":10,\"solidity\":0.2},\"type\":\"scatter\"}],\"scatterternary\":[{\"marker\":{\"colorbar\":{\"outlinewidth\":0,\"ticks\":\"\"}},\"type\":\"scatterternary\"}],\"surface\":[{\"colorbar\":{\"outlinewidth\":0,\"ticks\":\"\"},\"colorscale\":[[0.0,\"#0d0887\"],[0.1111111111111111,\"#46039f\"],[0.2222222222222222,\"#7201a8\"],[0.3333333333333333,\"#9c179e\"],[0.4444444444444444,\"#bd3786\"],[0.5555555555555556,\"#d8576b\"],[0.6666666666666666,\"#ed7953\"],[0.7777777777777778,\"#fb9f3a\"],[0.8888888888888888,\"#fdca26\"],[1.0,\"#f0f921\"]],\"type\":\"surface\"}],\"table\":[{\"cells\":{\"fill\":{\"color\":\"#EBF0F8\"},\"line\":{\"color\":\"white\"}},\"header\":{\"fill\":{\"color\":\"#C8D4E3\"},\"line\":{\"color\":\"white\"}},\"type\":\"table\"}]},\"layout\":{\"annotationdefaults\":{\"arrowcolor\":\"#2a3f5f\",\"arrowhead\":0,\"arrowwidth\":1},\"autotypenumbers\":\"strict\",\"coloraxis\":{\"colorbar\":{\"outlinewidth\":0,\"ticks\":\"\"}},\"colorscale\":{\"diverging\":[[0,\"#8e0152\"],[0.1,\"#c51b7d\"],[0.2,\"#de77ae\"],[0.3,\"#f1b6da\"],[0.4,\"#fde0ef\"],[0.5,\"#f7f7f7\"],[0.6,\"#e6f5d0\"],[0.7,\"#b8e186\"],[0.8,\"#7fbc41\"],[0.9,\"#4d9221\"],[1,\"#276419\"]],\"sequential\":[[0.0,\"#0d0887\"],[0.1111111111111111,\"#46039f\"],[0.2222222222222222,\"#7201a8\"],[0.3333333333333333,\"#9c179e\"],[0.4444444444444444,\"#bd3786\"],[0.5555555555555556,\"#d8576b\"],[0.6666666666666666,\"#ed7953\"],[0.7777777777777778,\"#fb9f3a\"],[0.8888888888888888,\"#fdca26\"],[1.0,\"#f0f921\"]],\"sequentialminus\":[[0.0,\"#0d0887\"],[0.1111111111111111,\"#46039f\"],[0.2222222222222222,\"#7201a8\"],[0.3333333333333333,\"#9c179e\"],[0.4444444444444444,\"#bd3786\"],[0.5555555555555556,\"#d8576b\"],[0.6666666666666666,\"#ed7953\"],[0.7777777777777778,\"#fb9f3a\"],[0.8888888888888888,\"#fdca26\"],[1.0,\"#f0f921\"]]},\"colorway\":[\"#636efa\",\"#EF553B\",\"#00cc96\",\"#ab63fa\",\"#FFA15A\",\"#19d3f3\",\"#FF6692\",\"#B6E880\",\"#FF97FF\",\"#FECB52\"],\"font\":{\"color\":\"#2a3f5f\"},\"geo\":{\"bgcolor\":\"white\",\"lakecolor\":\"white\",\"landcolor\":\"white\",\"showlakes\":true,\"showland\":true,\"subunitcolor\":\"#C8D4E3\"},\"hoverlabel\":{\"align\":\"left\"},\"hovermode\":\"closest\",\"mapbox\":{\"style\":\"light\"},\"paper_bgcolor\":\"white\",\"plot_bgcolor\":\"white\",\"polar\":{\"angularaxis\":{\"gridcolor\":\"#EBF0F8\",\"linecolor\":\"#EBF0F8\",\"ticks\":\"\"},\"bgcolor\":\"white\",\"radialaxis\":{\"gridcolor\":\"#EBF0F8\",\"linecolor\":\"#EBF0F8\",\"ticks\":\"\"}},\"scene\":{\"xaxis\":{\"backgroundcolor\":\"white\",\"gridcolor\":\"#DFE8F3\",\"gridwidth\":2,\"linecolor\":\"#EBF0F8\",\"showbackground\":true,\"ticks\":\"\",\"zerolinecolor\":\"#EBF0F8\"},\"yaxis\":{\"backgroundcolor\":\"white\",\"gridcolor\":\"#DFE8F3\",\"gridwidth\":2,\"linecolor\":\"#EBF0F8\",\"showbackground\":true,\"ticks\":\"\",\"zerolinecolor\":\"#EBF0F8\"},\"zaxis\":{\"backgroundcolor\":\"white\",\"gridcolor\":\"#DFE8F3\",\"gridwidth\":2,\"linecolor\":\"#EBF0F8\",\"showbackground\":true,\"ticks\":\"\",\"zerolinecolor\":\"#EBF0F8\"}},\"shapedefaults\":{\"line\":{\"color\":\"#2a3f5f\"}},\"ternary\":{\"aaxis\":{\"gridcolor\":\"#DFE8F3\",\"linecolor\":\"#A2B1C6\",\"ticks\":\"\"},\"baxis\":{\"gridcolor\":\"#DFE8F3\",\"linecolor\":\"#A2B1C6\",\"ticks\":\"\"},\"bgcolor\":\"white\",\"caxis\":{\"gridcolor\":\"#DFE8F3\",\"linecolor\":\"#A2B1C6\",\"ticks\":\"\"}},\"title\":{\"x\":0.05},\"xaxis\":{\"automargin\":true,\"gridcolor\":\"#EBF0F8\",\"linecolor\":\"#EBF0F8\",\"ticks\":\"\",\"title\":{\"standoff\":15},\"zerolinecolor\":\"#EBF0F8\",\"zerolinewidth\":2},\"yaxis\":{\"automargin\":true,\"gridcolor\":\"#EBF0F8\",\"linecolor\":\"#EBF0F8\",\"ticks\":\"\",\"title\":{\"standoff\":15},\"zerolinecolor\":\"#EBF0F8\",\"zerolinewidth\":2}}},\"title\":{\"text\":\"Error Analysis: Squared Error for Over- and Under-Prediction\",\"x\":0.5,\"font\":{\"size\":16,\"family\":\"\\\"Segoe UI\\\", \\\"Roboto\\\", \\\"Oxygen\\\", \\\"Ubuntu\\\", \\\"Droid Sans\\\", \\\"Helvetica Neue\\\", sans-serif\",\"weight\":\"bold\"}},\"font\":{\"size\":14,\"family\":\"\\\"Segoe UI\\\", \\\"Roboto\\\", \\\"Oxygen\\\", \\\"Ubuntu\\\", \\\"Droid Sans\\\", \\\"Helvetica Neue\\\", sans-serif\"},\"xaxis\":{\"title\":{\"text\":\"Difference between Predicted and Actual Values\"},\"tickmode\":\"array\",\"gridcolor\":\"lightgrey\",\"tickvals\":[-90,-50,-10,30,70],\"ticktext\":[\"Pred: 10, Actual: 100\",\"Pred: 30, Actual: 80\",\"Pred: 50, Actual: 60\",\"Pred: 70, Actual: 40\",\"Pred: 90, Actual: 20\"]},\"yaxis\":{\"title\":{\"text\":\"Error\"},\"gridcolor\":\"lightgrey\",\"zeroline\":true,\"zerolinecolor\":\"black\",\"zerolinewidth\":1},\"showlegend\":false,\"plot_bgcolor\":\"rgba(240, 240, 240, 0.95)\",\"annotations\":[{\"align\":\"center\",\"font\":{\"color\":\"black\",\"size\":14},\"showarrow\":false,\"text\":\"Under-Prediction\",\"x\":-50,\"y\":4100.0},{\"align\":\"center\",\"font\":{\"color\":\"black\",\"size\":14},\"showarrow\":false,\"text\":\"Over-Prediction\",\"x\":50,\"y\":4100.0}],\"shapes\":[{\"fillcolor\":\"rgba(0, 128, 255, 0.2)\",\"layer\":\"below\",\"line\":{\"color\":\"rgba(0, 128, 255, 1)\",\"width\":1},\"type\":\"rect\",\"x0\":-90,\"x1\":0,\"y0\":0,\"y1\":8200.0},{\"fillcolor\":\"rgba(255, 165, 0, 0.2)\",\"layer\":\"below\",\"line\":{\"color\":\"rgba(255, 165, 0, 1)\",\"width\":1},\"type\":\"rect\",\"x0\":0,\"x1\":90,\"y0\":null,\"y1\":8200.0}]}}\n",
      "                )\n",
      "            };\n",
      "        </script>\n",
      "    </div>\n",
      "    \n"
     ]
    }
   ],
   "source": [
    "def squared_error(actual, pred):\n",
    "    actual, pred = np.array(actual), np.array(pred)\n",
    "    mse = np.mean((actual - pred) ** 2)\n",
    "    return mse  # Return the mean squared error\n",
    "\n",
    "html_str = plot_error_symmetry(squared_error)\n",
    "print(html_str)"
   ]
  },
  {
   "cell_type": "code",
   "execution_count": 7,
   "metadata": {},
   "outputs": [
    {
     "data": {
      "application/vnd.plotly.v1+json": {
       "config": {
        "plotlyServerURL": "https://plot.ly"
       },
       "data": [
        {
         "hoverinfo": "text",
         "marker": {
          "color": "rgba(255, 165, 0, 0.8)",
          "line": {
           "color": "rgba(255, 165, 0, 1)",
           "width": 1
          },
          "size": 10
         },
         "mode": "lines+markers",
         "name": "Over-Prediction Error",
         "text": [
          "Pred: 10, Actual: 100, Error: nan",
          "Pred: 20, Actual: 90, Error: nan",
          "Pred: 30, Actual: 80, Error: nan",
          "Pred: 40, Actual: 70, Error: nan",
          "Pred: 50, Actual: 60, Error: nan",
          "Pred: 60, Actual: 50, Error: 20",
          "Pred: 70, Actual: 40, Error: 75",
          "Pred: 80, Actual: 30, Error: 167",
          "Pred: 90, Actual: 20, Error: 350",
          "Pred: 100, Actual: 10, Error: 900"
         ],
         "type": "scatter",
         "x": [
          null,
          null,
          null,
          null,
          null,
          10,
          30,
          50,
          70,
          90
         ],
         "y": [
          null,
          null,
          null,
          null,
          null,
          20,
          75,
          167,
          350,
          900
         ]
        },
        {
         "hoverinfo": "text",
         "marker": {
          "color": "rgba(0, 128, 255, 0.8)",
          "line": {
           "color": "rgba(0, 128, 255, 1)",
           "width": 1
          },
          "size": 10
         },
         "mode": "lines+markers",
         "name": "Under-Prediction Error",
         "text": [
          "Pred: 10, Actual: 100, Error: 90",
          "Pred: 20, Actual: 90, Error: 78",
          "Pred: 30, Actual: 80, Error: 62",
          "Pred: 40, Actual: 70, Error: 43",
          "Pred: 50, Actual: 60, Error: 17",
          "Pred: 60, Actual: 50, Error: nan",
          "Pred: 70, Actual: 40, Error: nan",
          "Pred: 80, Actual: 30, Error: nan",
          "Pred: 90, Actual: 20, Error: nan",
          "Pred: 100, Actual: 10, Error: nan"
         ],
         "type": "scatter",
         "x": [
          -90,
          -70,
          -50,
          -30,
          -10,
          null,
          null,
          null,
          null,
          null
         ],
         "y": [
          90,
          78,
          62,
          43,
          17,
          null,
          null,
          null,
          null,
          null
         ]
        }
       ],
       "layout": {
        "annotations": [
         {
          "align": "center",
          "font": {
           "color": "black",
           "size": 14
          },
          "showarrow": false,
          "text": "Under-Prediction",
          "x": -50,
          "y": 458.5
         },
         {
          "align": "center",
          "font": {
           "color": "black",
           "size": 14
          },
          "showarrow": false,
          "text": "Over-Prediction",
          "x": 50,
          "y": 458.5
         }
        ],
        "font": {
         "family": "\"Segoe UI\", \"Roboto\", \"Oxygen\", \"Ubuntu\", \"Droid Sans\", \"Helvetica Neue\", sans-serif",
         "size": 14
        },
        "plot_bgcolor": "rgba(240, 240, 240, 0.95)",
        "shapes": [
         {
          "fillcolor": "rgba(0, 128, 255, 0.2)",
          "layer": "below",
          "line": {
           "color": "rgba(0, 128, 255, 1)",
           "width": 1
          },
          "type": "rect",
          "x0": -90,
          "x1": 0,
          "y0": 0,
          "y1": 917
         },
         {
          "fillcolor": "rgba(255, 165, 0, 0.2)",
          "layer": "below",
          "line": {
           "color": "rgba(255, 165, 0, 1)",
           "width": 1
          },
          "type": "rect",
          "x0": 0,
          "x1": 90,
          "y0": null,
          "y1": 917
         }
        ],
        "showlegend": false,
        "template": {
         "data": {
          "bar": [
           {
            "error_x": {
             "color": "#2a3f5f"
            },
            "error_y": {
             "color": "#2a3f5f"
            },
            "marker": {
             "line": {
              "color": "white",
              "width": 0.5
             },
             "pattern": {
              "fillmode": "overlay",
              "size": 10,
              "solidity": 0.2
             }
            },
            "type": "bar"
           }
          ],
          "barpolar": [
           {
            "marker": {
             "line": {
              "color": "white",
              "width": 0.5
             },
             "pattern": {
              "fillmode": "overlay",
              "size": 10,
              "solidity": 0.2
             }
            },
            "type": "barpolar"
           }
          ],
          "carpet": [
           {
            "aaxis": {
             "endlinecolor": "#2a3f5f",
             "gridcolor": "#C8D4E3",
             "linecolor": "#C8D4E3",
             "minorgridcolor": "#C8D4E3",
             "startlinecolor": "#2a3f5f"
            },
            "baxis": {
             "endlinecolor": "#2a3f5f",
             "gridcolor": "#C8D4E3",
             "linecolor": "#C8D4E3",
             "minorgridcolor": "#C8D4E3",
             "startlinecolor": "#2a3f5f"
            },
            "type": "carpet"
           }
          ],
          "choropleth": [
           {
            "colorbar": {
             "outlinewidth": 0,
             "ticks": ""
            },
            "type": "choropleth"
           }
          ],
          "contour": [
           {
            "colorbar": {
             "outlinewidth": 0,
             "ticks": ""
            },
            "colorscale": [
             [
              0,
              "#0d0887"
             ],
             [
              0.1111111111111111,
              "#46039f"
             ],
             [
              0.2222222222222222,
              "#7201a8"
             ],
             [
              0.3333333333333333,
              "#9c179e"
             ],
             [
              0.4444444444444444,
              "#bd3786"
             ],
             [
              0.5555555555555556,
              "#d8576b"
             ],
             [
              0.6666666666666666,
              "#ed7953"
             ],
             [
              0.7777777777777778,
              "#fb9f3a"
             ],
             [
              0.8888888888888888,
              "#fdca26"
             ],
             [
              1,
              "#f0f921"
             ]
            ],
            "type": "contour"
           }
          ],
          "contourcarpet": [
           {
            "colorbar": {
             "outlinewidth": 0,
             "ticks": ""
            },
            "type": "contourcarpet"
           }
          ],
          "heatmap": [
           {
            "colorbar": {
             "outlinewidth": 0,
             "ticks": ""
            },
            "colorscale": [
             [
              0,
              "#0d0887"
             ],
             [
              0.1111111111111111,
              "#46039f"
             ],
             [
              0.2222222222222222,
              "#7201a8"
             ],
             [
              0.3333333333333333,
              "#9c179e"
             ],
             [
              0.4444444444444444,
              "#bd3786"
             ],
             [
              0.5555555555555556,
              "#d8576b"
             ],
             [
              0.6666666666666666,
              "#ed7953"
             ],
             [
              0.7777777777777778,
              "#fb9f3a"
             ],
             [
              0.8888888888888888,
              "#fdca26"
             ],
             [
              1,
              "#f0f921"
             ]
            ],
            "type": "heatmap"
           }
          ],
          "heatmapgl": [
           {
            "colorbar": {
             "outlinewidth": 0,
             "ticks": ""
            },
            "colorscale": [
             [
              0,
              "#0d0887"
             ],
             [
              0.1111111111111111,
              "#46039f"
             ],
             [
              0.2222222222222222,
              "#7201a8"
             ],
             [
              0.3333333333333333,
              "#9c179e"
             ],
             [
              0.4444444444444444,
              "#bd3786"
             ],
             [
              0.5555555555555556,
              "#d8576b"
             ],
             [
              0.6666666666666666,
              "#ed7953"
             ],
             [
              0.7777777777777778,
              "#fb9f3a"
             ],
             [
              0.8888888888888888,
              "#fdca26"
             ],
             [
              1,
              "#f0f921"
             ]
            ],
            "type": "heatmapgl"
           }
          ],
          "histogram": [
           {
            "marker": {
             "pattern": {
              "fillmode": "overlay",
              "size": 10,
              "solidity": 0.2
             }
            },
            "type": "histogram"
           }
          ],
          "histogram2d": [
           {
            "colorbar": {
             "outlinewidth": 0,
             "ticks": ""
            },
            "colorscale": [
             [
              0,
              "#0d0887"
             ],
             [
              0.1111111111111111,
              "#46039f"
             ],
             [
              0.2222222222222222,
              "#7201a8"
             ],
             [
              0.3333333333333333,
              "#9c179e"
             ],
             [
              0.4444444444444444,
              "#bd3786"
             ],
             [
              0.5555555555555556,
              "#d8576b"
             ],
             [
              0.6666666666666666,
              "#ed7953"
             ],
             [
              0.7777777777777778,
              "#fb9f3a"
             ],
             [
              0.8888888888888888,
              "#fdca26"
             ],
             [
              1,
              "#f0f921"
             ]
            ],
            "type": "histogram2d"
           }
          ],
          "histogram2dcontour": [
           {
            "colorbar": {
             "outlinewidth": 0,
             "ticks": ""
            },
            "colorscale": [
             [
              0,
              "#0d0887"
             ],
             [
              0.1111111111111111,
              "#46039f"
             ],
             [
              0.2222222222222222,
              "#7201a8"
             ],
             [
              0.3333333333333333,
              "#9c179e"
             ],
             [
              0.4444444444444444,
              "#bd3786"
             ],
             [
              0.5555555555555556,
              "#d8576b"
             ],
             [
              0.6666666666666666,
              "#ed7953"
             ],
             [
              0.7777777777777778,
              "#fb9f3a"
             ],
             [
              0.8888888888888888,
              "#fdca26"
             ],
             [
              1,
              "#f0f921"
             ]
            ],
            "type": "histogram2dcontour"
           }
          ],
          "mesh3d": [
           {
            "colorbar": {
             "outlinewidth": 0,
             "ticks": ""
            },
            "type": "mesh3d"
           }
          ],
          "parcoords": [
           {
            "line": {
             "colorbar": {
              "outlinewidth": 0,
              "ticks": ""
             }
            },
            "type": "parcoords"
           }
          ],
          "pie": [
           {
            "automargin": true,
            "type": "pie"
           }
          ],
          "scatter": [
           {
            "fillpattern": {
             "fillmode": "overlay",
             "size": 10,
             "solidity": 0.2
            },
            "type": "scatter"
           }
          ],
          "scatter3d": [
           {
            "line": {
             "colorbar": {
              "outlinewidth": 0,
              "ticks": ""
             }
            },
            "marker": {
             "colorbar": {
              "outlinewidth": 0,
              "ticks": ""
             }
            },
            "type": "scatter3d"
           }
          ],
          "scattercarpet": [
           {
            "marker": {
             "colorbar": {
              "outlinewidth": 0,
              "ticks": ""
             }
            },
            "type": "scattercarpet"
           }
          ],
          "scattergeo": [
           {
            "marker": {
             "colorbar": {
              "outlinewidth": 0,
              "ticks": ""
             }
            },
            "type": "scattergeo"
           }
          ],
          "scattergl": [
           {
            "marker": {
             "colorbar": {
              "outlinewidth": 0,
              "ticks": ""
             }
            },
            "type": "scattergl"
           }
          ],
          "scattermapbox": [
           {
            "marker": {
             "colorbar": {
              "outlinewidth": 0,
              "ticks": ""
             }
            },
            "type": "scattermapbox"
           }
          ],
          "scatterpolar": [
           {
            "marker": {
             "colorbar": {
              "outlinewidth": 0,
              "ticks": ""
             }
            },
            "type": "scatterpolar"
           }
          ],
          "scatterpolargl": [
           {
            "marker": {
             "colorbar": {
              "outlinewidth": 0,
              "ticks": ""
             }
            },
            "type": "scatterpolargl"
           }
          ],
          "scatterternary": [
           {
            "marker": {
             "colorbar": {
              "outlinewidth": 0,
              "ticks": ""
             }
            },
            "type": "scatterternary"
           }
          ],
          "surface": [
           {
            "colorbar": {
             "outlinewidth": 0,
             "ticks": ""
            },
            "colorscale": [
             [
              0,
              "#0d0887"
             ],
             [
              0.1111111111111111,
              "#46039f"
             ],
             [
              0.2222222222222222,
              "#7201a8"
             ],
             [
              0.3333333333333333,
              "#9c179e"
             ],
             [
              0.4444444444444444,
              "#bd3786"
             ],
             [
              0.5555555555555556,
              "#d8576b"
             ],
             [
              0.6666666666666666,
              "#ed7953"
             ],
             [
              0.7777777777777778,
              "#fb9f3a"
             ],
             [
              0.8888888888888888,
              "#fdca26"
             ],
             [
              1,
              "#f0f921"
             ]
            ],
            "type": "surface"
           }
          ],
          "table": [
           {
            "cells": {
             "fill": {
              "color": "#EBF0F8"
             },
             "line": {
              "color": "white"
             }
            },
            "header": {
             "fill": {
              "color": "#C8D4E3"
             },
             "line": {
              "color": "white"
             }
            },
            "type": "table"
           }
          ]
         },
         "layout": {
          "annotationdefaults": {
           "arrowcolor": "#2a3f5f",
           "arrowhead": 0,
           "arrowwidth": 1
          },
          "autotypenumbers": "strict",
          "coloraxis": {
           "colorbar": {
            "outlinewidth": 0,
            "ticks": ""
           }
          },
          "colorscale": {
           "diverging": [
            [
             0,
             "#8e0152"
            ],
            [
             0.1,
             "#c51b7d"
            ],
            [
             0.2,
             "#de77ae"
            ],
            [
             0.3,
             "#f1b6da"
            ],
            [
             0.4,
             "#fde0ef"
            ],
            [
             0.5,
             "#f7f7f7"
            ],
            [
             0.6,
             "#e6f5d0"
            ],
            [
             0.7,
             "#b8e186"
            ],
            [
             0.8,
             "#7fbc41"
            ],
            [
             0.9,
             "#4d9221"
            ],
            [
             1,
             "#276419"
            ]
           ],
           "sequential": [
            [
             0,
             "#0d0887"
            ],
            [
             0.1111111111111111,
             "#46039f"
            ],
            [
             0.2222222222222222,
             "#7201a8"
            ],
            [
             0.3333333333333333,
             "#9c179e"
            ],
            [
             0.4444444444444444,
             "#bd3786"
            ],
            [
             0.5555555555555556,
             "#d8576b"
            ],
            [
             0.6666666666666666,
             "#ed7953"
            ],
            [
             0.7777777777777778,
             "#fb9f3a"
            ],
            [
             0.8888888888888888,
             "#fdca26"
            ],
            [
             1,
             "#f0f921"
            ]
           ],
           "sequentialminus": [
            [
             0,
             "#0d0887"
            ],
            [
             0.1111111111111111,
             "#46039f"
            ],
            [
             0.2222222222222222,
             "#7201a8"
            ],
            [
             0.3333333333333333,
             "#9c179e"
            ],
            [
             0.4444444444444444,
             "#bd3786"
            ],
            [
             0.5555555555555556,
             "#d8576b"
            ],
            [
             0.6666666666666666,
             "#ed7953"
            ],
            [
             0.7777777777777778,
             "#fb9f3a"
            ],
            [
             0.8888888888888888,
             "#fdca26"
            ],
            [
             1,
             "#f0f921"
            ]
           ]
          },
          "colorway": [
           "#636efa",
           "#EF553B",
           "#00cc96",
           "#ab63fa",
           "#FFA15A",
           "#19d3f3",
           "#FF6692",
           "#B6E880",
           "#FF97FF",
           "#FECB52"
          ],
          "font": {
           "color": "#2a3f5f"
          },
          "geo": {
           "bgcolor": "white",
           "lakecolor": "white",
           "landcolor": "white",
           "showlakes": true,
           "showland": true,
           "subunitcolor": "#C8D4E3"
          },
          "hoverlabel": {
           "align": "left"
          },
          "hovermode": "closest",
          "mapbox": {
           "style": "light"
          },
          "paper_bgcolor": "white",
          "plot_bgcolor": "white",
          "polar": {
           "angularaxis": {
            "gridcolor": "#EBF0F8",
            "linecolor": "#EBF0F8",
            "ticks": ""
           },
           "bgcolor": "white",
           "radialaxis": {
            "gridcolor": "#EBF0F8",
            "linecolor": "#EBF0F8",
            "ticks": ""
           }
          },
          "scene": {
           "xaxis": {
            "backgroundcolor": "white",
            "gridcolor": "#DFE8F3",
            "gridwidth": 2,
            "linecolor": "#EBF0F8",
            "showbackground": true,
            "ticks": "",
            "zerolinecolor": "#EBF0F8"
           },
           "yaxis": {
            "backgroundcolor": "white",
            "gridcolor": "#DFE8F3",
            "gridwidth": 2,
            "linecolor": "#EBF0F8",
            "showbackground": true,
            "ticks": "",
            "zerolinecolor": "#EBF0F8"
           },
           "zaxis": {
            "backgroundcolor": "white",
            "gridcolor": "#DFE8F3",
            "gridwidth": 2,
            "linecolor": "#EBF0F8",
            "showbackground": true,
            "ticks": "",
            "zerolinecolor": "#EBF0F8"
           }
          },
          "shapedefaults": {
           "line": {
            "color": "#2a3f5f"
           }
          },
          "ternary": {
           "aaxis": {
            "gridcolor": "#DFE8F3",
            "linecolor": "#A2B1C6",
            "ticks": ""
           },
           "baxis": {
            "gridcolor": "#DFE8F3",
            "linecolor": "#A2B1C6",
            "ticks": ""
           },
           "bgcolor": "white",
           "caxis": {
            "gridcolor": "#DFE8F3",
            "linecolor": "#A2B1C6",
            "ticks": ""
           }
          },
          "title": {
           "x": 0.05
          },
          "xaxis": {
           "automargin": true,
           "gridcolor": "#EBF0F8",
           "linecolor": "#EBF0F8",
           "ticks": "",
           "title": {
            "standoff": 15
           },
           "zerolinecolor": "#EBF0F8",
           "zerolinewidth": 2
          },
          "yaxis": {
           "automargin": true,
           "gridcolor": "#EBF0F8",
           "linecolor": "#EBF0F8",
           "ticks": "",
           "title": {
            "standoff": 15
           },
           "zerolinecolor": "#EBF0F8",
           "zerolinewidth": 2
          }
         }
        },
        "title": {
         "font": {
          "family": "\"Segoe UI\", \"Roboto\", \"Oxygen\", \"Ubuntu\", \"Droid Sans\", \"Helvetica Neue\", sans-serif",
          "size": 16,
          "weight": "bold"
         },
         "text": "Error Analysis: Percentage Error for Over- and Under-Prediction",
         "x": 0.5
        },
        "xaxis": {
         "gridcolor": "lightgrey",
         "tickmode": "array",
         "ticktext": [
          "Pred: 10, Actual: 100",
          "Pred: 30, Actual: 80",
          "Pred: 50, Actual: 60",
          "Pred: 70, Actual: 40",
          "Pred: 90, Actual: 20"
         ],
         "tickvals": [
          -90,
          -50,
          -10,
          30,
          70
         ],
         "title": {
          "text": "Difference between Predicted and Actual Values"
         }
        },
        "yaxis": {
         "gridcolor": "lightgrey",
         "title": {
          "text": "Error"
         },
         "zeroline": true,
         "zerolinecolor": "black",
         "zerolinewidth": 1
        }
       }
      }
     },
     "metadata": {},
     "output_type": "display_data"
    },
    {
     "name": "stdout",
     "output_type": "stream",
     "text": [
      "\n",
      "    <div style=\"width: 100%; height: auto;\">\n",
      "        <script type=\"text/javascript\">window.PlotlyConfig = {MathJaxConfig: 'local'};</script>\n",
      "        <div id=\"d865a070-bb5d-4ab3-90f8-bfbfb8bb378d\" class=\"plotly-graph-div\" style=\"width: 100%; height: auto;\"></div>\n",
      "        <script type=\"text/javascript\">\n",
      "            window.PLOTLYENV=window.PLOTLYENV || {};\n",
      "            if (document.getElementById(\"d865a070-bb5d-4ab3-90f8-bfbfb8bb378d\")) {\n",
      "                Plotly.newPlot(\n",
      "                    \"d865a070-bb5d-4ab3-90f8-bfbfb8bb378d\",\n",
      "                    {\"data\":[{\"hoverinfo\":\"text\",\"marker\":{\"color\":\"rgba(255, 165, 0, 0.8)\",\"line\":{\"color\":\"rgba(255, 165, 0, 1)\",\"width\":1},\"size\":10},\"mode\":\"lines+markers\",\"name\":\"Over-Prediction Error\",\"text\":[\"Pred: 10, Actual: 100, Error: nan\",\"Pred: 20, Actual: 90, Error: nan\",\"Pred: 30, Actual: 80, Error: nan\",\"Pred: 40, Actual: 70, Error: nan\",\"Pred: 50, Actual: 60, Error: nan\",\"Pred: 60, Actual: 50, Error: 20\",\"Pred: 70, Actual: 40, Error: 75\",\"Pred: 80, Actual: 30, Error: 167\",\"Pred: 90, Actual: 20, Error: 350\",\"Pred: 100, Actual: 10, Error: 900\"],\"x\":[null,null,null,null,null,10.0,30.0,50.0,70.0,90.0],\"y\":[null,null,null,null,null,20,75,167,350,900],\"type\":\"scatter\"},{\"hoverinfo\":\"text\",\"marker\":{\"color\":\"rgba(0, 128, 255, 0.8)\",\"line\":{\"color\":\"rgba(0, 128, 255, 1)\",\"width\":1},\"size\":10},\"mode\":\"lines+markers\",\"name\":\"Under-Prediction Error\",\"text\":[\"Pred: 10, Actual: 100, Error: 90\",\"Pred: 20, Actual: 90, Error: 78\",\"Pred: 30, Actual: 80, Error: 62\",\"Pred: 40, Actual: 70, Error: 43\",\"Pred: 50, Actual: 60, Error: 17\",\"Pred: 60, Actual: 50, Error: nan\",\"Pred: 70, Actual: 40, Error: nan\",\"Pred: 80, Actual: 30, Error: nan\",\"Pred: 90, Actual: 20, Error: nan\",\"Pred: 100, Actual: 10, Error: nan\"],\"x\":[-90.0,-70.0,-50.0,-30.0,-10.0,null,null,null,null,null],\"y\":[90,78,62,43,17,null,null,null,null,null],\"type\":\"scatter\"}],\"layout\":{\"template\":{\"data\":{\"barpolar\":[{\"marker\":{\"line\":{\"color\":\"white\",\"width\":0.5},\"pattern\":{\"fillmode\":\"overlay\",\"size\":10,\"solidity\":0.2}},\"type\":\"barpolar\"}],\"bar\":[{\"error_x\":{\"color\":\"#2a3f5f\"},\"error_y\":{\"color\":\"#2a3f5f\"},\"marker\":{\"line\":{\"color\":\"white\",\"width\":0.5},\"pattern\":{\"fillmode\":\"overlay\",\"size\":10,\"solidity\":0.2}},\"type\":\"bar\"}],\"carpet\":[{\"aaxis\":{\"endlinecolor\":\"#2a3f5f\",\"gridcolor\":\"#C8D4E3\",\"linecolor\":\"#C8D4E3\",\"minorgridcolor\":\"#C8D4E3\",\"startlinecolor\":\"#2a3f5f\"},\"baxis\":{\"endlinecolor\":\"#2a3f5f\",\"gridcolor\":\"#C8D4E3\",\"linecolor\":\"#C8D4E3\",\"minorgridcolor\":\"#C8D4E3\",\"startlinecolor\":\"#2a3f5f\"},\"type\":\"carpet\"}],\"choropleth\":[{\"colorbar\":{\"outlinewidth\":0,\"ticks\":\"\"},\"type\":\"choropleth\"}],\"contourcarpet\":[{\"colorbar\":{\"outlinewidth\":0,\"ticks\":\"\"},\"type\":\"contourcarpet\"}],\"contour\":[{\"colorbar\":{\"outlinewidth\":0,\"ticks\":\"\"},\"colorscale\":[[0.0,\"#0d0887\"],[0.1111111111111111,\"#46039f\"],[0.2222222222222222,\"#7201a8\"],[0.3333333333333333,\"#9c179e\"],[0.4444444444444444,\"#bd3786\"],[0.5555555555555556,\"#d8576b\"],[0.6666666666666666,\"#ed7953\"],[0.7777777777777778,\"#fb9f3a\"],[0.8888888888888888,\"#fdca26\"],[1.0,\"#f0f921\"]],\"type\":\"contour\"}],\"heatmapgl\":[{\"colorbar\":{\"outlinewidth\":0,\"ticks\":\"\"},\"colorscale\":[[0.0,\"#0d0887\"],[0.1111111111111111,\"#46039f\"],[0.2222222222222222,\"#7201a8\"],[0.3333333333333333,\"#9c179e\"],[0.4444444444444444,\"#bd3786\"],[0.5555555555555556,\"#d8576b\"],[0.6666666666666666,\"#ed7953\"],[0.7777777777777778,\"#fb9f3a\"],[0.8888888888888888,\"#fdca26\"],[1.0,\"#f0f921\"]],\"type\":\"heatmapgl\"}],\"heatmap\":[{\"colorbar\":{\"outlinewidth\":0,\"ticks\":\"\"},\"colorscale\":[[0.0,\"#0d0887\"],[0.1111111111111111,\"#46039f\"],[0.2222222222222222,\"#7201a8\"],[0.3333333333333333,\"#9c179e\"],[0.4444444444444444,\"#bd3786\"],[0.5555555555555556,\"#d8576b\"],[0.6666666666666666,\"#ed7953\"],[0.7777777777777778,\"#fb9f3a\"],[0.8888888888888888,\"#fdca26\"],[1.0,\"#f0f921\"]],\"type\":\"heatmap\"}],\"histogram2dcontour\":[{\"colorbar\":{\"outlinewidth\":0,\"ticks\":\"\"},\"colorscale\":[[0.0,\"#0d0887\"],[0.1111111111111111,\"#46039f\"],[0.2222222222222222,\"#7201a8\"],[0.3333333333333333,\"#9c179e\"],[0.4444444444444444,\"#bd3786\"],[0.5555555555555556,\"#d8576b\"],[0.6666666666666666,\"#ed7953\"],[0.7777777777777778,\"#fb9f3a\"],[0.8888888888888888,\"#fdca26\"],[1.0,\"#f0f921\"]],\"type\":\"histogram2dcontour\"}],\"histogram2d\":[{\"colorbar\":{\"outlinewidth\":0,\"ticks\":\"\"},\"colorscale\":[[0.0,\"#0d0887\"],[0.1111111111111111,\"#46039f\"],[0.2222222222222222,\"#7201a8\"],[0.3333333333333333,\"#9c179e\"],[0.4444444444444444,\"#bd3786\"],[0.5555555555555556,\"#d8576b\"],[0.6666666666666666,\"#ed7953\"],[0.7777777777777778,\"#fb9f3a\"],[0.8888888888888888,\"#fdca26\"],[1.0,\"#f0f921\"]],\"type\":\"histogram2d\"}],\"histogram\":[{\"marker\":{\"pattern\":{\"fillmode\":\"overlay\",\"size\":10,\"solidity\":0.2}},\"type\":\"histogram\"}],\"mesh3d\":[{\"colorbar\":{\"outlinewidth\":0,\"ticks\":\"\"},\"type\":\"mesh3d\"}],\"parcoords\":[{\"line\":{\"colorbar\":{\"outlinewidth\":0,\"ticks\":\"\"}},\"type\":\"parcoords\"}],\"pie\":[{\"automargin\":true,\"type\":\"pie\"}],\"scatter3d\":[{\"line\":{\"colorbar\":{\"outlinewidth\":0,\"ticks\":\"\"}},\"marker\":{\"colorbar\":{\"outlinewidth\":0,\"ticks\":\"\"}},\"type\":\"scatter3d\"}],\"scattercarpet\":[{\"marker\":{\"colorbar\":{\"outlinewidth\":0,\"ticks\":\"\"}},\"type\":\"scattercarpet\"}],\"scattergeo\":[{\"marker\":{\"colorbar\":{\"outlinewidth\":0,\"ticks\":\"\"}},\"type\":\"scattergeo\"}],\"scattergl\":[{\"marker\":{\"colorbar\":{\"outlinewidth\":0,\"ticks\":\"\"}},\"type\":\"scattergl\"}],\"scattermapbox\":[{\"marker\":{\"colorbar\":{\"outlinewidth\":0,\"ticks\":\"\"}},\"type\":\"scattermapbox\"}],\"scatterpolargl\":[{\"marker\":{\"colorbar\":{\"outlinewidth\":0,\"ticks\":\"\"}},\"type\":\"scatterpolargl\"}],\"scatterpolar\":[{\"marker\":{\"colorbar\":{\"outlinewidth\":0,\"ticks\":\"\"}},\"type\":\"scatterpolar\"}],\"scatter\":[{\"fillpattern\":{\"fillmode\":\"overlay\",\"size\":10,\"solidity\":0.2},\"type\":\"scatter\"}],\"scatterternary\":[{\"marker\":{\"colorbar\":{\"outlinewidth\":0,\"ticks\":\"\"}},\"type\":\"scatterternary\"}],\"surface\":[{\"colorbar\":{\"outlinewidth\":0,\"ticks\":\"\"},\"colorscale\":[[0.0,\"#0d0887\"],[0.1111111111111111,\"#46039f\"],[0.2222222222222222,\"#7201a8\"],[0.3333333333333333,\"#9c179e\"],[0.4444444444444444,\"#bd3786\"],[0.5555555555555556,\"#d8576b\"],[0.6666666666666666,\"#ed7953\"],[0.7777777777777778,\"#fb9f3a\"],[0.8888888888888888,\"#fdca26\"],[1.0,\"#f0f921\"]],\"type\":\"surface\"}],\"table\":[{\"cells\":{\"fill\":{\"color\":\"#EBF0F8\"},\"line\":{\"color\":\"white\"}},\"header\":{\"fill\":{\"color\":\"#C8D4E3\"},\"line\":{\"color\":\"white\"}},\"type\":\"table\"}]},\"layout\":{\"annotationdefaults\":{\"arrowcolor\":\"#2a3f5f\",\"arrowhead\":0,\"arrowwidth\":1},\"autotypenumbers\":\"strict\",\"coloraxis\":{\"colorbar\":{\"outlinewidth\":0,\"ticks\":\"\"}},\"colorscale\":{\"diverging\":[[0,\"#8e0152\"],[0.1,\"#c51b7d\"],[0.2,\"#de77ae\"],[0.3,\"#f1b6da\"],[0.4,\"#fde0ef\"],[0.5,\"#f7f7f7\"],[0.6,\"#e6f5d0\"],[0.7,\"#b8e186\"],[0.8,\"#7fbc41\"],[0.9,\"#4d9221\"],[1,\"#276419\"]],\"sequential\":[[0.0,\"#0d0887\"],[0.1111111111111111,\"#46039f\"],[0.2222222222222222,\"#7201a8\"],[0.3333333333333333,\"#9c179e\"],[0.4444444444444444,\"#bd3786\"],[0.5555555555555556,\"#d8576b\"],[0.6666666666666666,\"#ed7953\"],[0.7777777777777778,\"#fb9f3a\"],[0.8888888888888888,\"#fdca26\"],[1.0,\"#f0f921\"]],\"sequentialminus\":[[0.0,\"#0d0887\"],[0.1111111111111111,\"#46039f\"],[0.2222222222222222,\"#7201a8\"],[0.3333333333333333,\"#9c179e\"],[0.4444444444444444,\"#bd3786\"],[0.5555555555555556,\"#d8576b\"],[0.6666666666666666,\"#ed7953\"],[0.7777777777777778,\"#fb9f3a\"],[0.8888888888888888,\"#fdca26\"],[1.0,\"#f0f921\"]]},\"colorway\":[\"#636efa\",\"#EF553B\",\"#00cc96\",\"#ab63fa\",\"#FFA15A\",\"#19d3f3\",\"#FF6692\",\"#B6E880\",\"#FF97FF\",\"#FECB52\"],\"font\":{\"color\":\"#2a3f5f\"},\"geo\":{\"bgcolor\":\"white\",\"lakecolor\":\"white\",\"landcolor\":\"white\",\"showlakes\":true,\"showland\":true,\"subunitcolor\":\"#C8D4E3\"},\"hoverlabel\":{\"align\":\"left\"},\"hovermode\":\"closest\",\"mapbox\":{\"style\":\"light\"},\"paper_bgcolor\":\"white\",\"plot_bgcolor\":\"white\",\"polar\":{\"angularaxis\":{\"gridcolor\":\"#EBF0F8\",\"linecolor\":\"#EBF0F8\",\"ticks\":\"\"},\"bgcolor\":\"white\",\"radialaxis\":{\"gridcolor\":\"#EBF0F8\",\"linecolor\":\"#EBF0F8\",\"ticks\":\"\"}},\"scene\":{\"xaxis\":{\"backgroundcolor\":\"white\",\"gridcolor\":\"#DFE8F3\",\"gridwidth\":2,\"linecolor\":\"#EBF0F8\",\"showbackground\":true,\"ticks\":\"\",\"zerolinecolor\":\"#EBF0F8\"},\"yaxis\":{\"backgroundcolor\":\"white\",\"gridcolor\":\"#DFE8F3\",\"gridwidth\":2,\"linecolor\":\"#EBF0F8\",\"showbackground\":true,\"ticks\":\"\",\"zerolinecolor\":\"#EBF0F8\"},\"zaxis\":{\"backgroundcolor\":\"white\",\"gridcolor\":\"#DFE8F3\",\"gridwidth\":2,\"linecolor\":\"#EBF0F8\",\"showbackground\":true,\"ticks\":\"\",\"zerolinecolor\":\"#EBF0F8\"}},\"shapedefaults\":{\"line\":{\"color\":\"#2a3f5f\"}},\"ternary\":{\"aaxis\":{\"gridcolor\":\"#DFE8F3\",\"linecolor\":\"#A2B1C6\",\"ticks\":\"\"},\"baxis\":{\"gridcolor\":\"#DFE8F3\",\"linecolor\":\"#A2B1C6\",\"ticks\":\"\"},\"bgcolor\":\"white\",\"caxis\":{\"gridcolor\":\"#DFE8F3\",\"linecolor\":\"#A2B1C6\",\"ticks\":\"\"}},\"title\":{\"x\":0.05},\"xaxis\":{\"automargin\":true,\"gridcolor\":\"#EBF0F8\",\"linecolor\":\"#EBF0F8\",\"ticks\":\"\",\"title\":{\"standoff\":15},\"zerolinecolor\":\"#EBF0F8\",\"zerolinewidth\":2},\"yaxis\":{\"automargin\":true,\"gridcolor\":\"#EBF0F8\",\"linecolor\":\"#EBF0F8\",\"ticks\":\"\",\"title\":{\"standoff\":15},\"zerolinecolor\":\"#EBF0F8\",\"zerolinewidth\":2}}},\"title\":{\"text\":\"Error Analysis: Percentage Error for Over- and Under-Prediction\",\"x\":0.5,\"font\":{\"size\":16,\"family\":\"\\\"Segoe UI\\\", \\\"Roboto\\\", \\\"Oxygen\\\", \\\"Ubuntu\\\", \\\"Droid Sans\\\", \\\"Helvetica Neue\\\", sans-serif\",\"weight\":\"bold\"}},\"font\":{\"size\":14,\"family\":\"\\\"Segoe UI\\\", \\\"Roboto\\\", \\\"Oxygen\\\", \\\"Ubuntu\\\", \\\"Droid Sans\\\", \\\"Helvetica Neue\\\", sans-serif\"},\"xaxis\":{\"title\":{\"text\":\"Difference between Predicted and Actual Values\"},\"tickmode\":\"array\",\"gridcolor\":\"lightgrey\",\"tickvals\":[-90,-50,-10,30,70],\"ticktext\":[\"Pred: 10, Actual: 100\",\"Pred: 30, Actual: 80\",\"Pred: 50, Actual: 60\",\"Pred: 70, Actual: 40\",\"Pred: 90, Actual: 20\"]},\"yaxis\":{\"title\":{\"text\":\"Error\"},\"gridcolor\":\"lightgrey\",\"zeroline\":true,\"zerolinecolor\":\"black\",\"zerolinewidth\":1},\"showlegend\":false,\"plot_bgcolor\":\"rgba(240, 240, 240, 0.95)\",\"annotations\":[{\"align\":\"center\",\"font\":{\"color\":\"black\",\"size\":14},\"showarrow\":false,\"text\":\"Under-Prediction\",\"x\":-50,\"y\":458.5},{\"align\":\"center\",\"font\":{\"color\":\"black\",\"size\":14},\"showarrow\":false,\"text\":\"Over-Prediction\",\"x\":50,\"y\":458.5}],\"shapes\":[{\"fillcolor\":\"rgba(0, 128, 255, 0.2)\",\"layer\":\"below\",\"line\":{\"color\":\"rgba(0, 128, 255, 1)\",\"width\":1},\"type\":\"rect\",\"x0\":-90,\"x1\":0,\"y0\":0,\"y1\":917.0},{\"fillcolor\":\"rgba(255, 165, 0, 0.2)\",\"layer\":\"below\",\"line\":{\"color\":\"rgba(255, 165, 0, 1)\",\"width\":1},\"type\":\"rect\",\"x0\":0,\"x1\":90,\"y0\":null,\"y1\":917.0}]}}\n",
      "                )\n",
      "            };\n",
      "        </script>\n",
      "    </div>\n",
      "    \n"
     ]
    }
   ],
   "source": [
    "def percentage_error(actual, pred):\n",
    "    actual, pred = np.array(actual), np.array(pred)\n",
    "    # Avoid division by zero by replacing zeros in actual with a small value\n",
    "    actual = np.where(actual == 0, 1e-10, actual)\n",
    "    mape = np.mean(np.abs((actual - pred) / actual)) * 100\n",
    "    return mape  # Return the mean absolute percentage error\n",
    "\n",
    "html_str = plot_error_symmetry(percentage_error)\n",
    "print(html_str)"
   ]
  },
  {
   "cell_type": "code",
   "execution_count": 8,
   "metadata": {},
   "outputs": [
    {
     "data": {
      "application/vnd.plotly.v1+json": {
       "config": {
        "plotlyServerURL": "https://plot.ly"
       },
       "data": [
        {
         "hoverinfo": "text",
         "marker": {
          "color": "rgba(255, 165, 0, 0.8)",
          "line": {
           "color": "rgba(255, 165, 0, 1)",
           "width": 1
          },
          "size": 10
         },
         "mode": "lines+markers",
         "name": "Over-Prediction Error",
         "text": [
          "Pred: 10, Actual: 100, Error: nan",
          "Pred: 20, Actual: 90, Error: nan",
          "Pred: 30, Actual: 80, Error: nan",
          "Pred: 40, Actual: 70, Error: nan",
          "Pred: 50, Actual: 60, Error: nan",
          "Pred: 60, Actual: 50, Error: 18",
          "Pred: 70, Actual: 40, Error: 55",
          "Pred: 80, Actual: 30, Error: 91",
          "Pred: 90, Actual: 20, Error: 127",
          "Pred: 100, Actual: 10, Error: 164"
         ],
         "type": "scatter",
         "x": [
          null,
          null,
          null,
          null,
          null,
          10,
          30,
          50,
          70,
          90
         ],
         "y": [
          null,
          null,
          null,
          null,
          null,
          18,
          55,
          91,
          127,
          164
         ]
        },
        {
         "hoverinfo": "text",
         "marker": {
          "color": "rgba(0, 128, 255, 0.8)",
          "line": {
           "color": "rgba(0, 128, 255, 1)",
           "width": 1
          },
          "size": 10
         },
         "mode": "lines+markers",
         "name": "Under-Prediction Error",
         "text": [
          "Pred: 10, Actual: 100, Error: 164",
          "Pred: 20, Actual: 90, Error: 127",
          "Pred: 30, Actual: 80, Error: 91",
          "Pred: 40, Actual: 70, Error: 55",
          "Pred: 50, Actual: 60, Error: 18",
          "Pred: 60, Actual: 50, Error: nan",
          "Pred: 70, Actual: 40, Error: nan",
          "Pred: 80, Actual: 30, Error: nan",
          "Pred: 90, Actual: 20, Error: nan",
          "Pred: 100, Actual: 10, Error: nan"
         ],
         "type": "scatter",
         "x": [
          -90,
          -70,
          -50,
          -30,
          -10,
          null,
          null,
          null,
          null,
          null
         ],
         "y": [
          164,
          127,
          91,
          55,
          18,
          null,
          null,
          null,
          null,
          null
         ]
        }
       ],
       "layout": {
        "annotations": [
         {
          "align": "center",
          "font": {
           "color": "black",
           "size": 14
          },
          "showarrow": false,
          "text": "Under-Prediction",
          "x": -50,
          "y": 91
         },
         {
          "align": "center",
          "font": {
           "color": "black",
           "size": 14
          },
          "showarrow": false,
          "text": "Over-Prediction",
          "x": 50,
          "y": 91
         }
        ],
        "font": {
         "family": "\"Segoe UI\", \"Roboto\", \"Oxygen\", \"Ubuntu\", \"Droid Sans\", \"Helvetica Neue\", sans-serif",
         "size": 14
        },
        "plot_bgcolor": "rgba(240, 240, 240, 0.95)",
        "shapes": [
         {
          "fillcolor": "rgba(0, 128, 255, 0.2)",
          "layer": "below",
          "line": {
           "color": "rgba(0, 128, 255, 1)",
           "width": 1
          },
          "type": "rect",
          "x0": -90,
          "x1": 0,
          "y0": 0,
          "y1": 182
         },
         {
          "fillcolor": "rgba(255, 165, 0, 0.2)",
          "layer": "below",
          "line": {
           "color": "rgba(255, 165, 0, 1)",
           "width": 1
          },
          "type": "rect",
          "x0": 0,
          "x1": 90,
          "y0": null,
          "y1": 182
         }
        ],
        "showlegend": false,
        "template": {
         "data": {
          "bar": [
           {
            "error_x": {
             "color": "#2a3f5f"
            },
            "error_y": {
             "color": "#2a3f5f"
            },
            "marker": {
             "line": {
              "color": "white",
              "width": 0.5
             },
             "pattern": {
              "fillmode": "overlay",
              "size": 10,
              "solidity": 0.2
             }
            },
            "type": "bar"
           }
          ],
          "barpolar": [
           {
            "marker": {
             "line": {
              "color": "white",
              "width": 0.5
             },
             "pattern": {
              "fillmode": "overlay",
              "size": 10,
              "solidity": 0.2
             }
            },
            "type": "barpolar"
           }
          ],
          "carpet": [
           {
            "aaxis": {
             "endlinecolor": "#2a3f5f",
             "gridcolor": "#C8D4E3",
             "linecolor": "#C8D4E3",
             "minorgridcolor": "#C8D4E3",
             "startlinecolor": "#2a3f5f"
            },
            "baxis": {
             "endlinecolor": "#2a3f5f",
             "gridcolor": "#C8D4E3",
             "linecolor": "#C8D4E3",
             "minorgridcolor": "#C8D4E3",
             "startlinecolor": "#2a3f5f"
            },
            "type": "carpet"
           }
          ],
          "choropleth": [
           {
            "colorbar": {
             "outlinewidth": 0,
             "ticks": ""
            },
            "type": "choropleth"
           }
          ],
          "contour": [
           {
            "colorbar": {
             "outlinewidth": 0,
             "ticks": ""
            },
            "colorscale": [
             [
              0,
              "#0d0887"
             ],
             [
              0.1111111111111111,
              "#46039f"
             ],
             [
              0.2222222222222222,
              "#7201a8"
             ],
             [
              0.3333333333333333,
              "#9c179e"
             ],
             [
              0.4444444444444444,
              "#bd3786"
             ],
             [
              0.5555555555555556,
              "#d8576b"
             ],
             [
              0.6666666666666666,
              "#ed7953"
             ],
             [
              0.7777777777777778,
              "#fb9f3a"
             ],
             [
              0.8888888888888888,
              "#fdca26"
             ],
             [
              1,
              "#f0f921"
             ]
            ],
            "type": "contour"
           }
          ],
          "contourcarpet": [
           {
            "colorbar": {
             "outlinewidth": 0,
             "ticks": ""
            },
            "type": "contourcarpet"
           }
          ],
          "heatmap": [
           {
            "colorbar": {
             "outlinewidth": 0,
             "ticks": ""
            },
            "colorscale": [
             [
              0,
              "#0d0887"
             ],
             [
              0.1111111111111111,
              "#46039f"
             ],
             [
              0.2222222222222222,
              "#7201a8"
             ],
             [
              0.3333333333333333,
              "#9c179e"
             ],
             [
              0.4444444444444444,
              "#bd3786"
             ],
             [
              0.5555555555555556,
              "#d8576b"
             ],
             [
              0.6666666666666666,
              "#ed7953"
             ],
             [
              0.7777777777777778,
              "#fb9f3a"
             ],
             [
              0.8888888888888888,
              "#fdca26"
             ],
             [
              1,
              "#f0f921"
             ]
            ],
            "type": "heatmap"
           }
          ],
          "heatmapgl": [
           {
            "colorbar": {
             "outlinewidth": 0,
             "ticks": ""
            },
            "colorscale": [
             [
              0,
              "#0d0887"
             ],
             [
              0.1111111111111111,
              "#46039f"
             ],
             [
              0.2222222222222222,
              "#7201a8"
             ],
             [
              0.3333333333333333,
              "#9c179e"
             ],
             [
              0.4444444444444444,
              "#bd3786"
             ],
             [
              0.5555555555555556,
              "#d8576b"
             ],
             [
              0.6666666666666666,
              "#ed7953"
             ],
             [
              0.7777777777777778,
              "#fb9f3a"
             ],
             [
              0.8888888888888888,
              "#fdca26"
             ],
             [
              1,
              "#f0f921"
             ]
            ],
            "type": "heatmapgl"
           }
          ],
          "histogram": [
           {
            "marker": {
             "pattern": {
              "fillmode": "overlay",
              "size": 10,
              "solidity": 0.2
             }
            },
            "type": "histogram"
           }
          ],
          "histogram2d": [
           {
            "colorbar": {
             "outlinewidth": 0,
             "ticks": ""
            },
            "colorscale": [
             [
              0,
              "#0d0887"
             ],
             [
              0.1111111111111111,
              "#46039f"
             ],
             [
              0.2222222222222222,
              "#7201a8"
             ],
             [
              0.3333333333333333,
              "#9c179e"
             ],
             [
              0.4444444444444444,
              "#bd3786"
             ],
             [
              0.5555555555555556,
              "#d8576b"
             ],
             [
              0.6666666666666666,
              "#ed7953"
             ],
             [
              0.7777777777777778,
              "#fb9f3a"
             ],
             [
              0.8888888888888888,
              "#fdca26"
             ],
             [
              1,
              "#f0f921"
             ]
            ],
            "type": "histogram2d"
           }
          ],
          "histogram2dcontour": [
           {
            "colorbar": {
             "outlinewidth": 0,
             "ticks": ""
            },
            "colorscale": [
             [
              0,
              "#0d0887"
             ],
             [
              0.1111111111111111,
              "#46039f"
             ],
             [
              0.2222222222222222,
              "#7201a8"
             ],
             [
              0.3333333333333333,
              "#9c179e"
             ],
             [
              0.4444444444444444,
              "#bd3786"
             ],
             [
              0.5555555555555556,
              "#d8576b"
             ],
             [
              0.6666666666666666,
              "#ed7953"
             ],
             [
              0.7777777777777778,
              "#fb9f3a"
             ],
             [
              0.8888888888888888,
              "#fdca26"
             ],
             [
              1,
              "#f0f921"
             ]
            ],
            "type": "histogram2dcontour"
           }
          ],
          "mesh3d": [
           {
            "colorbar": {
             "outlinewidth": 0,
             "ticks": ""
            },
            "type": "mesh3d"
           }
          ],
          "parcoords": [
           {
            "line": {
             "colorbar": {
              "outlinewidth": 0,
              "ticks": ""
             }
            },
            "type": "parcoords"
           }
          ],
          "pie": [
           {
            "automargin": true,
            "type": "pie"
           }
          ],
          "scatter": [
           {
            "fillpattern": {
             "fillmode": "overlay",
             "size": 10,
             "solidity": 0.2
            },
            "type": "scatter"
           }
          ],
          "scatter3d": [
           {
            "line": {
             "colorbar": {
              "outlinewidth": 0,
              "ticks": ""
             }
            },
            "marker": {
             "colorbar": {
              "outlinewidth": 0,
              "ticks": ""
             }
            },
            "type": "scatter3d"
           }
          ],
          "scattercarpet": [
           {
            "marker": {
             "colorbar": {
              "outlinewidth": 0,
              "ticks": ""
             }
            },
            "type": "scattercarpet"
           }
          ],
          "scattergeo": [
           {
            "marker": {
             "colorbar": {
              "outlinewidth": 0,
              "ticks": ""
             }
            },
            "type": "scattergeo"
           }
          ],
          "scattergl": [
           {
            "marker": {
             "colorbar": {
              "outlinewidth": 0,
              "ticks": ""
             }
            },
            "type": "scattergl"
           }
          ],
          "scattermapbox": [
           {
            "marker": {
             "colorbar": {
              "outlinewidth": 0,
              "ticks": ""
             }
            },
            "type": "scattermapbox"
           }
          ],
          "scatterpolar": [
           {
            "marker": {
             "colorbar": {
              "outlinewidth": 0,
              "ticks": ""
             }
            },
            "type": "scatterpolar"
           }
          ],
          "scatterpolargl": [
           {
            "marker": {
             "colorbar": {
              "outlinewidth": 0,
              "ticks": ""
             }
            },
            "type": "scatterpolargl"
           }
          ],
          "scatterternary": [
           {
            "marker": {
             "colorbar": {
              "outlinewidth": 0,
              "ticks": ""
             }
            },
            "type": "scatterternary"
           }
          ],
          "surface": [
           {
            "colorbar": {
             "outlinewidth": 0,
             "ticks": ""
            },
            "colorscale": [
             [
              0,
              "#0d0887"
             ],
             [
              0.1111111111111111,
              "#46039f"
             ],
             [
              0.2222222222222222,
              "#7201a8"
             ],
             [
              0.3333333333333333,
              "#9c179e"
             ],
             [
              0.4444444444444444,
              "#bd3786"
             ],
             [
              0.5555555555555556,
              "#d8576b"
             ],
             [
              0.6666666666666666,
              "#ed7953"
             ],
             [
              0.7777777777777778,
              "#fb9f3a"
             ],
             [
              0.8888888888888888,
              "#fdca26"
             ],
             [
              1,
              "#f0f921"
             ]
            ],
            "type": "surface"
           }
          ],
          "table": [
           {
            "cells": {
             "fill": {
              "color": "#EBF0F8"
             },
             "line": {
              "color": "white"
             }
            },
            "header": {
             "fill": {
              "color": "#C8D4E3"
             },
             "line": {
              "color": "white"
             }
            },
            "type": "table"
           }
          ]
         },
         "layout": {
          "annotationdefaults": {
           "arrowcolor": "#2a3f5f",
           "arrowhead": 0,
           "arrowwidth": 1
          },
          "autotypenumbers": "strict",
          "coloraxis": {
           "colorbar": {
            "outlinewidth": 0,
            "ticks": ""
           }
          },
          "colorscale": {
           "diverging": [
            [
             0,
             "#8e0152"
            ],
            [
             0.1,
             "#c51b7d"
            ],
            [
             0.2,
             "#de77ae"
            ],
            [
             0.3,
             "#f1b6da"
            ],
            [
             0.4,
             "#fde0ef"
            ],
            [
             0.5,
             "#f7f7f7"
            ],
            [
             0.6,
             "#e6f5d0"
            ],
            [
             0.7,
             "#b8e186"
            ],
            [
             0.8,
             "#7fbc41"
            ],
            [
             0.9,
             "#4d9221"
            ],
            [
             1,
             "#276419"
            ]
           ],
           "sequential": [
            [
             0,
             "#0d0887"
            ],
            [
             0.1111111111111111,
             "#46039f"
            ],
            [
             0.2222222222222222,
             "#7201a8"
            ],
            [
             0.3333333333333333,
             "#9c179e"
            ],
            [
             0.4444444444444444,
             "#bd3786"
            ],
            [
             0.5555555555555556,
             "#d8576b"
            ],
            [
             0.6666666666666666,
             "#ed7953"
            ],
            [
             0.7777777777777778,
             "#fb9f3a"
            ],
            [
             0.8888888888888888,
             "#fdca26"
            ],
            [
             1,
             "#f0f921"
            ]
           ],
           "sequentialminus": [
            [
             0,
             "#0d0887"
            ],
            [
             0.1111111111111111,
             "#46039f"
            ],
            [
             0.2222222222222222,
             "#7201a8"
            ],
            [
             0.3333333333333333,
             "#9c179e"
            ],
            [
             0.4444444444444444,
             "#bd3786"
            ],
            [
             0.5555555555555556,
             "#d8576b"
            ],
            [
             0.6666666666666666,
             "#ed7953"
            ],
            [
             0.7777777777777778,
             "#fb9f3a"
            ],
            [
             0.8888888888888888,
             "#fdca26"
            ],
            [
             1,
             "#f0f921"
            ]
           ]
          },
          "colorway": [
           "#636efa",
           "#EF553B",
           "#00cc96",
           "#ab63fa",
           "#FFA15A",
           "#19d3f3",
           "#FF6692",
           "#B6E880",
           "#FF97FF",
           "#FECB52"
          ],
          "font": {
           "color": "#2a3f5f"
          },
          "geo": {
           "bgcolor": "white",
           "lakecolor": "white",
           "landcolor": "white",
           "showlakes": true,
           "showland": true,
           "subunitcolor": "#C8D4E3"
          },
          "hoverlabel": {
           "align": "left"
          },
          "hovermode": "closest",
          "mapbox": {
           "style": "light"
          },
          "paper_bgcolor": "white",
          "plot_bgcolor": "white",
          "polar": {
           "angularaxis": {
            "gridcolor": "#EBF0F8",
            "linecolor": "#EBF0F8",
            "ticks": ""
           },
           "bgcolor": "white",
           "radialaxis": {
            "gridcolor": "#EBF0F8",
            "linecolor": "#EBF0F8",
            "ticks": ""
           }
          },
          "scene": {
           "xaxis": {
            "backgroundcolor": "white",
            "gridcolor": "#DFE8F3",
            "gridwidth": 2,
            "linecolor": "#EBF0F8",
            "showbackground": true,
            "ticks": "",
            "zerolinecolor": "#EBF0F8"
           },
           "yaxis": {
            "backgroundcolor": "white",
            "gridcolor": "#DFE8F3",
            "gridwidth": 2,
            "linecolor": "#EBF0F8",
            "showbackground": true,
            "ticks": "",
            "zerolinecolor": "#EBF0F8"
           },
           "zaxis": {
            "backgroundcolor": "white",
            "gridcolor": "#DFE8F3",
            "gridwidth": 2,
            "linecolor": "#EBF0F8",
            "showbackground": true,
            "ticks": "",
            "zerolinecolor": "#EBF0F8"
           }
          },
          "shapedefaults": {
           "line": {
            "color": "#2a3f5f"
           }
          },
          "ternary": {
           "aaxis": {
            "gridcolor": "#DFE8F3",
            "linecolor": "#A2B1C6",
            "ticks": ""
           },
           "baxis": {
            "gridcolor": "#DFE8F3",
            "linecolor": "#A2B1C6",
            "ticks": ""
           },
           "bgcolor": "white",
           "caxis": {
            "gridcolor": "#DFE8F3",
            "linecolor": "#A2B1C6",
            "ticks": ""
           }
          },
          "title": {
           "x": 0.05
          },
          "xaxis": {
           "automargin": true,
           "gridcolor": "#EBF0F8",
           "linecolor": "#EBF0F8",
           "ticks": "",
           "title": {
            "standoff": 15
           },
           "zerolinecolor": "#EBF0F8",
           "zerolinewidth": 2
          },
          "yaxis": {
           "automargin": true,
           "gridcolor": "#EBF0F8",
           "linecolor": "#EBF0F8",
           "ticks": "",
           "title": {
            "standoff": 15
           },
           "zerolinecolor": "#EBF0F8",
           "zerolinewidth": 2
          }
         }
        },
        "title": {
         "font": {
          "family": "\"Segoe UI\", \"Roboto\", \"Oxygen\", \"Ubuntu\", \"Droid Sans\", \"Helvetica Neue\", sans-serif",
          "size": 16,
          "weight": "bold"
         },
         "text": "Error Analysis: Symmetric Percentage Error for Over- and Under-Prediction",
         "x": 0.5
        },
        "xaxis": {
         "gridcolor": "lightgrey",
         "tickmode": "array",
         "ticktext": [
          "Pred: 10, Actual: 100",
          "Pred: 30, Actual: 80",
          "Pred: 50, Actual: 60",
          "Pred: 70, Actual: 40",
          "Pred: 90, Actual: 20"
         ],
         "tickvals": [
          -90,
          -50,
          -10,
          30,
          70
         ],
         "title": {
          "text": "Difference between Predicted and Actual Values"
         }
        },
        "yaxis": {
         "gridcolor": "lightgrey",
         "title": {
          "text": "Error"
         },
         "zeroline": true,
         "zerolinecolor": "black",
         "zerolinewidth": 1
        }
       }
      }
     },
     "metadata": {},
     "output_type": "display_data"
    },
    {
     "name": "stdout",
     "output_type": "stream",
     "text": [
      "\n",
      "    <div style=\"width: 100%; height: auto;\">\n",
      "        <script type=\"text/javascript\">window.PlotlyConfig = {MathJaxConfig: 'local'};</script>\n",
      "        <div id=\"f05225fc-8bdf-4121-b42e-1c5000c39630\" class=\"plotly-graph-div\" style=\"width: 100%; height: auto;\"></div>\n",
      "        <script type=\"text/javascript\">\n",
      "            window.PLOTLYENV=window.PLOTLYENV || {};\n",
      "            if (document.getElementById(\"f05225fc-8bdf-4121-b42e-1c5000c39630\")) {\n",
      "                Plotly.newPlot(\n",
      "                    \"f05225fc-8bdf-4121-b42e-1c5000c39630\",\n",
      "                    {\"data\":[{\"hoverinfo\":\"text\",\"marker\":{\"color\":\"rgba(255, 165, 0, 0.8)\",\"line\":{\"color\":\"rgba(255, 165, 0, 1)\",\"width\":1},\"size\":10},\"mode\":\"lines+markers\",\"name\":\"Over-Prediction Error\",\"text\":[\"Pred: 10, Actual: 100, Error: nan\",\"Pred: 20, Actual: 90, Error: nan\",\"Pred: 30, Actual: 80, Error: nan\",\"Pred: 40, Actual: 70, Error: nan\",\"Pred: 50, Actual: 60, Error: nan\",\"Pred: 60, Actual: 50, Error: 18\",\"Pred: 70, Actual: 40, Error: 55\",\"Pred: 80, Actual: 30, Error: 91\",\"Pred: 90, Actual: 20, Error: 127\",\"Pred: 100, Actual: 10, Error: 164\"],\"x\":[null,null,null,null,null,10.0,30.0,50.0,70.0,90.0],\"y\":[null,null,null,null,null,18,55,91,127,164],\"type\":\"scatter\"},{\"hoverinfo\":\"text\",\"marker\":{\"color\":\"rgba(0, 128, 255, 0.8)\",\"line\":{\"color\":\"rgba(0, 128, 255, 1)\",\"width\":1},\"size\":10},\"mode\":\"lines+markers\",\"name\":\"Under-Prediction Error\",\"text\":[\"Pred: 10, Actual: 100, Error: 164\",\"Pred: 20, Actual: 90, Error: 127\",\"Pred: 30, Actual: 80, Error: 91\",\"Pred: 40, Actual: 70, Error: 55\",\"Pred: 50, Actual: 60, Error: 18\",\"Pred: 60, Actual: 50, Error: nan\",\"Pred: 70, Actual: 40, Error: nan\",\"Pred: 80, Actual: 30, Error: nan\",\"Pred: 90, Actual: 20, Error: nan\",\"Pred: 100, Actual: 10, Error: nan\"],\"x\":[-90.0,-70.0,-50.0,-30.0,-10.0,null,null,null,null,null],\"y\":[164,127,91,55,18,null,null,null,null,null],\"type\":\"scatter\"}],\"layout\":{\"template\":{\"data\":{\"barpolar\":[{\"marker\":{\"line\":{\"color\":\"white\",\"width\":0.5},\"pattern\":{\"fillmode\":\"overlay\",\"size\":10,\"solidity\":0.2}},\"type\":\"barpolar\"}],\"bar\":[{\"error_x\":{\"color\":\"#2a3f5f\"},\"error_y\":{\"color\":\"#2a3f5f\"},\"marker\":{\"line\":{\"color\":\"white\",\"width\":0.5},\"pattern\":{\"fillmode\":\"overlay\",\"size\":10,\"solidity\":0.2}},\"type\":\"bar\"}],\"carpet\":[{\"aaxis\":{\"endlinecolor\":\"#2a3f5f\",\"gridcolor\":\"#C8D4E3\",\"linecolor\":\"#C8D4E3\",\"minorgridcolor\":\"#C8D4E3\",\"startlinecolor\":\"#2a3f5f\"},\"baxis\":{\"endlinecolor\":\"#2a3f5f\",\"gridcolor\":\"#C8D4E3\",\"linecolor\":\"#C8D4E3\",\"minorgridcolor\":\"#C8D4E3\",\"startlinecolor\":\"#2a3f5f\"},\"type\":\"carpet\"}],\"choropleth\":[{\"colorbar\":{\"outlinewidth\":0,\"ticks\":\"\"},\"type\":\"choropleth\"}],\"contourcarpet\":[{\"colorbar\":{\"outlinewidth\":0,\"ticks\":\"\"},\"type\":\"contourcarpet\"}],\"contour\":[{\"colorbar\":{\"outlinewidth\":0,\"ticks\":\"\"},\"colorscale\":[[0.0,\"#0d0887\"],[0.1111111111111111,\"#46039f\"],[0.2222222222222222,\"#7201a8\"],[0.3333333333333333,\"#9c179e\"],[0.4444444444444444,\"#bd3786\"],[0.5555555555555556,\"#d8576b\"],[0.6666666666666666,\"#ed7953\"],[0.7777777777777778,\"#fb9f3a\"],[0.8888888888888888,\"#fdca26\"],[1.0,\"#f0f921\"]],\"type\":\"contour\"}],\"heatmapgl\":[{\"colorbar\":{\"outlinewidth\":0,\"ticks\":\"\"},\"colorscale\":[[0.0,\"#0d0887\"],[0.1111111111111111,\"#46039f\"],[0.2222222222222222,\"#7201a8\"],[0.3333333333333333,\"#9c179e\"],[0.4444444444444444,\"#bd3786\"],[0.5555555555555556,\"#d8576b\"],[0.6666666666666666,\"#ed7953\"],[0.7777777777777778,\"#fb9f3a\"],[0.8888888888888888,\"#fdca26\"],[1.0,\"#f0f921\"]],\"type\":\"heatmapgl\"}],\"heatmap\":[{\"colorbar\":{\"outlinewidth\":0,\"ticks\":\"\"},\"colorscale\":[[0.0,\"#0d0887\"],[0.1111111111111111,\"#46039f\"],[0.2222222222222222,\"#7201a8\"],[0.3333333333333333,\"#9c179e\"],[0.4444444444444444,\"#bd3786\"],[0.5555555555555556,\"#d8576b\"],[0.6666666666666666,\"#ed7953\"],[0.7777777777777778,\"#fb9f3a\"],[0.8888888888888888,\"#fdca26\"],[1.0,\"#f0f921\"]],\"type\":\"heatmap\"}],\"histogram2dcontour\":[{\"colorbar\":{\"outlinewidth\":0,\"ticks\":\"\"},\"colorscale\":[[0.0,\"#0d0887\"],[0.1111111111111111,\"#46039f\"],[0.2222222222222222,\"#7201a8\"],[0.3333333333333333,\"#9c179e\"],[0.4444444444444444,\"#bd3786\"],[0.5555555555555556,\"#d8576b\"],[0.6666666666666666,\"#ed7953\"],[0.7777777777777778,\"#fb9f3a\"],[0.8888888888888888,\"#fdca26\"],[1.0,\"#f0f921\"]],\"type\":\"histogram2dcontour\"}],\"histogram2d\":[{\"colorbar\":{\"outlinewidth\":0,\"ticks\":\"\"},\"colorscale\":[[0.0,\"#0d0887\"],[0.1111111111111111,\"#46039f\"],[0.2222222222222222,\"#7201a8\"],[0.3333333333333333,\"#9c179e\"],[0.4444444444444444,\"#bd3786\"],[0.5555555555555556,\"#d8576b\"],[0.6666666666666666,\"#ed7953\"],[0.7777777777777778,\"#fb9f3a\"],[0.8888888888888888,\"#fdca26\"],[1.0,\"#f0f921\"]],\"type\":\"histogram2d\"}],\"histogram\":[{\"marker\":{\"pattern\":{\"fillmode\":\"overlay\",\"size\":10,\"solidity\":0.2}},\"type\":\"histogram\"}],\"mesh3d\":[{\"colorbar\":{\"outlinewidth\":0,\"ticks\":\"\"},\"type\":\"mesh3d\"}],\"parcoords\":[{\"line\":{\"colorbar\":{\"outlinewidth\":0,\"ticks\":\"\"}},\"type\":\"parcoords\"}],\"pie\":[{\"automargin\":true,\"type\":\"pie\"}],\"scatter3d\":[{\"line\":{\"colorbar\":{\"outlinewidth\":0,\"ticks\":\"\"}},\"marker\":{\"colorbar\":{\"outlinewidth\":0,\"ticks\":\"\"}},\"type\":\"scatter3d\"}],\"scattercarpet\":[{\"marker\":{\"colorbar\":{\"outlinewidth\":0,\"ticks\":\"\"}},\"type\":\"scattercarpet\"}],\"scattergeo\":[{\"marker\":{\"colorbar\":{\"outlinewidth\":0,\"ticks\":\"\"}},\"type\":\"scattergeo\"}],\"scattergl\":[{\"marker\":{\"colorbar\":{\"outlinewidth\":0,\"ticks\":\"\"}},\"type\":\"scattergl\"}],\"scattermapbox\":[{\"marker\":{\"colorbar\":{\"outlinewidth\":0,\"ticks\":\"\"}},\"type\":\"scattermapbox\"}],\"scatterpolargl\":[{\"marker\":{\"colorbar\":{\"outlinewidth\":0,\"ticks\":\"\"}},\"type\":\"scatterpolargl\"}],\"scatterpolar\":[{\"marker\":{\"colorbar\":{\"outlinewidth\":0,\"ticks\":\"\"}},\"type\":\"scatterpolar\"}],\"scatter\":[{\"fillpattern\":{\"fillmode\":\"overlay\",\"size\":10,\"solidity\":0.2},\"type\":\"scatter\"}],\"scatterternary\":[{\"marker\":{\"colorbar\":{\"outlinewidth\":0,\"ticks\":\"\"}},\"type\":\"scatterternary\"}],\"surface\":[{\"colorbar\":{\"outlinewidth\":0,\"ticks\":\"\"},\"colorscale\":[[0.0,\"#0d0887\"],[0.1111111111111111,\"#46039f\"],[0.2222222222222222,\"#7201a8\"],[0.3333333333333333,\"#9c179e\"],[0.4444444444444444,\"#bd3786\"],[0.5555555555555556,\"#d8576b\"],[0.6666666666666666,\"#ed7953\"],[0.7777777777777778,\"#fb9f3a\"],[0.8888888888888888,\"#fdca26\"],[1.0,\"#f0f921\"]],\"type\":\"surface\"}],\"table\":[{\"cells\":{\"fill\":{\"color\":\"#EBF0F8\"},\"line\":{\"color\":\"white\"}},\"header\":{\"fill\":{\"color\":\"#C8D4E3\"},\"line\":{\"color\":\"white\"}},\"type\":\"table\"}]},\"layout\":{\"annotationdefaults\":{\"arrowcolor\":\"#2a3f5f\",\"arrowhead\":0,\"arrowwidth\":1},\"autotypenumbers\":\"strict\",\"coloraxis\":{\"colorbar\":{\"outlinewidth\":0,\"ticks\":\"\"}},\"colorscale\":{\"diverging\":[[0,\"#8e0152\"],[0.1,\"#c51b7d\"],[0.2,\"#de77ae\"],[0.3,\"#f1b6da\"],[0.4,\"#fde0ef\"],[0.5,\"#f7f7f7\"],[0.6,\"#e6f5d0\"],[0.7,\"#b8e186\"],[0.8,\"#7fbc41\"],[0.9,\"#4d9221\"],[1,\"#276419\"]],\"sequential\":[[0.0,\"#0d0887\"],[0.1111111111111111,\"#46039f\"],[0.2222222222222222,\"#7201a8\"],[0.3333333333333333,\"#9c179e\"],[0.4444444444444444,\"#bd3786\"],[0.5555555555555556,\"#d8576b\"],[0.6666666666666666,\"#ed7953\"],[0.7777777777777778,\"#fb9f3a\"],[0.8888888888888888,\"#fdca26\"],[1.0,\"#f0f921\"]],\"sequentialminus\":[[0.0,\"#0d0887\"],[0.1111111111111111,\"#46039f\"],[0.2222222222222222,\"#7201a8\"],[0.3333333333333333,\"#9c179e\"],[0.4444444444444444,\"#bd3786\"],[0.5555555555555556,\"#d8576b\"],[0.6666666666666666,\"#ed7953\"],[0.7777777777777778,\"#fb9f3a\"],[0.8888888888888888,\"#fdca26\"],[1.0,\"#f0f921\"]]},\"colorway\":[\"#636efa\",\"#EF553B\",\"#00cc96\",\"#ab63fa\",\"#FFA15A\",\"#19d3f3\",\"#FF6692\",\"#B6E880\",\"#FF97FF\",\"#FECB52\"],\"font\":{\"color\":\"#2a3f5f\"},\"geo\":{\"bgcolor\":\"white\",\"lakecolor\":\"white\",\"landcolor\":\"white\",\"showlakes\":true,\"showland\":true,\"subunitcolor\":\"#C8D4E3\"},\"hoverlabel\":{\"align\":\"left\"},\"hovermode\":\"closest\",\"mapbox\":{\"style\":\"light\"},\"paper_bgcolor\":\"white\",\"plot_bgcolor\":\"white\",\"polar\":{\"angularaxis\":{\"gridcolor\":\"#EBF0F8\",\"linecolor\":\"#EBF0F8\",\"ticks\":\"\"},\"bgcolor\":\"white\",\"radialaxis\":{\"gridcolor\":\"#EBF0F8\",\"linecolor\":\"#EBF0F8\",\"ticks\":\"\"}},\"scene\":{\"xaxis\":{\"backgroundcolor\":\"white\",\"gridcolor\":\"#DFE8F3\",\"gridwidth\":2,\"linecolor\":\"#EBF0F8\",\"showbackground\":true,\"ticks\":\"\",\"zerolinecolor\":\"#EBF0F8\"},\"yaxis\":{\"backgroundcolor\":\"white\",\"gridcolor\":\"#DFE8F3\",\"gridwidth\":2,\"linecolor\":\"#EBF0F8\",\"showbackground\":true,\"ticks\":\"\",\"zerolinecolor\":\"#EBF0F8\"},\"zaxis\":{\"backgroundcolor\":\"white\",\"gridcolor\":\"#DFE8F3\",\"gridwidth\":2,\"linecolor\":\"#EBF0F8\",\"showbackground\":true,\"ticks\":\"\",\"zerolinecolor\":\"#EBF0F8\"}},\"shapedefaults\":{\"line\":{\"color\":\"#2a3f5f\"}},\"ternary\":{\"aaxis\":{\"gridcolor\":\"#DFE8F3\",\"linecolor\":\"#A2B1C6\",\"ticks\":\"\"},\"baxis\":{\"gridcolor\":\"#DFE8F3\",\"linecolor\":\"#A2B1C6\",\"ticks\":\"\"},\"bgcolor\":\"white\",\"caxis\":{\"gridcolor\":\"#DFE8F3\",\"linecolor\":\"#A2B1C6\",\"ticks\":\"\"}},\"title\":{\"x\":0.05},\"xaxis\":{\"automargin\":true,\"gridcolor\":\"#EBF0F8\",\"linecolor\":\"#EBF0F8\",\"ticks\":\"\",\"title\":{\"standoff\":15},\"zerolinecolor\":\"#EBF0F8\",\"zerolinewidth\":2},\"yaxis\":{\"automargin\":true,\"gridcolor\":\"#EBF0F8\",\"linecolor\":\"#EBF0F8\",\"ticks\":\"\",\"title\":{\"standoff\":15},\"zerolinecolor\":\"#EBF0F8\",\"zerolinewidth\":2}}},\"title\":{\"text\":\"Error Analysis: Symmetric Percentage Error for Over- and Under-Prediction\",\"x\":0.5,\"font\":{\"size\":16,\"family\":\"\\\"Segoe UI\\\", \\\"Roboto\\\", \\\"Oxygen\\\", \\\"Ubuntu\\\", \\\"Droid Sans\\\", \\\"Helvetica Neue\\\", sans-serif\",\"weight\":\"bold\"}},\"font\":{\"size\":14,\"family\":\"\\\"Segoe UI\\\", \\\"Roboto\\\", \\\"Oxygen\\\", \\\"Ubuntu\\\", \\\"Droid Sans\\\", \\\"Helvetica Neue\\\", sans-serif\"},\"xaxis\":{\"title\":{\"text\":\"Difference between Predicted and Actual Values\"},\"tickmode\":\"array\",\"gridcolor\":\"lightgrey\",\"tickvals\":[-90,-50,-10,30,70],\"ticktext\":[\"Pred: 10, Actual: 100\",\"Pred: 30, Actual: 80\",\"Pred: 50, Actual: 60\",\"Pred: 70, Actual: 40\",\"Pred: 90, Actual: 20\"]},\"yaxis\":{\"title\":{\"text\":\"Error\"},\"gridcolor\":\"lightgrey\",\"zeroline\":true,\"zerolinecolor\":\"black\",\"zerolinewidth\":1},\"showlegend\":false,\"plot_bgcolor\":\"rgba(240, 240, 240, 0.95)\",\"annotations\":[{\"align\":\"center\",\"font\":{\"color\":\"black\",\"size\":14},\"showarrow\":false,\"text\":\"Under-Prediction\",\"x\":-50,\"y\":91.0},{\"align\":\"center\",\"font\":{\"color\":\"black\",\"size\":14},\"showarrow\":false,\"text\":\"Over-Prediction\",\"x\":50,\"y\":91.0}],\"shapes\":[{\"fillcolor\":\"rgba(0, 128, 255, 0.2)\",\"layer\":\"below\",\"line\":{\"color\":\"rgba(0, 128, 255, 1)\",\"width\":1},\"type\":\"rect\",\"x0\":-90,\"x1\":0,\"y0\":0,\"y1\":182.0},{\"fillcolor\":\"rgba(255, 165, 0, 0.2)\",\"layer\":\"below\",\"line\":{\"color\":\"rgba(255, 165, 0, 1)\",\"width\":1},\"type\":\"rect\",\"x0\":0,\"x1\":90,\"y0\":null,\"y1\":182.0}]}}\n",
      "                )\n",
      "            };\n",
      "        </script>\n",
      "    </div>\n",
      "    \n"
     ]
    }
   ],
   "source": [
    "\n",
    "def symmetric_percentage_error(actual, forecast):\n",
    "    actual, forecast = np.array(actual), np.array(forecast)\n",
    "    numerator = np.abs(forecast - actual)\n",
    "    denominator = (np.abs(actual) + np.abs(forecast)) / 2\n",
    "    smape = (np.mean(numerator / denominator)) * 100\n",
    "    return smape  # Return the symmetric mean absolute percentage error\n",
    "\n",
    "html_str = plot_error_symmetry(symmetric_percentage_error)\n",
    "print(html_str)"
   ]
  },
  {
   "cell_type": "code",
   "execution_count": 29,
   "metadata": {},
   "outputs": [],
   "source": [
    "def plot_error_single_value_symmetry(error_func):\n",
    "    \"\"\"\n",
    "    Parameters:\n",
    "    - error_func: function to calculate error given true and predicted values (e.g., mse)\n",
    "    \"\"\"\n",
    "    graph_id = str(uuid.uuid4())\n",
    "    # Set a fixed actual value\n",
    "    actual_value = 100\n",
    "    # Create a range of predicted values from 100 to -100 in decrements of 10\n",
    "    predicted_values = np.arange(-100, 500, 10)\n",
    "    # Create an array of the same actual value to match the shape of predicted values\n",
    "    actual_values = np.full_like(predicted_values, actual_value)\n",
    "\n",
    "    # Calculate differences centered around 0\n",
    "    differences = predicted_values - actual_values\n",
    "    over_diff = np.where(differences > 0, differences, np.nan)  # Positive differences (over-prediction)\n",
    "    under_diff = np.where(differences < 0, differences, np.nan)  # Negative differences (under-prediction)\n",
    "\n",
    "    # Calculate errors for each case\n",
    "    over_error = [\n",
    "        int(np.round(error_func(np.array([actual]), np.array([pred])))) if not np.isnan(d) else np.nan \n",
    "        for actual, pred, d in zip(actual_values, predicted_values, over_diff)\n",
    "    ]\n",
    "    under_error = [\n",
    "        int(np.round(error_func(np.array([actual]), np.array([pred])))) if not np.isnan(d) else np.nan \n",
    "        for actual, pred, d in zip(actual_values, predicted_values, under_diff)\n",
    "    ]\n",
    "\n",
    "    # Create a Plotly figure\n",
    "    fig = go.Figure()\n",
    "\n",
    "    # Add trace for over-prediction errors\n",
    "    fig.add_trace(go.Scatter(\n",
    "        x=over_diff,\n",
    "        y=over_error,\n",
    "        mode='lines+markers',\n",
    "        marker=dict(size=10, color='rgba(255, 165, 0, 0.8)', line=dict(width=1, color='rgba(255, 165, 0, 1)')),\n",
    "        name='Over-Prediction Error',\n",
    "        text=[f'Pred: {pred}, Actual: {actual_value}, Error: {error}' \n",
    "              for pred, error in zip(predicted_values, over_error)],\n",
    "        hoverinfo='text'\n",
    "    ))\n",
    "\n",
    "    # Add trace for under-prediction errors\n",
    "    fig.add_trace(go.Scatter(\n",
    "        x=under_diff,\n",
    "        y=under_error,\n",
    "        mode='lines+markers',\n",
    "        marker=dict(size=10, color='rgba(0, 128, 255, 0.8)', line=dict(width=1, color='rgba(0, 128, 255, 1)')),\n",
    "        name='Under-Prediction Error',\n",
    "        text=[f'Pred: {pred}, Actual: {actual_value}, Error: {error}' \n",
    "              for pred, error in zip(predicted_values, under_error)],\n",
    "        hoverinfo='text'\n",
    "    ))\n",
    "\n",
    "    # Update layout for better appearance\n",
    "    fig.update_layout(\n",
    "        title=f\"Impact on Over- and Under-Prediction for a Fixed Actual Value of 100\",\n",
    "        title_x=0.5,\n",
    "        title_font=dict(size=16, family='\"Segoe UI\", \"Roboto\", \"Oxygen\", \"Ubuntu\", \"Droid Sans\", \"Helvetica Neue\", sans-serif', weight='bold'),\n",
    "        xaxis_title=\"Difference between Predicted and Actual Values\",\n",
    "        yaxis_title=\"Error\",\n",
    "        template=\"plotly_white\",\n",
    "        font=dict(size=14, family='\"Segoe UI\", \"Roboto\", \"Oxygen\", \"Ubuntu\", \"Droid Sans\", \"Helvetica Neue\", sans-serif'),\n",
    "        showlegend=False,\n",
    "        xaxis=dict(tickmode='array', gridcolor='lightgrey'),\n",
    "        yaxis=dict(gridcolor='lightgrey', zeroline=True, zerolinecolor='black', zerolinewidth=1),\n",
    "        plot_bgcolor='rgba(240, 240, 240, 0.95)'\n",
    "    )\n",
    "\n",
    "    # Display the figure\n",
    "    fig.show()\n",
    "\n",
    "    html_str = f\"\"\"\n",
    "    <div style=\"width: 100%; height: auto;\">\n",
    "        <script type=\"text/javascript\">window.PlotlyConfig = {{MathJaxConfig: 'local'}};</script>\n",
    "        <div id=\"{graph_id}\" class=\"plotly-graph-div\" style=\"width: 100%; height: auto;\"></div>\n",
    "        <script type=\"text/javascript\">\n",
    "            window.PLOTLYENV=window.PLOTLYENV || {{}};\n",
    "            if (document.getElementById(\"{graph_id}\")) {{\n",
    "                Plotly.newPlot(\n",
    "                    \"{graph_id}\",\n",
    "                    {fig.to_json()}\n",
    "                )\n",
    "            }};\n",
    "        </script>\n",
    "    </div>\n",
    "    \"\"\"\n",
    "    return html_str"
   ]
  },
  {
   "cell_type": "code",
   "execution_count": 30,
   "metadata": {},
   "outputs": [
    {
     "data": {
      "application/vnd.plotly.v1+json": {
       "config": {
        "plotlyServerURL": "https://plot.ly"
       },
       "data": [
        {
         "hoverinfo": "text",
         "marker": {
          "color": "rgba(255, 165, 0, 0.8)",
          "line": {
           "color": "rgba(255, 165, 0, 1)",
           "width": 1
          },
          "size": 10
         },
         "mode": "lines+markers",
         "name": "Over-Prediction Error",
         "text": [
          "Pred: -100, Actual: 100, Error: nan",
          "Pred: -90, Actual: 100, Error: nan",
          "Pred: -80, Actual: 100, Error: nan",
          "Pred: -70, Actual: 100, Error: nan",
          "Pred: -60, Actual: 100, Error: nan",
          "Pred: -50, Actual: 100, Error: nan",
          "Pred: -40, Actual: 100, Error: nan",
          "Pred: -30, Actual: 100, Error: nan",
          "Pred: -20, Actual: 100, Error: nan",
          "Pred: -10, Actual: 100, Error: nan",
          "Pred: 0, Actual: 100, Error: nan",
          "Pred: 10, Actual: 100, Error: nan",
          "Pred: 20, Actual: 100, Error: nan",
          "Pred: 30, Actual: 100, Error: nan",
          "Pred: 40, Actual: 100, Error: nan",
          "Pred: 50, Actual: 100, Error: nan",
          "Pred: 60, Actual: 100, Error: nan",
          "Pred: 70, Actual: 100, Error: nan",
          "Pred: 80, Actual: 100, Error: nan",
          "Pred: 90, Actual: 100, Error: nan",
          "Pred: 100, Actual: 100, Error: nan",
          "Pred: 110, Actual: 100, Error: 10",
          "Pred: 120, Actual: 100, Error: 18",
          "Pred: 130, Actual: 100, Error: 26",
          "Pred: 140, Actual: 100, Error: 33",
          "Pred: 150, Actual: 100, Error: 40",
          "Pred: 160, Actual: 100, Error: 46",
          "Pred: 170, Actual: 100, Error: 52",
          "Pred: 180, Actual: 100, Error: 57",
          "Pred: 190, Actual: 100, Error: 62",
          "Pred: 200, Actual: 100, Error: 67",
          "Pred: 210, Actual: 100, Error: 71",
          "Pred: 220, Actual: 100, Error: 75",
          "Pred: 230, Actual: 100, Error: 79",
          "Pred: 240, Actual: 100, Error: 82",
          "Pred: 250, Actual: 100, Error: 86",
          "Pred: 260, Actual: 100, Error: 89",
          "Pred: 270, Actual: 100, Error: 92",
          "Pred: 280, Actual: 100, Error: 95",
          "Pred: 290, Actual: 100, Error: 97",
          "Pred: 300, Actual: 100, Error: 100",
          "Pred: 310, Actual: 100, Error: 102",
          "Pred: 320, Actual: 100, Error: 105",
          "Pred: 330, Actual: 100, Error: 107",
          "Pred: 340, Actual: 100, Error: 109",
          "Pred: 350, Actual: 100, Error: 111",
          "Pred: 360, Actual: 100, Error: 113",
          "Pred: 370, Actual: 100, Error: 115",
          "Pred: 380, Actual: 100, Error: 117",
          "Pred: 390, Actual: 100, Error: 118",
          "Pred: 400, Actual: 100, Error: 120",
          "Pred: 410, Actual: 100, Error: 122",
          "Pred: 420, Actual: 100, Error: 123",
          "Pred: 430, Actual: 100, Error: 125",
          "Pred: 440, Actual: 100, Error: 126",
          "Pred: 450, Actual: 100, Error: 127",
          "Pred: 460, Actual: 100, Error: 129",
          "Pred: 470, Actual: 100, Error: 130",
          "Pred: 480, Actual: 100, Error: 131",
          "Pred: 490, Actual: 100, Error: 132"
         ],
         "type": "scatter",
         "x": [
          null,
          null,
          null,
          null,
          null,
          null,
          null,
          null,
          null,
          null,
          null,
          null,
          null,
          null,
          null,
          null,
          null,
          null,
          null,
          null,
          null,
          10,
          20,
          30,
          40,
          50,
          60,
          70,
          80,
          90,
          100,
          110,
          120,
          130,
          140,
          150,
          160,
          170,
          180,
          190,
          200,
          210,
          220,
          230,
          240,
          250,
          260,
          270,
          280,
          290,
          300,
          310,
          320,
          330,
          340,
          350,
          360,
          370,
          380,
          390
         ],
         "y": [
          null,
          null,
          null,
          null,
          null,
          null,
          null,
          null,
          null,
          null,
          null,
          null,
          null,
          null,
          null,
          null,
          null,
          null,
          null,
          null,
          null,
          10,
          18,
          26,
          33,
          40,
          46,
          52,
          57,
          62,
          67,
          71,
          75,
          79,
          82,
          86,
          89,
          92,
          95,
          97,
          100,
          102,
          105,
          107,
          109,
          111,
          113,
          115,
          117,
          118,
          120,
          122,
          123,
          125,
          126,
          127,
          129,
          130,
          131,
          132
         ]
        },
        {
         "hoverinfo": "text",
         "marker": {
          "color": "rgba(0, 128, 255, 0.8)",
          "line": {
           "color": "rgba(0, 128, 255, 1)",
           "width": 1
          },
          "size": 10
         },
         "mode": "lines+markers",
         "name": "Under-Prediction Error",
         "text": [
          "Pred: -100, Actual: 100, Error: 200",
          "Pred: -90, Actual: 100, Error: 200",
          "Pred: -80, Actual: 100, Error: 200",
          "Pred: -70, Actual: 100, Error: 200",
          "Pred: -60, Actual: 100, Error: 200",
          "Pred: -50, Actual: 100, Error: 200",
          "Pred: -40, Actual: 100, Error: 200",
          "Pred: -30, Actual: 100, Error: 200",
          "Pred: -20, Actual: 100, Error: 200",
          "Pred: -10, Actual: 100, Error: 200",
          "Pred: 0, Actual: 100, Error: 200",
          "Pred: 10, Actual: 100, Error: 164",
          "Pred: 20, Actual: 100, Error: 133",
          "Pred: 30, Actual: 100, Error: 108",
          "Pred: 40, Actual: 100, Error: 86",
          "Pred: 50, Actual: 100, Error: 67",
          "Pred: 60, Actual: 100, Error: 50",
          "Pred: 70, Actual: 100, Error: 35",
          "Pred: 80, Actual: 100, Error: 22",
          "Pred: 90, Actual: 100, Error: 11",
          "Pred: 100, Actual: 100, Error: nan",
          "Pred: 110, Actual: 100, Error: nan",
          "Pred: 120, Actual: 100, Error: nan",
          "Pred: 130, Actual: 100, Error: nan",
          "Pred: 140, Actual: 100, Error: nan",
          "Pred: 150, Actual: 100, Error: nan",
          "Pred: 160, Actual: 100, Error: nan",
          "Pred: 170, Actual: 100, Error: nan",
          "Pred: 180, Actual: 100, Error: nan",
          "Pred: 190, Actual: 100, Error: nan",
          "Pred: 200, Actual: 100, Error: nan",
          "Pred: 210, Actual: 100, Error: nan",
          "Pred: 220, Actual: 100, Error: nan",
          "Pred: 230, Actual: 100, Error: nan",
          "Pred: 240, Actual: 100, Error: nan",
          "Pred: 250, Actual: 100, Error: nan",
          "Pred: 260, Actual: 100, Error: nan",
          "Pred: 270, Actual: 100, Error: nan",
          "Pred: 280, Actual: 100, Error: nan",
          "Pred: 290, Actual: 100, Error: nan",
          "Pred: 300, Actual: 100, Error: nan",
          "Pred: 310, Actual: 100, Error: nan",
          "Pred: 320, Actual: 100, Error: nan",
          "Pred: 330, Actual: 100, Error: nan",
          "Pred: 340, Actual: 100, Error: nan",
          "Pred: 350, Actual: 100, Error: nan",
          "Pred: 360, Actual: 100, Error: nan",
          "Pred: 370, Actual: 100, Error: nan",
          "Pred: 380, Actual: 100, Error: nan",
          "Pred: 390, Actual: 100, Error: nan",
          "Pred: 400, Actual: 100, Error: nan",
          "Pred: 410, Actual: 100, Error: nan",
          "Pred: 420, Actual: 100, Error: nan",
          "Pred: 430, Actual: 100, Error: nan",
          "Pred: 440, Actual: 100, Error: nan",
          "Pred: 450, Actual: 100, Error: nan",
          "Pred: 460, Actual: 100, Error: nan",
          "Pred: 470, Actual: 100, Error: nan",
          "Pred: 480, Actual: 100, Error: nan",
          "Pred: 490, Actual: 100, Error: nan"
         ],
         "type": "scatter",
         "x": [
          -200,
          -190,
          -180,
          -170,
          -160,
          -150,
          -140,
          -130,
          -120,
          -110,
          -100,
          -90,
          -80,
          -70,
          -60,
          -50,
          -40,
          -30,
          -20,
          -10,
          null,
          null,
          null,
          null,
          null,
          null,
          null,
          null,
          null,
          null,
          null,
          null,
          null,
          null,
          null,
          null,
          null,
          null,
          null,
          null,
          null,
          null,
          null,
          null,
          null,
          null,
          null,
          null,
          null,
          null,
          null,
          null,
          null,
          null,
          null,
          null,
          null,
          null,
          null,
          null
         ],
         "y": [
          200,
          200,
          200,
          200,
          200,
          200,
          200,
          200,
          200,
          200,
          200,
          164,
          133,
          108,
          86,
          67,
          50,
          35,
          22,
          11,
          null,
          null,
          null,
          null,
          null,
          null,
          null,
          null,
          null,
          null,
          null,
          null,
          null,
          null,
          null,
          null,
          null,
          null,
          null,
          null,
          null,
          null,
          null,
          null,
          null,
          null,
          null,
          null,
          null,
          null,
          null,
          null,
          null,
          null,
          null,
          null,
          null,
          null,
          null,
          null
         ]
        }
       ],
       "layout": {
        "font": {
         "family": "\"Segoe UI\", \"Roboto\", \"Oxygen\", \"Ubuntu\", \"Droid Sans\", \"Helvetica Neue\", sans-serif",
         "size": 14
        },
        "plot_bgcolor": "rgba(240, 240, 240, 0.95)",
        "showlegend": false,
        "template": {
         "data": {
          "bar": [
           {
            "error_x": {
             "color": "#2a3f5f"
            },
            "error_y": {
             "color": "#2a3f5f"
            },
            "marker": {
             "line": {
              "color": "white",
              "width": 0.5
             },
             "pattern": {
              "fillmode": "overlay",
              "size": 10,
              "solidity": 0.2
             }
            },
            "type": "bar"
           }
          ],
          "barpolar": [
           {
            "marker": {
             "line": {
              "color": "white",
              "width": 0.5
             },
             "pattern": {
              "fillmode": "overlay",
              "size": 10,
              "solidity": 0.2
             }
            },
            "type": "barpolar"
           }
          ],
          "carpet": [
           {
            "aaxis": {
             "endlinecolor": "#2a3f5f",
             "gridcolor": "#C8D4E3",
             "linecolor": "#C8D4E3",
             "minorgridcolor": "#C8D4E3",
             "startlinecolor": "#2a3f5f"
            },
            "baxis": {
             "endlinecolor": "#2a3f5f",
             "gridcolor": "#C8D4E3",
             "linecolor": "#C8D4E3",
             "minorgridcolor": "#C8D4E3",
             "startlinecolor": "#2a3f5f"
            },
            "type": "carpet"
           }
          ],
          "choropleth": [
           {
            "colorbar": {
             "outlinewidth": 0,
             "ticks": ""
            },
            "type": "choropleth"
           }
          ],
          "contour": [
           {
            "colorbar": {
             "outlinewidth": 0,
             "ticks": ""
            },
            "colorscale": [
             [
              0,
              "#0d0887"
             ],
             [
              0.1111111111111111,
              "#46039f"
             ],
             [
              0.2222222222222222,
              "#7201a8"
             ],
             [
              0.3333333333333333,
              "#9c179e"
             ],
             [
              0.4444444444444444,
              "#bd3786"
             ],
             [
              0.5555555555555556,
              "#d8576b"
             ],
             [
              0.6666666666666666,
              "#ed7953"
             ],
             [
              0.7777777777777778,
              "#fb9f3a"
             ],
             [
              0.8888888888888888,
              "#fdca26"
             ],
             [
              1,
              "#f0f921"
             ]
            ],
            "type": "contour"
           }
          ],
          "contourcarpet": [
           {
            "colorbar": {
             "outlinewidth": 0,
             "ticks": ""
            },
            "type": "contourcarpet"
           }
          ],
          "heatmap": [
           {
            "colorbar": {
             "outlinewidth": 0,
             "ticks": ""
            },
            "colorscale": [
             [
              0,
              "#0d0887"
             ],
             [
              0.1111111111111111,
              "#46039f"
             ],
             [
              0.2222222222222222,
              "#7201a8"
             ],
             [
              0.3333333333333333,
              "#9c179e"
             ],
             [
              0.4444444444444444,
              "#bd3786"
             ],
             [
              0.5555555555555556,
              "#d8576b"
             ],
             [
              0.6666666666666666,
              "#ed7953"
             ],
             [
              0.7777777777777778,
              "#fb9f3a"
             ],
             [
              0.8888888888888888,
              "#fdca26"
             ],
             [
              1,
              "#f0f921"
             ]
            ],
            "type": "heatmap"
           }
          ],
          "heatmapgl": [
           {
            "colorbar": {
             "outlinewidth": 0,
             "ticks": ""
            },
            "colorscale": [
             [
              0,
              "#0d0887"
             ],
             [
              0.1111111111111111,
              "#46039f"
             ],
             [
              0.2222222222222222,
              "#7201a8"
             ],
             [
              0.3333333333333333,
              "#9c179e"
             ],
             [
              0.4444444444444444,
              "#bd3786"
             ],
             [
              0.5555555555555556,
              "#d8576b"
             ],
             [
              0.6666666666666666,
              "#ed7953"
             ],
             [
              0.7777777777777778,
              "#fb9f3a"
             ],
             [
              0.8888888888888888,
              "#fdca26"
             ],
             [
              1,
              "#f0f921"
             ]
            ],
            "type": "heatmapgl"
           }
          ],
          "histogram": [
           {
            "marker": {
             "pattern": {
              "fillmode": "overlay",
              "size": 10,
              "solidity": 0.2
             }
            },
            "type": "histogram"
           }
          ],
          "histogram2d": [
           {
            "colorbar": {
             "outlinewidth": 0,
             "ticks": ""
            },
            "colorscale": [
             [
              0,
              "#0d0887"
             ],
             [
              0.1111111111111111,
              "#46039f"
             ],
             [
              0.2222222222222222,
              "#7201a8"
             ],
             [
              0.3333333333333333,
              "#9c179e"
             ],
             [
              0.4444444444444444,
              "#bd3786"
             ],
             [
              0.5555555555555556,
              "#d8576b"
             ],
             [
              0.6666666666666666,
              "#ed7953"
             ],
             [
              0.7777777777777778,
              "#fb9f3a"
             ],
             [
              0.8888888888888888,
              "#fdca26"
             ],
             [
              1,
              "#f0f921"
             ]
            ],
            "type": "histogram2d"
           }
          ],
          "histogram2dcontour": [
           {
            "colorbar": {
             "outlinewidth": 0,
             "ticks": ""
            },
            "colorscale": [
             [
              0,
              "#0d0887"
             ],
             [
              0.1111111111111111,
              "#46039f"
             ],
             [
              0.2222222222222222,
              "#7201a8"
             ],
             [
              0.3333333333333333,
              "#9c179e"
             ],
             [
              0.4444444444444444,
              "#bd3786"
             ],
             [
              0.5555555555555556,
              "#d8576b"
             ],
             [
              0.6666666666666666,
              "#ed7953"
             ],
             [
              0.7777777777777778,
              "#fb9f3a"
             ],
             [
              0.8888888888888888,
              "#fdca26"
             ],
             [
              1,
              "#f0f921"
             ]
            ],
            "type": "histogram2dcontour"
           }
          ],
          "mesh3d": [
           {
            "colorbar": {
             "outlinewidth": 0,
             "ticks": ""
            },
            "type": "mesh3d"
           }
          ],
          "parcoords": [
           {
            "line": {
             "colorbar": {
              "outlinewidth": 0,
              "ticks": ""
             }
            },
            "type": "parcoords"
           }
          ],
          "pie": [
           {
            "automargin": true,
            "type": "pie"
           }
          ],
          "scatter": [
           {
            "fillpattern": {
             "fillmode": "overlay",
             "size": 10,
             "solidity": 0.2
            },
            "type": "scatter"
           }
          ],
          "scatter3d": [
           {
            "line": {
             "colorbar": {
              "outlinewidth": 0,
              "ticks": ""
             }
            },
            "marker": {
             "colorbar": {
              "outlinewidth": 0,
              "ticks": ""
             }
            },
            "type": "scatter3d"
           }
          ],
          "scattercarpet": [
           {
            "marker": {
             "colorbar": {
              "outlinewidth": 0,
              "ticks": ""
             }
            },
            "type": "scattercarpet"
           }
          ],
          "scattergeo": [
           {
            "marker": {
             "colorbar": {
              "outlinewidth": 0,
              "ticks": ""
             }
            },
            "type": "scattergeo"
           }
          ],
          "scattergl": [
           {
            "marker": {
             "colorbar": {
              "outlinewidth": 0,
              "ticks": ""
             }
            },
            "type": "scattergl"
           }
          ],
          "scattermapbox": [
           {
            "marker": {
             "colorbar": {
              "outlinewidth": 0,
              "ticks": ""
             }
            },
            "type": "scattermapbox"
           }
          ],
          "scatterpolar": [
           {
            "marker": {
             "colorbar": {
              "outlinewidth": 0,
              "ticks": ""
             }
            },
            "type": "scatterpolar"
           }
          ],
          "scatterpolargl": [
           {
            "marker": {
             "colorbar": {
              "outlinewidth": 0,
              "ticks": ""
             }
            },
            "type": "scatterpolargl"
           }
          ],
          "scatterternary": [
           {
            "marker": {
             "colorbar": {
              "outlinewidth": 0,
              "ticks": ""
             }
            },
            "type": "scatterternary"
           }
          ],
          "surface": [
           {
            "colorbar": {
             "outlinewidth": 0,
             "ticks": ""
            },
            "colorscale": [
             [
              0,
              "#0d0887"
             ],
             [
              0.1111111111111111,
              "#46039f"
             ],
             [
              0.2222222222222222,
              "#7201a8"
             ],
             [
              0.3333333333333333,
              "#9c179e"
             ],
             [
              0.4444444444444444,
              "#bd3786"
             ],
             [
              0.5555555555555556,
              "#d8576b"
             ],
             [
              0.6666666666666666,
              "#ed7953"
             ],
             [
              0.7777777777777778,
              "#fb9f3a"
             ],
             [
              0.8888888888888888,
              "#fdca26"
             ],
             [
              1,
              "#f0f921"
             ]
            ],
            "type": "surface"
           }
          ],
          "table": [
           {
            "cells": {
             "fill": {
              "color": "#EBF0F8"
             },
             "line": {
              "color": "white"
             }
            },
            "header": {
             "fill": {
              "color": "#C8D4E3"
             },
             "line": {
              "color": "white"
             }
            },
            "type": "table"
           }
          ]
         },
         "layout": {
          "annotationdefaults": {
           "arrowcolor": "#2a3f5f",
           "arrowhead": 0,
           "arrowwidth": 1
          },
          "autotypenumbers": "strict",
          "coloraxis": {
           "colorbar": {
            "outlinewidth": 0,
            "ticks": ""
           }
          },
          "colorscale": {
           "diverging": [
            [
             0,
             "#8e0152"
            ],
            [
             0.1,
             "#c51b7d"
            ],
            [
             0.2,
             "#de77ae"
            ],
            [
             0.3,
             "#f1b6da"
            ],
            [
             0.4,
             "#fde0ef"
            ],
            [
             0.5,
             "#f7f7f7"
            ],
            [
             0.6,
             "#e6f5d0"
            ],
            [
             0.7,
             "#b8e186"
            ],
            [
             0.8,
             "#7fbc41"
            ],
            [
             0.9,
             "#4d9221"
            ],
            [
             1,
             "#276419"
            ]
           ],
           "sequential": [
            [
             0,
             "#0d0887"
            ],
            [
             0.1111111111111111,
             "#46039f"
            ],
            [
             0.2222222222222222,
             "#7201a8"
            ],
            [
             0.3333333333333333,
             "#9c179e"
            ],
            [
             0.4444444444444444,
             "#bd3786"
            ],
            [
             0.5555555555555556,
             "#d8576b"
            ],
            [
             0.6666666666666666,
             "#ed7953"
            ],
            [
             0.7777777777777778,
             "#fb9f3a"
            ],
            [
             0.8888888888888888,
             "#fdca26"
            ],
            [
             1,
             "#f0f921"
            ]
           ],
           "sequentialminus": [
            [
             0,
             "#0d0887"
            ],
            [
             0.1111111111111111,
             "#46039f"
            ],
            [
             0.2222222222222222,
             "#7201a8"
            ],
            [
             0.3333333333333333,
             "#9c179e"
            ],
            [
             0.4444444444444444,
             "#bd3786"
            ],
            [
             0.5555555555555556,
             "#d8576b"
            ],
            [
             0.6666666666666666,
             "#ed7953"
            ],
            [
             0.7777777777777778,
             "#fb9f3a"
            ],
            [
             0.8888888888888888,
             "#fdca26"
            ],
            [
             1,
             "#f0f921"
            ]
           ]
          },
          "colorway": [
           "#636efa",
           "#EF553B",
           "#00cc96",
           "#ab63fa",
           "#FFA15A",
           "#19d3f3",
           "#FF6692",
           "#B6E880",
           "#FF97FF",
           "#FECB52"
          ],
          "font": {
           "color": "#2a3f5f"
          },
          "geo": {
           "bgcolor": "white",
           "lakecolor": "white",
           "landcolor": "white",
           "showlakes": true,
           "showland": true,
           "subunitcolor": "#C8D4E3"
          },
          "hoverlabel": {
           "align": "left"
          },
          "hovermode": "closest",
          "mapbox": {
           "style": "light"
          },
          "paper_bgcolor": "white",
          "plot_bgcolor": "white",
          "polar": {
           "angularaxis": {
            "gridcolor": "#EBF0F8",
            "linecolor": "#EBF0F8",
            "ticks": ""
           },
           "bgcolor": "white",
           "radialaxis": {
            "gridcolor": "#EBF0F8",
            "linecolor": "#EBF0F8",
            "ticks": ""
           }
          },
          "scene": {
           "xaxis": {
            "backgroundcolor": "white",
            "gridcolor": "#DFE8F3",
            "gridwidth": 2,
            "linecolor": "#EBF0F8",
            "showbackground": true,
            "ticks": "",
            "zerolinecolor": "#EBF0F8"
           },
           "yaxis": {
            "backgroundcolor": "white",
            "gridcolor": "#DFE8F3",
            "gridwidth": 2,
            "linecolor": "#EBF0F8",
            "showbackground": true,
            "ticks": "",
            "zerolinecolor": "#EBF0F8"
           },
           "zaxis": {
            "backgroundcolor": "white",
            "gridcolor": "#DFE8F3",
            "gridwidth": 2,
            "linecolor": "#EBF0F8",
            "showbackground": true,
            "ticks": "",
            "zerolinecolor": "#EBF0F8"
           }
          },
          "shapedefaults": {
           "line": {
            "color": "#2a3f5f"
           }
          },
          "ternary": {
           "aaxis": {
            "gridcolor": "#DFE8F3",
            "linecolor": "#A2B1C6",
            "ticks": ""
           },
           "baxis": {
            "gridcolor": "#DFE8F3",
            "linecolor": "#A2B1C6",
            "ticks": ""
           },
           "bgcolor": "white",
           "caxis": {
            "gridcolor": "#DFE8F3",
            "linecolor": "#A2B1C6",
            "ticks": ""
           }
          },
          "title": {
           "x": 0.05
          },
          "xaxis": {
           "automargin": true,
           "gridcolor": "#EBF0F8",
           "linecolor": "#EBF0F8",
           "ticks": "",
           "title": {
            "standoff": 15
           },
           "zerolinecolor": "#EBF0F8",
           "zerolinewidth": 2
          },
          "yaxis": {
           "automargin": true,
           "gridcolor": "#EBF0F8",
           "linecolor": "#EBF0F8",
           "ticks": "",
           "title": {
            "standoff": 15
           },
           "zerolinecolor": "#EBF0F8",
           "zerolinewidth": 2
          }
         }
        },
        "title": {
         "font": {
          "family": "\"Segoe UI\", \"Roboto\", \"Oxygen\", \"Ubuntu\", \"Droid Sans\", \"Helvetica Neue\", sans-serif",
          "size": 16,
          "weight": "bold"
         },
         "text": "Impact on Over- and Under-Prediction for a Fixed Actual Value of 100",
         "x": 0.5
        },
        "xaxis": {
         "gridcolor": "lightgrey",
         "tickmode": "array",
         "title": {
          "text": "Difference between Predicted and Actual Values"
         }
        },
        "yaxis": {
         "gridcolor": "lightgrey",
         "title": {
          "text": "Error"
         },
         "zeroline": true,
         "zerolinecolor": "black",
         "zerolinewidth": 1
        }
       }
      }
     },
     "metadata": {},
     "output_type": "display_data"
    },
    {
     "name": "stdout",
     "output_type": "stream",
     "text": [
      "\n",
      "    <div style=\"width: 100%; height: auto;\">\n",
      "        <script type=\"text/javascript\">window.PlotlyConfig = {MathJaxConfig: 'local'};</script>\n",
      "        <div id=\"9230fecd-e44a-498c-b5e1-aa046c908356\" class=\"plotly-graph-div\" style=\"width: 100%; height: auto;\"></div>\n",
      "        <script type=\"text/javascript\">\n",
      "            window.PLOTLYENV=window.PLOTLYENV || {};\n",
      "            if (document.getElementById(\"9230fecd-e44a-498c-b5e1-aa046c908356\")) {\n",
      "                Plotly.newPlot(\n",
      "                    \"9230fecd-e44a-498c-b5e1-aa046c908356\",\n",
      "                    {\"data\":[{\"hoverinfo\":\"text\",\"marker\":{\"color\":\"rgba(255, 165, 0, 0.8)\",\"line\":{\"color\":\"rgba(255, 165, 0, 1)\",\"width\":1},\"size\":10},\"mode\":\"lines+markers\",\"name\":\"Over-Prediction Error\",\"text\":[\"Pred: -100, Actual: 100, Error: nan\",\"Pred: -90, Actual: 100, Error: nan\",\"Pred: -80, Actual: 100, Error: nan\",\"Pred: -70, Actual: 100, Error: nan\",\"Pred: -60, Actual: 100, Error: nan\",\"Pred: -50, Actual: 100, Error: nan\",\"Pred: -40, Actual: 100, Error: nan\",\"Pred: -30, Actual: 100, Error: nan\",\"Pred: -20, Actual: 100, Error: nan\",\"Pred: -10, Actual: 100, Error: nan\",\"Pred: 0, Actual: 100, Error: nan\",\"Pred: 10, Actual: 100, Error: nan\",\"Pred: 20, Actual: 100, Error: nan\",\"Pred: 30, Actual: 100, Error: nan\",\"Pred: 40, Actual: 100, Error: nan\",\"Pred: 50, Actual: 100, Error: nan\",\"Pred: 60, Actual: 100, Error: nan\",\"Pred: 70, Actual: 100, Error: nan\",\"Pred: 80, Actual: 100, Error: nan\",\"Pred: 90, Actual: 100, Error: nan\",\"Pred: 100, Actual: 100, Error: nan\",\"Pred: 110, Actual: 100, Error: 10\",\"Pred: 120, Actual: 100, Error: 18\",\"Pred: 130, Actual: 100, Error: 26\",\"Pred: 140, Actual: 100, Error: 33\",\"Pred: 150, Actual: 100, Error: 40\",\"Pred: 160, Actual: 100, Error: 46\",\"Pred: 170, Actual: 100, Error: 52\",\"Pred: 180, Actual: 100, Error: 57\",\"Pred: 190, Actual: 100, Error: 62\",\"Pred: 200, Actual: 100, Error: 67\",\"Pred: 210, Actual: 100, Error: 71\",\"Pred: 220, Actual: 100, Error: 75\",\"Pred: 230, Actual: 100, Error: 79\",\"Pred: 240, Actual: 100, Error: 82\",\"Pred: 250, Actual: 100, Error: 86\",\"Pred: 260, Actual: 100, Error: 89\",\"Pred: 270, Actual: 100, Error: 92\",\"Pred: 280, Actual: 100, Error: 95\",\"Pred: 290, Actual: 100, Error: 97\",\"Pred: 300, Actual: 100, Error: 100\",\"Pred: 310, Actual: 100, Error: 102\",\"Pred: 320, Actual: 100, Error: 105\",\"Pred: 330, Actual: 100, Error: 107\",\"Pred: 340, Actual: 100, Error: 109\",\"Pred: 350, Actual: 100, Error: 111\",\"Pred: 360, Actual: 100, Error: 113\",\"Pred: 370, Actual: 100, Error: 115\",\"Pred: 380, Actual: 100, Error: 117\",\"Pred: 390, Actual: 100, Error: 118\",\"Pred: 400, Actual: 100, Error: 120\",\"Pred: 410, Actual: 100, Error: 122\",\"Pred: 420, Actual: 100, Error: 123\",\"Pred: 430, Actual: 100, Error: 125\",\"Pred: 440, Actual: 100, Error: 126\",\"Pred: 450, Actual: 100, Error: 127\",\"Pred: 460, Actual: 100, Error: 129\",\"Pred: 470, Actual: 100, Error: 130\",\"Pred: 480, Actual: 100, Error: 131\",\"Pred: 490, Actual: 100, Error: 132\"],\"x\":[null,null,null,null,null,null,null,null,null,null,null,null,null,null,null,null,null,null,null,null,null,10.0,20.0,30.0,40.0,50.0,60.0,70.0,80.0,90.0,100.0,110.0,120.0,130.0,140.0,150.0,160.0,170.0,180.0,190.0,200.0,210.0,220.0,230.0,240.0,250.0,260.0,270.0,280.0,290.0,300.0,310.0,320.0,330.0,340.0,350.0,360.0,370.0,380.0,390.0],\"y\":[null,null,null,null,null,null,null,null,null,null,null,null,null,null,null,null,null,null,null,null,null,10,18,26,33,40,46,52,57,62,67,71,75,79,82,86,89,92,95,97,100,102,105,107,109,111,113,115,117,118,120,122,123,125,126,127,129,130,131,132],\"type\":\"scatter\"},{\"hoverinfo\":\"text\",\"marker\":{\"color\":\"rgba(0, 128, 255, 0.8)\",\"line\":{\"color\":\"rgba(0, 128, 255, 1)\",\"width\":1},\"size\":10},\"mode\":\"lines+markers\",\"name\":\"Under-Prediction Error\",\"text\":[\"Pred: -100, Actual: 100, Error: 200\",\"Pred: -90, Actual: 100, Error: 200\",\"Pred: -80, Actual: 100, Error: 200\",\"Pred: -70, Actual: 100, Error: 200\",\"Pred: -60, Actual: 100, Error: 200\",\"Pred: -50, Actual: 100, Error: 200\",\"Pred: -40, Actual: 100, Error: 200\",\"Pred: -30, Actual: 100, Error: 200\",\"Pred: -20, Actual: 100, Error: 200\",\"Pred: -10, Actual: 100, Error: 200\",\"Pred: 0, Actual: 100, Error: 200\",\"Pred: 10, Actual: 100, Error: 164\",\"Pred: 20, Actual: 100, Error: 133\",\"Pred: 30, Actual: 100, Error: 108\",\"Pred: 40, Actual: 100, Error: 86\",\"Pred: 50, Actual: 100, Error: 67\",\"Pred: 60, Actual: 100, Error: 50\",\"Pred: 70, Actual: 100, Error: 35\",\"Pred: 80, Actual: 100, Error: 22\",\"Pred: 90, Actual: 100, Error: 11\",\"Pred: 100, Actual: 100, Error: nan\",\"Pred: 110, Actual: 100, Error: nan\",\"Pred: 120, Actual: 100, Error: nan\",\"Pred: 130, Actual: 100, Error: nan\",\"Pred: 140, Actual: 100, Error: nan\",\"Pred: 150, Actual: 100, Error: nan\",\"Pred: 160, Actual: 100, Error: nan\",\"Pred: 170, Actual: 100, Error: nan\",\"Pred: 180, Actual: 100, Error: nan\",\"Pred: 190, Actual: 100, Error: nan\",\"Pred: 200, Actual: 100, Error: nan\",\"Pred: 210, Actual: 100, Error: nan\",\"Pred: 220, Actual: 100, Error: nan\",\"Pred: 230, Actual: 100, Error: nan\",\"Pred: 240, Actual: 100, Error: nan\",\"Pred: 250, Actual: 100, Error: nan\",\"Pred: 260, Actual: 100, Error: nan\",\"Pred: 270, Actual: 100, Error: nan\",\"Pred: 280, Actual: 100, Error: nan\",\"Pred: 290, Actual: 100, Error: nan\",\"Pred: 300, Actual: 100, Error: nan\",\"Pred: 310, Actual: 100, Error: nan\",\"Pred: 320, Actual: 100, Error: nan\",\"Pred: 330, Actual: 100, Error: nan\",\"Pred: 340, Actual: 100, Error: nan\",\"Pred: 350, Actual: 100, Error: nan\",\"Pred: 360, Actual: 100, Error: nan\",\"Pred: 370, Actual: 100, Error: nan\",\"Pred: 380, Actual: 100, Error: nan\",\"Pred: 390, Actual: 100, Error: nan\",\"Pred: 400, Actual: 100, Error: nan\",\"Pred: 410, Actual: 100, Error: nan\",\"Pred: 420, Actual: 100, Error: nan\",\"Pred: 430, Actual: 100, Error: nan\",\"Pred: 440, Actual: 100, Error: nan\",\"Pred: 450, Actual: 100, Error: nan\",\"Pred: 460, Actual: 100, Error: nan\",\"Pred: 470, Actual: 100, Error: nan\",\"Pred: 480, Actual: 100, Error: nan\",\"Pred: 490, Actual: 100, Error: nan\"],\"x\":[-200.0,-190.0,-180.0,-170.0,-160.0,-150.0,-140.0,-130.0,-120.0,-110.0,-100.0,-90.0,-80.0,-70.0,-60.0,-50.0,-40.0,-30.0,-20.0,-10.0,null,null,null,null,null,null,null,null,null,null,null,null,null,null,null,null,null,null,null,null,null,null,null,null,null,null,null,null,null,null,null,null,null,null,null,null,null,null,null,null],\"y\":[200,200,200,200,200,200,200,200,200,200,200,164,133,108,86,67,50,35,22,11,null,null,null,null,null,null,null,null,null,null,null,null,null,null,null,null,null,null,null,null,null,null,null,null,null,null,null,null,null,null,null,null,null,null,null,null,null,null,null,null],\"type\":\"scatter\"}],\"layout\":{\"template\":{\"data\":{\"barpolar\":[{\"marker\":{\"line\":{\"color\":\"white\",\"width\":0.5},\"pattern\":{\"fillmode\":\"overlay\",\"size\":10,\"solidity\":0.2}},\"type\":\"barpolar\"}],\"bar\":[{\"error_x\":{\"color\":\"#2a3f5f\"},\"error_y\":{\"color\":\"#2a3f5f\"},\"marker\":{\"line\":{\"color\":\"white\",\"width\":0.5},\"pattern\":{\"fillmode\":\"overlay\",\"size\":10,\"solidity\":0.2}},\"type\":\"bar\"}],\"carpet\":[{\"aaxis\":{\"endlinecolor\":\"#2a3f5f\",\"gridcolor\":\"#C8D4E3\",\"linecolor\":\"#C8D4E3\",\"minorgridcolor\":\"#C8D4E3\",\"startlinecolor\":\"#2a3f5f\"},\"baxis\":{\"endlinecolor\":\"#2a3f5f\",\"gridcolor\":\"#C8D4E3\",\"linecolor\":\"#C8D4E3\",\"minorgridcolor\":\"#C8D4E3\",\"startlinecolor\":\"#2a3f5f\"},\"type\":\"carpet\"}],\"choropleth\":[{\"colorbar\":{\"outlinewidth\":0,\"ticks\":\"\"},\"type\":\"choropleth\"}],\"contourcarpet\":[{\"colorbar\":{\"outlinewidth\":0,\"ticks\":\"\"},\"type\":\"contourcarpet\"}],\"contour\":[{\"colorbar\":{\"outlinewidth\":0,\"ticks\":\"\"},\"colorscale\":[[0.0,\"#0d0887\"],[0.1111111111111111,\"#46039f\"],[0.2222222222222222,\"#7201a8\"],[0.3333333333333333,\"#9c179e\"],[0.4444444444444444,\"#bd3786\"],[0.5555555555555556,\"#d8576b\"],[0.6666666666666666,\"#ed7953\"],[0.7777777777777778,\"#fb9f3a\"],[0.8888888888888888,\"#fdca26\"],[1.0,\"#f0f921\"]],\"type\":\"contour\"}],\"heatmapgl\":[{\"colorbar\":{\"outlinewidth\":0,\"ticks\":\"\"},\"colorscale\":[[0.0,\"#0d0887\"],[0.1111111111111111,\"#46039f\"],[0.2222222222222222,\"#7201a8\"],[0.3333333333333333,\"#9c179e\"],[0.4444444444444444,\"#bd3786\"],[0.5555555555555556,\"#d8576b\"],[0.6666666666666666,\"#ed7953\"],[0.7777777777777778,\"#fb9f3a\"],[0.8888888888888888,\"#fdca26\"],[1.0,\"#f0f921\"]],\"type\":\"heatmapgl\"}],\"heatmap\":[{\"colorbar\":{\"outlinewidth\":0,\"ticks\":\"\"},\"colorscale\":[[0.0,\"#0d0887\"],[0.1111111111111111,\"#46039f\"],[0.2222222222222222,\"#7201a8\"],[0.3333333333333333,\"#9c179e\"],[0.4444444444444444,\"#bd3786\"],[0.5555555555555556,\"#d8576b\"],[0.6666666666666666,\"#ed7953\"],[0.7777777777777778,\"#fb9f3a\"],[0.8888888888888888,\"#fdca26\"],[1.0,\"#f0f921\"]],\"type\":\"heatmap\"}],\"histogram2dcontour\":[{\"colorbar\":{\"outlinewidth\":0,\"ticks\":\"\"},\"colorscale\":[[0.0,\"#0d0887\"],[0.1111111111111111,\"#46039f\"],[0.2222222222222222,\"#7201a8\"],[0.3333333333333333,\"#9c179e\"],[0.4444444444444444,\"#bd3786\"],[0.5555555555555556,\"#d8576b\"],[0.6666666666666666,\"#ed7953\"],[0.7777777777777778,\"#fb9f3a\"],[0.8888888888888888,\"#fdca26\"],[1.0,\"#f0f921\"]],\"type\":\"histogram2dcontour\"}],\"histogram2d\":[{\"colorbar\":{\"outlinewidth\":0,\"ticks\":\"\"},\"colorscale\":[[0.0,\"#0d0887\"],[0.1111111111111111,\"#46039f\"],[0.2222222222222222,\"#7201a8\"],[0.3333333333333333,\"#9c179e\"],[0.4444444444444444,\"#bd3786\"],[0.5555555555555556,\"#d8576b\"],[0.6666666666666666,\"#ed7953\"],[0.7777777777777778,\"#fb9f3a\"],[0.8888888888888888,\"#fdca26\"],[1.0,\"#f0f921\"]],\"type\":\"histogram2d\"}],\"histogram\":[{\"marker\":{\"pattern\":{\"fillmode\":\"overlay\",\"size\":10,\"solidity\":0.2}},\"type\":\"histogram\"}],\"mesh3d\":[{\"colorbar\":{\"outlinewidth\":0,\"ticks\":\"\"},\"type\":\"mesh3d\"}],\"parcoords\":[{\"line\":{\"colorbar\":{\"outlinewidth\":0,\"ticks\":\"\"}},\"type\":\"parcoords\"}],\"pie\":[{\"automargin\":true,\"type\":\"pie\"}],\"scatter3d\":[{\"line\":{\"colorbar\":{\"outlinewidth\":0,\"ticks\":\"\"}},\"marker\":{\"colorbar\":{\"outlinewidth\":0,\"ticks\":\"\"}},\"type\":\"scatter3d\"}],\"scattercarpet\":[{\"marker\":{\"colorbar\":{\"outlinewidth\":0,\"ticks\":\"\"}},\"type\":\"scattercarpet\"}],\"scattergeo\":[{\"marker\":{\"colorbar\":{\"outlinewidth\":0,\"ticks\":\"\"}},\"type\":\"scattergeo\"}],\"scattergl\":[{\"marker\":{\"colorbar\":{\"outlinewidth\":0,\"ticks\":\"\"}},\"type\":\"scattergl\"}],\"scattermapbox\":[{\"marker\":{\"colorbar\":{\"outlinewidth\":0,\"ticks\":\"\"}},\"type\":\"scattermapbox\"}],\"scatterpolargl\":[{\"marker\":{\"colorbar\":{\"outlinewidth\":0,\"ticks\":\"\"}},\"type\":\"scatterpolargl\"}],\"scatterpolar\":[{\"marker\":{\"colorbar\":{\"outlinewidth\":0,\"ticks\":\"\"}},\"type\":\"scatterpolar\"}],\"scatter\":[{\"fillpattern\":{\"fillmode\":\"overlay\",\"size\":10,\"solidity\":0.2},\"type\":\"scatter\"}],\"scatterternary\":[{\"marker\":{\"colorbar\":{\"outlinewidth\":0,\"ticks\":\"\"}},\"type\":\"scatterternary\"}],\"surface\":[{\"colorbar\":{\"outlinewidth\":0,\"ticks\":\"\"},\"colorscale\":[[0.0,\"#0d0887\"],[0.1111111111111111,\"#46039f\"],[0.2222222222222222,\"#7201a8\"],[0.3333333333333333,\"#9c179e\"],[0.4444444444444444,\"#bd3786\"],[0.5555555555555556,\"#d8576b\"],[0.6666666666666666,\"#ed7953\"],[0.7777777777777778,\"#fb9f3a\"],[0.8888888888888888,\"#fdca26\"],[1.0,\"#f0f921\"]],\"type\":\"surface\"}],\"table\":[{\"cells\":{\"fill\":{\"color\":\"#EBF0F8\"},\"line\":{\"color\":\"white\"}},\"header\":{\"fill\":{\"color\":\"#C8D4E3\"},\"line\":{\"color\":\"white\"}},\"type\":\"table\"}]},\"layout\":{\"annotationdefaults\":{\"arrowcolor\":\"#2a3f5f\",\"arrowhead\":0,\"arrowwidth\":1},\"autotypenumbers\":\"strict\",\"coloraxis\":{\"colorbar\":{\"outlinewidth\":0,\"ticks\":\"\"}},\"colorscale\":{\"diverging\":[[0,\"#8e0152\"],[0.1,\"#c51b7d\"],[0.2,\"#de77ae\"],[0.3,\"#f1b6da\"],[0.4,\"#fde0ef\"],[0.5,\"#f7f7f7\"],[0.6,\"#e6f5d0\"],[0.7,\"#b8e186\"],[0.8,\"#7fbc41\"],[0.9,\"#4d9221\"],[1,\"#276419\"]],\"sequential\":[[0.0,\"#0d0887\"],[0.1111111111111111,\"#46039f\"],[0.2222222222222222,\"#7201a8\"],[0.3333333333333333,\"#9c179e\"],[0.4444444444444444,\"#bd3786\"],[0.5555555555555556,\"#d8576b\"],[0.6666666666666666,\"#ed7953\"],[0.7777777777777778,\"#fb9f3a\"],[0.8888888888888888,\"#fdca26\"],[1.0,\"#f0f921\"]],\"sequentialminus\":[[0.0,\"#0d0887\"],[0.1111111111111111,\"#46039f\"],[0.2222222222222222,\"#7201a8\"],[0.3333333333333333,\"#9c179e\"],[0.4444444444444444,\"#bd3786\"],[0.5555555555555556,\"#d8576b\"],[0.6666666666666666,\"#ed7953\"],[0.7777777777777778,\"#fb9f3a\"],[0.8888888888888888,\"#fdca26\"],[1.0,\"#f0f921\"]]},\"colorway\":[\"#636efa\",\"#EF553B\",\"#00cc96\",\"#ab63fa\",\"#FFA15A\",\"#19d3f3\",\"#FF6692\",\"#B6E880\",\"#FF97FF\",\"#FECB52\"],\"font\":{\"color\":\"#2a3f5f\"},\"geo\":{\"bgcolor\":\"white\",\"lakecolor\":\"white\",\"landcolor\":\"white\",\"showlakes\":true,\"showland\":true,\"subunitcolor\":\"#C8D4E3\"},\"hoverlabel\":{\"align\":\"left\"},\"hovermode\":\"closest\",\"mapbox\":{\"style\":\"light\"},\"paper_bgcolor\":\"white\",\"plot_bgcolor\":\"white\",\"polar\":{\"angularaxis\":{\"gridcolor\":\"#EBF0F8\",\"linecolor\":\"#EBF0F8\",\"ticks\":\"\"},\"bgcolor\":\"white\",\"radialaxis\":{\"gridcolor\":\"#EBF0F8\",\"linecolor\":\"#EBF0F8\",\"ticks\":\"\"}},\"scene\":{\"xaxis\":{\"backgroundcolor\":\"white\",\"gridcolor\":\"#DFE8F3\",\"gridwidth\":2,\"linecolor\":\"#EBF0F8\",\"showbackground\":true,\"ticks\":\"\",\"zerolinecolor\":\"#EBF0F8\"},\"yaxis\":{\"backgroundcolor\":\"white\",\"gridcolor\":\"#DFE8F3\",\"gridwidth\":2,\"linecolor\":\"#EBF0F8\",\"showbackground\":true,\"ticks\":\"\",\"zerolinecolor\":\"#EBF0F8\"},\"zaxis\":{\"backgroundcolor\":\"white\",\"gridcolor\":\"#DFE8F3\",\"gridwidth\":2,\"linecolor\":\"#EBF0F8\",\"showbackground\":true,\"ticks\":\"\",\"zerolinecolor\":\"#EBF0F8\"}},\"shapedefaults\":{\"line\":{\"color\":\"#2a3f5f\"}},\"ternary\":{\"aaxis\":{\"gridcolor\":\"#DFE8F3\",\"linecolor\":\"#A2B1C6\",\"ticks\":\"\"},\"baxis\":{\"gridcolor\":\"#DFE8F3\",\"linecolor\":\"#A2B1C6\",\"ticks\":\"\"},\"bgcolor\":\"white\",\"caxis\":{\"gridcolor\":\"#DFE8F3\",\"linecolor\":\"#A2B1C6\",\"ticks\":\"\"}},\"title\":{\"x\":0.05},\"xaxis\":{\"automargin\":true,\"gridcolor\":\"#EBF0F8\",\"linecolor\":\"#EBF0F8\",\"ticks\":\"\",\"title\":{\"standoff\":15},\"zerolinecolor\":\"#EBF0F8\",\"zerolinewidth\":2},\"yaxis\":{\"automargin\":true,\"gridcolor\":\"#EBF0F8\",\"linecolor\":\"#EBF0F8\",\"ticks\":\"\",\"title\":{\"standoff\":15},\"zerolinecolor\":\"#EBF0F8\",\"zerolinewidth\":2}}},\"title\":{\"text\":\"Impact on Over- and Under-Prediction for a Fixed Actual Value of 100\",\"x\":0.5,\"font\":{\"size\":16,\"family\":\"\\\"Segoe UI\\\", \\\"Roboto\\\", \\\"Oxygen\\\", \\\"Ubuntu\\\", \\\"Droid Sans\\\", \\\"Helvetica Neue\\\", sans-serif\",\"weight\":\"bold\"}},\"font\":{\"size\":14,\"family\":\"\\\"Segoe UI\\\", \\\"Roboto\\\", \\\"Oxygen\\\", \\\"Ubuntu\\\", \\\"Droid Sans\\\", \\\"Helvetica Neue\\\", sans-serif\"},\"xaxis\":{\"title\":{\"text\":\"Difference between Predicted and Actual Values\"},\"tickmode\":\"array\",\"gridcolor\":\"lightgrey\"},\"yaxis\":{\"title\":{\"text\":\"Error\"},\"gridcolor\":\"lightgrey\",\"zeroline\":true,\"zerolinecolor\":\"black\",\"zerolinewidth\":1},\"showlegend\":false,\"plot_bgcolor\":\"rgba(240, 240, 240, 0.95)\"}}\n",
      "                )\n",
      "            };\n",
      "        </script>\n",
      "    </div>\n",
      "    \n"
     ]
    }
   ],
   "source": [
    "html_str = plot_error_single_value_symmetry(symmetric_percentage_error)\n",
    "print(html_str)"
   ]
  }
 ],
 "metadata": {
  "kernelspec": {
   "display_name": "env",
   "language": "python",
   "name": "python3"
  },
  "language_info": {
   "codemirror_mode": {
    "name": "ipython",
    "version": 3
   },
   "file_extension": ".py",
   "mimetype": "text/x-python",
   "name": "python",
   "nbconvert_exporter": "python",
   "pygments_lexer": "ipython3",
   "version": "3.12.5"
  }
 },
 "nbformat": 4,
 "nbformat_minor": 2
}
